{
 "cells": [
  {
   "cell_type": "code",
   "execution_count": 1,
   "id": "1f66c4f5-3f6f-46a6-82a8-1e9cc88a9812",
   "metadata": {},
   "outputs": [
    {
     "data": {
      "text/plain": [
       "'/Users/dmarx/proj/ComfyUI'"
      ]
     },
     "execution_count": 1,
     "metadata": {},
     "output_type": "execute_result"
    }
   ],
   "source": [
    "pwd"
   ]
  },
  {
   "cell_type": "code",
   "execution_count": 7,
   "id": "72eb5229-6929-4f3a-8def-da748b5d4285",
   "metadata": {},
   "outputs": [],
   "source": [
    "from copy import deepcopy\n",
    "from colorsys import rgb_to_hls\n",
    "from PIL import Image\n",
    "import json\n",
    "#from urllib import request, parse\n",
    "import random\n",
    "import requests\n",
    "from pathlib import Path\n",
    "import uuid\n",
    "import numpy as np\n",
    "from colorspacious import cspace_convert, cspace_converter\n",
    "import sklearn\n",
    "from sklearn.cluster import KMeans"
   ]
  },
  {
   "cell_type": "code",
   "execution_count": 3,
   "id": "c6a7a05e-0594-4905-bb1c-eb70315578be",
   "metadata": {},
   "outputs": [],
   "source": [
    "def queue_prompt(prompt):\n",
    "    p = {\"prompt\": prompt, \"client_id\": client_id}\n",
    "    data = json.dumps(p).encode('utf-8')\n",
    "    req =  urllib.request.Request(\"http://{}/prompt\".format(server_address), data=data)\n",
    "    return json.loads(urllib.request.urlopen(req).read())\n",
    "\n",
    "def get_image(filename, subfolder, folder_type):\n",
    "    data = {\"filename\": filename, \"subfolder\": subfolder, \"type\": folder_type}\n",
    "    url_values = urllib.parse.urlencode(data)\n",
    "    with urllib.request.urlopen(\"http://{}/view?{}\".format(server_address, url_values)) as response:\n",
    "        return response.read()\n",
    "\n",
    "def get_history(prompt_id):\n",
    "    with urllib.request.urlopen(\"http://{}/history/{}\".format(server_address, prompt_id)) as response:\n",
    "        return json.loads(response.read())"
   ]
  },
  {
   "cell_type": "code",
   "execution_count": 4,
   "id": "e24c4dba-4c8a-49f4-ba5b-734299ef5239",
   "metadata": {},
   "outputs": [
    {
     "name": "stderr",
     "output_type": "stream",
     "text": [
      "/Users/dmarx/proj/ComfyUI/_venv/lib/python3.9/site-packages/urllib3/__init__.py:34: NotOpenSSLWarning: urllib3 v2.0 only supports OpenSSL 1.1.1+, currently the 'ssl' module is compiled with 'LibreSSL 2.8.3'. See: https://github.com/urllib3/urllib3/issues/3020\n",
      "  warnings.warn(\n"
     ]
    }
   ],
   "source": [
    "\n",
    "\n",
    "server_address = \"127.0.0.1:8188\"\n",
    "client_id = str(uuid.uuid4())\n",
    "\n",
    "\n",
    "#workflow_name = \"face-palette_v0.4\"\n",
    "workflow_name = \"workflow_api\"\n",
    "\n",
    "def load_workflow(\n",
    "    workflow_name, \n",
    "    #comfy_root = Path('/Users/dmarx/proj/ComfyUI'),\n",
    "    #workflow_root = comfy_root / \"pysssss-workflows\",\n",
    "    workflow_root=Path('/Users/dmarx/Downloads')\n",
    "):\n",
    "    fp_workflow = workflow_root / f\"{workflow_name}.json\"\n",
    "    with open(fp_workflow) as f:\n",
    "        return json.load(f)\n",
    "\n",
    "workflow = load_workflow(workflow_name)"
   ]
  },
  {
   "cell_type": "code",
   "execution_count": 5,
   "id": "43fc32d7-818e-40eb-a868-5969f54e32f1",
   "metadata": {},
   "outputs": [
    {
     "name": "stdout",
     "output_type": "stream",
     "text": [
      "{'inputs': {'seed': 930292204097952, 'steps': 18, 'cfg': 5, 'sampler_name': 'dpmpp_2m', 'scheduler': 'normal', 'denoise': 1, 'model': ['67', 0], 'positive': ['157', 0], 'negative': ['157', 1], 'latent_image': ['5', 0]}, 'class_type': 'KSampler'}\n"
     ]
    }
   ],
   "source": [
    "def get_node_by_properties(workflow, node_properties):\n",
    "    nodes = workflow.get('nodes', workflow.values())\n",
    "    for node in nodes:\n",
    "        if all(node.get(k) == v for k,v in node_properties.items()):\n",
    "            return node\n",
    "\n",
    "def get_prompt_node(workflow):\n",
    "    return get_node_by_properties(workflow, {'class_type':'CLIPTextEncode', 'color': '#232'})\n",
    "\n",
    "def set_seed(workflow, seed):\n",
    "    sampler = get_node_by_properties(workflow, {'class_type':'KSampler'})\n",
    "    print(sampler)\n",
    "    #sampler['widgets_values'][0] = seed\n",
    "    sampler['inputs']['seed'] = seed\n",
    "\n",
    "set_seed(workflow,42)\n",
    "#get_node_by_properties(workflow, {'type':'KSampler'})\n",
    "\n",
    "#prompt_node = get_prompt_node(workflow)\n",
    "#prompt_node"
   ]
  },
  {
   "cell_type": "code",
   "execution_count": 6,
   "id": "8e74ee15-ae6e-425d-900e-2af1df016450",
   "metadata": {},
   "outputs": [
    {
     "name": "stdout",
     "output_type": "stream",
     "text": [
      "{'inputs': {'seed': 42, 'steps': 18, 'cfg': 5, 'sampler_name': 'dpmpp_2m', 'scheduler': 'normal', 'denoise': 1, 'model': ['67', 0], 'positive': ['157', 0], 'negative': ['157', 1], 'latent_image': ['5', 0]}, 'class_type': 'KSampler'}\n"
     ]
    },
    {
     "data": {
      "text/plain": [
       "'2d859c5d-5f55-429b-906a-083c2a8ded18'"
      ]
     },
     "execution_count": 6,
     "metadata": {},
     "output_type": "execute_result"
    }
   ],
   "source": [
    "#ok, now we good.\n",
    "# 1. workflow needs to be in API format\n",
    "# 2. needs to be a POST request\n",
    "\n",
    "set_seed(workflow,44)\n",
    "\n",
    "payload = dict(\n",
    "    prompt=workflow,\n",
    "    client_id=client_id,\n",
    ")\n",
    "#payload = json.dumps(workflow)\n",
    "payload = json.dumps(payload).encode('utf-8')\n",
    "\n",
    "submit_url = f\"http://{server_address}/prompt\"\n",
    "history_url = f\"http://{server_address}/history\"\n",
    "\n",
    "\n",
    "\n",
    "\n",
    "response = requests.post(submit_url, data=payload)\n",
    "response\n",
    "\n",
    "prompt_id = response.json()['prompt_id']\n",
    "prompt_id"
   ]
  },
  {
   "cell_type": "code",
   "execution_count": 116,
   "id": "e24aae29-9c2b-4dfc-9efe-a9e0cf8021a6",
   "metadata": {},
   "outputs": [
    {
     "data": {
      "text/plain": [
       "{'prompt_id': '2a46eaa1-8eb6-4139-bd7e-4712641a3e4d',\n",
       " 'number': 14,\n",
       " 'node_errors': {}}"
      ]
     },
     "execution_count": 116,
     "metadata": {},
     "output_type": "execute_result"
    }
   ],
   "source": [
    "# # oh. that actually worked this time.\n",
    "\n",
    "# def queue_prompt(prompt):\n",
    "#     p = {\"prompt\": prompt}\n",
    "#     data = json.dumps(p).encode('utf-8')\n",
    "#     req =  request.Request(\"http://127.0.0.1:8188/prompt\", data=data)\n",
    "#     response = request.urlopen(req)\n",
    "#     return response\n",
    "\n",
    "response.json()"
   ]
  },
  {
   "cell_type": "code",
   "execution_count": 109,
   "id": "9e10ea3d-3e4e-4dbb-ba9d-628c2a992669",
   "metadata": {},
   "outputs": [
    {
     "data": {
      "text/plain": [
       "<http.client.HTTPResponse at 0x28e070a00>"
      ]
     },
     "execution_count": 109,
     "metadata": {},
     "output_type": "execute_result"
    }
   ],
   "source": [
    "response"
   ]
  },
  {
   "cell_type": "code",
   "execution_count": 119,
   "id": "78da00f1-0a07-4cb0-8009-3fd0c216cadf",
   "metadata": {
    "collapsed": true,
    "jupyter": {
     "outputs_hidden": true
    }
   },
   "outputs": [
    {
     "data": {
      "text/plain": [
       "{'prompt': [51,\n",
       "  '1f70be60-06df-468f-b5f9-e4fb786bcc9f',\n",
       "  {'3': {'inputs': {'seed': 44,\n",
       "     'steps': 18,\n",
       "     'cfg': 5.0,\n",
       "     'sampler_name': 'dpmpp_2m',\n",
       "     'scheduler': 'normal',\n",
       "     'denoise': 1.0,\n",
       "     'model': ['67', 0],\n",
       "     'positive': ['157', 0],\n",
       "     'negative': ['157', 1],\n",
       "     'latent_image': ['5', 0]},\n",
       "    'class_type': 'KSampler'},\n",
       "   '4': {'inputs': {'ckpt_name': 'CyberRealistic_/cyberrealistic_v31.safetensors'},\n",
       "    'class_type': 'CheckpointLoaderSimple'},\n",
       "   '5': {'inputs': {'width': 576, 'height': 576, 'batch_size': 1},\n",
       "    'class_type': 'EmptyLatentImage'},\n",
       "   '8': {'inputs': {'samples': ['3', 0], 'vae': ['4', 2]},\n",
       "    'class_type': 'VAEDecode'},\n",
       "   '27': {'inputs': {'text': 'hat, drawing, nude, nsfw, text, watermark, mutated, deformed, grotesque, confusing, retarded, amputee stump, asian, strong legs, anorexic, detached limb, extra limbs, anal, weird legs, trap, polydactyl, prolapsed, jowls',\n",
       "     'clip': ['59', 0]},\n",
       "    'class_type': 'CLIPTextEncode'},\n",
       "   '54': {'inputs': {'text': 'caitlin hale', 'clip': ['59', 0]},\n",
       "    'class_type': 'CLIPTextEncode'},\n",
       "   '59': {'inputs': {'stop_at_clip_layer': -1, 'clip': ['4', 1]},\n",
       "    'class_type': 'CLIPSetLastLayer'},\n",
       "   '61': {'inputs': {'images': ['8', 0]}, 'class_type': 'PreviewImage'},\n",
       "   '67': {'inputs': {'b1': 1.0,\n",
       "     'b2': 1.0,\n",
       "     's1': 1.0,\n",
       "     's2': 1.0,\n",
       "     'model': ['4', 0]},\n",
       "    'class_type': 'FreeU'},\n",
       "   '68': {'inputs': {'text': 'hair',\n",
       "     'blur': 0,\n",
       "     'threshold': 0.4,\n",
       "     'dilation_factor': 4,\n",
       "     'image': ['8', 0]},\n",
       "    'class_type': 'CLIPSeg'},\n",
       "   '72': {'inputs': {'images': ['68', 1]}, 'class_type': 'PreviewImage'},\n",
       "   '73': {'inputs': {'images': ['68', 2]}, 'class_type': 'PreviewImage'},\n",
       "   '74': {'inputs': {'text': 'face',\n",
       "     'blur': 0,\n",
       "     'threshold': 0.5,\n",
       "     'dilation_factor': 1,\n",
       "     'image': ['8', 0]},\n",
       "    'class_type': 'CLIPSeg'},\n",
       "   '75': {'inputs': {'images': ['74', 1]}, 'class_type': 'PreviewImage'},\n",
       "   '76': {'inputs': {'images': ['74', 2]}, 'class_type': 'PreviewImage'},\n",
       "   '81': {'inputs': {'x': 0,\n",
       "     'y': 0,\n",
       "     'resize_source': False,\n",
       "     'destination': ['254', 0],\n",
       "     'source': ['8', 0],\n",
       "     'mask': ['253', 0]},\n",
       "    'class_type': 'ImageCompositeMasked'},\n",
       "   '83': {'inputs': {'detection_hint': 'center-1',\n",
       "     'dilation': 0,\n",
       "     'threshold': 0.93,\n",
       "     'bbox_expansion': 0,\n",
       "     'mask_hint_threshold': 0.7,\n",
       "     'mask_hint_use_negative': 'False',\n",
       "     'sam_model': ['92', 0],\n",
       "     'segs': ['89', 0],\n",
       "     'image': ['8', 0]},\n",
       "    'class_type': 'SAMDetectorSegmented'},\n",
       "   '89': {'inputs': {'combined': False,\n",
       "     'crop_factor': 3.0,\n",
       "     'bbox_fill': False,\n",
       "     'drop_size': 10,\n",
       "     'mask': ['253', 0]},\n",
       "    'class_type': 'MaskToSEGS'},\n",
       "   '90': {'inputs': {'mask': ['83', 0]}, 'class_type': 'MaskToImage'},\n",
       "   '91': {'inputs': {'images': ['90', 0]}, 'class_type': 'PreviewImage'},\n",
       "   '92': {'inputs': {'model_name': 'sam_vit_b_01ec64.pth',\n",
       "     'device_mode': 'CPU'},\n",
       "    'class_type': 'SAMLoader'},\n",
       "   '93': {'inputs': {'combined': False,\n",
       "     'crop_factor': 3.0,\n",
       "     'bbox_fill': False,\n",
       "     'drop_size': 10,\n",
       "     'mask': ['74', 0]},\n",
       "    'class_type': 'MaskToSEGS'},\n",
       "   '94': {'inputs': {'detection_hint': 'center-1',\n",
       "     'dilation': 0,\n",
       "     'threshold': 0.93,\n",
       "     'bbox_expansion': 0,\n",
       "     'mask_hint_threshold': 0.7,\n",
       "     'mask_hint_use_negative': 'False',\n",
       "     'sam_model': ['92', 0],\n",
       "     'segs': ['93', 0],\n",
       "     'image': ['8', 0]},\n",
       "    'class_type': 'SAMDetectorSegmented'},\n",
       "   '95': {'inputs': {'mask': ['94', 0]}, 'class_type': 'MaskToImage'},\n",
       "   '96': {'inputs': {'images': ['95', 0]}, 'class_type': 'PreviewImage'},\n",
       "   '97': {'inputs': {'x': 0,\n",
       "     'y': 0,\n",
       "     'resize_source': False,\n",
       "     'destination': ['259', 0],\n",
       "     'source': ['8', 0],\n",
       "     'mask': ['263', 0]},\n",
       "    'class_type': 'ImageCompositeMasked'},\n",
       "   '98': {'inputs': {'images': ['97', 0]}, 'class_type': 'PreviewImage'},\n",
       "   '100': {'inputs': {'mask': ['102', 0]}, 'class_type': 'MaskToImage'},\n",
       "   '101': {'inputs': {'images': ['100', 0]}, 'class_type': 'PreviewImage'},\n",
       "   '102': {'inputs': {'masks_a': ['83', 0], 'masks_b': ['94', 0]},\n",
       "    'class_type': 'Masks Subtract'},\n",
       "   '103': {'inputs': {'colors': 16, 'mode': 'Chart', 'image': ['97', 0]},\n",
       "    'class_type': 'Image Color Palette'},\n",
       "   '104': {'inputs': {'images': ['103', 0]}, 'class_type': 'PreviewImage'},\n",
       "   '126': {'inputs': {'colors': 16, 'mode': 'Chart', 'image': ['171', 0]},\n",
       "    'class_type': 'Image Color Palette'},\n",
       "   '127': {'inputs': {'images': ['126', 0]}, 'class_type': 'PreviewImage'},\n",
       "   '154': {'inputs': {'image': 'ComfyUI_OpenPose_154.png',\n",
       "     '': '{\\n    \"width\": 512,\\n    \"height\": 512,\\n    \"keypoints\": [\\n        [\\n            [\\n                249.32002670009192,\\n                304.5527000319454\\n            ],\\n            [\\n                248.36101381142387,\\n                541.4746939640528\\n            ],\\n            [\\n                102.05707471527566,\\n                535.6896394970374\\n            ],\\n            [\\n                61.091971768354114,\\n                723.7039096750443\\n            ],\\n            [\\n                20.126868821432566,\\n                923.2882887870826\\n            ],\\n            [\\n                415.14750438103306,\\n                535.6896394970374\\n            ],\\n            [\\n                470.7430012375694,\\n                720.8113824415366\\n            ],\\n            [\\n                514.634182966414,\\n                903.0405981525279\\n            ],\\n            [\\n                201.5437533006565,\\n                891.4704892184967\\n            ],\\n            [\\n                166.4308079175809,\\n                1232.7887027724173\\n            ],\\n            [\\n                172.28296548142683,\\n                1507.578789955658\\n            ],\\n            [\\n                333.21729848718996,\\n                888.577961984989\\n            ],\\n            [\\n                368.3302438702656,\\n                1235.681230005925\\n            ],\\n            [\\n                380.03455899795745,\\n                1513.363844422674\\n            ],\\n            [\\n                163.51971273510625,\\n                207.14560673527694\\n            ],\\n            [\\n                309.9558157401615,\\n                209.19847327986383\\n            ],\\n            [\\n                145.5066910904967,\\n                278.0728878732982\\n            ],\\n            [\\n                342.6019282298797,\\n                280.180630426063\\n            ]\\n        ]\\n    ]\\n}',\n",
       "     'open editor': 'image'},\n",
       "    'class_type': 'Nui.OpenPoseEditor'},\n",
       "   '156': {'inputs': {'control_net_name': 'control_v11f1p_sd15_openpose.pth'},\n",
       "    'class_type': 'ControlNetLoader'},\n",
       "   '157': {'inputs': {'strength': 0.7000000000000001,\n",
       "     'start_percent': 0.0,\n",
       "     'end_percent': 1.0,\n",
       "     'positive': ['54', 0],\n",
       "     'negative': ['27', 0],\n",
       "     'control_net': ['156', 0],\n",
       "     'image': ['154', 0]},\n",
       "    'class_type': 'ControlNetApplyAdvanced'},\n",
       "   '168': {'inputs': {'masks_a': ['94', 0], 'masks_b': ['195', 0]},\n",
       "    'class_type': 'Masks Subtract'},\n",
       "   '169': {'inputs': {'mask': ['168', 0]}, 'class_type': 'MaskToImage'},\n",
       "   '170': {'inputs': {'images': ['169', 0]}, 'class_type': 'PreviewImage'},\n",
       "   '171': {'inputs': {'x': 0,\n",
       "     'y': 0,\n",
       "     'resize_source': False,\n",
       "     'destination': ['169', 0],\n",
       "     'source': ['8', 0],\n",
       "     'mask': ['168', 0]},\n",
       "    'class_type': 'ImageCompositeMasked'},\n",
       "   '172': {'inputs': {'images': ['171', 0]}, 'class_type': 'PreviewImage'},\n",
       "   '178': {'inputs': {'images': ['196', 0]}, 'class_type': 'PreviewImage'},\n",
       "   '181': {'inputs': {'images': ['126', 0]}, 'class_type': 'PreviewImage'},\n",
       "   '182': {'inputs': {'images': ['103', 0]}, 'class_type': 'PreviewImage'},\n",
       "   '190': {'inputs': {'images': ['8', 0]}, 'class_type': 'PreviewImage'},\n",
       "   '193': {'inputs': {'crop_factor': 3.0,\n",
       "     'bbox_fill': False,\n",
       "     'crop_min_size': 50,\n",
       "     'drop_size': 1,\n",
       "     'dilation': 0,\n",
       "     'face': False,\n",
       "     'mouth': True,\n",
       "     'left_eyebrow': True,\n",
       "     'left_eye': True,\n",
       "     'left_pupil': False,\n",
       "     'right_eyebrow': True,\n",
       "     'right_eye': True,\n",
       "     'right_pupil': False,\n",
       "     'image': ['194', 0]},\n",
       "    'class_type': 'MediaPipeFaceMeshToSEGS'},\n",
       "   '194': {'inputs': {'max_faces': 10,\n",
       "     'min_confidence': 0.5,\n",
       "     'resolution': 576,\n",
       "     'image': ['8', 0]},\n",
       "    'class_type': 'MediaPipe-FaceMeshPreprocessor'},\n",
       "   '195': {'inputs': {'segs': ['193', 0]}, 'class_type': 'SegsToCombinedMask'},\n",
       "   '196': {'inputs': {'mask': ['195', 0]}, 'class_type': 'MaskToImage'},\n",
       "   '206': {'inputs': {'images': ['171', 0]}, 'class_type': 'PreviewImage'},\n",
       "   '222': {'inputs': {'crop_factor': 3.0,\n",
       "     'bbox_fill': False,\n",
       "     'crop_min_size': 50,\n",
       "     'drop_size': 1,\n",
       "     'dilation': 0,\n",
       "     'face': False,\n",
       "     'mouth': False,\n",
       "     'left_eyebrow': False,\n",
       "     'left_eye': False,\n",
       "     'left_pupil': True,\n",
       "     'right_eyebrow': False,\n",
       "     'right_eye': False,\n",
       "     'right_pupil': False,\n",
       "     'image': ['194', 0]},\n",
       "    'class_type': 'MediaPipeFaceMeshToSEGS'},\n",
       "   '223': {'inputs': {'segs': ['222', 0]}, 'class_type': 'SegsToCombinedMask'},\n",
       "   '224': {'inputs': {'dilation': 5, 'mask': ['288', 0]},\n",
       "    'class_type': 'ImpactDilateMask'},\n",
       "   '225': {'inputs': {'mask': ['292', 0]}, 'class_type': 'MaskToImage'},\n",
       "   '226': {'inputs': {'images': ['225', 0]}, 'class_type': 'PreviewImage'},\n",
       "   '227': {'inputs': {'x': 0,\n",
       "     'y': 0,\n",
       "     'resize_source': False,\n",
       "     'destination': ['225', 0],\n",
       "     'source': ['8', 0],\n",
       "     'mask': ['292', 0]},\n",
       "    'class_type': 'ImageCompositeMasked'},\n",
       "   '228': {'inputs': {'images': ['227', 0]}, 'class_type': 'PreviewImage'},\n",
       "   '229': {'inputs': {'colors': 16, 'mode': 'Chart', 'image': ['227', 0]},\n",
       "    'class_type': 'Image Color Palette'},\n",
       "   '230': {'inputs': {'images': ['229', 0]}, 'class_type': 'PreviewImage'},\n",
       "   '231': {'inputs': {'images': ['229', 0]}, 'class_type': 'PreviewImage'},\n",
       "   '236': {'inputs': {'images': ['154', 0]}, 'class_type': 'PreviewImage'},\n",
       "   '246': {'inputs': {'mask': ['102', 0]}, 'class_type': 'InvertMask'},\n",
       "   '247': {'inputs': {'dilation': 50, 'mask': ['246', 0]},\n",
       "    'class_type': 'ImpactDilateMask'},\n",
       "   '248': {'inputs': {'mask': ['247', 0]}, 'class_type': 'InvertMask'},\n",
       "   '249': {'inputs': {'mask': ['248', 0]}, 'class_type': 'MaskToImage'},\n",
       "   '250': {'inputs': {'images': ['249', 0]}, 'class_type': 'PreviewImage'},\n",
       "   '251': {'inputs': {'mask': ['68', 0]}, 'class_type': 'InvertMask'},\n",
       "   '252': {'inputs': {'dilation': 50, 'mask': ['251', 0]},\n",
       "    'class_type': 'ImpactDilateMask'},\n",
       "   '253': {'inputs': {'mask': ['252', 0]}, 'class_type': 'InvertMask'},\n",
       "   '254': {'inputs': {'mask': ['253', 0]}, 'class_type': 'MaskToImage'},\n",
       "   '255': {'inputs': {'images': ['254', 0]}, 'class_type': 'PreviewImage'},\n",
       "   '256': {'inputs': {'images': ['81', 0]}, 'class_type': 'PreviewImage'},\n",
       "   '259': {'inputs': {'mask': ['263', 0]}, 'class_type': 'MaskToImage'},\n",
       "   '260': {'inputs': {'images': ['259', 0]}, 'class_type': 'PreviewImage'},\n",
       "   '261': {'inputs': {'masks_a': ['252', 0], 'masks_b': ['247', 0]},\n",
       "    'class_type': 'Masks Add'},\n",
       "   '262': {'inputs': {'mask': ['261', 0]}, 'class_type': 'InvertMask'},\n",
       "   '263': {'inputs': {'threshold': 20, 'mask': ['262', 0]},\n",
       "    'class_type': 'ToBinaryMask'},\n",
       "   '264': {'inputs': {'images': ['97', 0]}, 'class_type': 'PreviewImage'},\n",
       "   '266': {'inputs': {'image1': ['103', 0], 'image2': ['126', 0]},\n",
       "    'class_type': 'ImageBatch'},\n",
       "   '267': {'inputs': {'image1': ['266', 0], 'image2': ['329', 0]},\n",
       "    'class_type': 'ImageBatch'},\n",
       "   '268': {'inputs': {'border_width': 0,\n",
       "     'number_of_columns': 1,\n",
       "     'max_cell_size': 64,\n",
       "     'border_red': 0,\n",
       "     'border_green': 0,\n",
       "     'border_blue': 0,\n",
       "     'images': ['267', 0]},\n",
       "    'class_type': 'Create Grid Image from Batch'},\n",
       "   '269': {'inputs': {'images': ['268', 0]}, 'class_type': 'PreviewImage'},\n",
       "   '285': {'inputs': {'mask': ['223', 0]}, 'class_type': 'MaskToImage'},\n",
       "   '287': {'inputs': {'blur_radius': 2, 'sigma': 7.0, 'image': ['285', 0]},\n",
       "    'class_type': 'ImageBlur'},\n",
       "   '288': {'inputs': {'channel': 'red', 'image': ['295', 0]},\n",
       "    'class_type': 'ImageToMask'},\n",
       "   '289': {'inputs': {'images': ['295', 0]}, 'class_type': 'PreviewImage'},\n",
       "   '290': {'inputs': {'sharpen_radius': 10,\n",
       "     'sigma': 2.0,\n",
       "     'alpha': 1.0,\n",
       "     'image': ['287', 0]},\n",
       "    'class_type': 'ImageSharpen'},\n",
       "   '292': {'inputs': {'threshold': 20, 'mask': ['293', 0]},\n",
       "    'class_type': 'ToBinaryMask'},\n",
       "   '293': {'inputs': {'dilation': 3, 'mask': ['224', 0]},\n",
       "    'class_type': 'ImpactDilateMask'},\n",
       "   '294': {'inputs': {'blur_radius': 2, 'sigma': 7.0, 'image': ['290', 0]},\n",
       "    'class_type': 'ImageBlur'},\n",
       "   '295': {'inputs': {'sharpen_radius': 10,\n",
       "     'sigma': 2.0,\n",
       "     'alpha': 1.0,\n",
       "     'image': ['294', 0]},\n",
       "    'class_type': 'ImageSharpen'},\n",
       "   '307': {'inputs': {'crop_factor': 3.0,\n",
       "     'bbox_fill': False,\n",
       "     'crop_min_size': 50,\n",
       "     'drop_size': 1,\n",
       "     'dilation': 0,\n",
       "     'face': False,\n",
       "     'mouth': False,\n",
       "     'left_eyebrow': False,\n",
       "     'left_eye': False,\n",
       "     'left_pupil': False,\n",
       "     'right_eyebrow': False,\n",
       "     'right_eye': False,\n",
       "     'right_pupil': True,\n",
       "     'image': ['194', 0]},\n",
       "    'class_type': 'MediaPipeFaceMeshToSEGS'},\n",
       "   '308': {'inputs': {'segs': ['307', 0]}, 'class_type': 'SegsToCombinedMask'},\n",
       "   '309': {'inputs': {'dilation': 5, 'mask': ['318', 0]},\n",
       "    'class_type': 'ImpactDilateMask'},\n",
       "   '310': {'inputs': {'mask': ['321', 0]}, 'class_type': 'MaskToImage'},\n",
       "   '311': {'inputs': {'images': ['310', 0]}, 'class_type': 'PreviewImage'},\n",
       "   '312': {'inputs': {'x': 0,\n",
       "     'y': 0,\n",
       "     'resize_source': False,\n",
       "     'destination': ['310', 0],\n",
       "     'source': ['8', 0],\n",
       "     'mask': ['321', 0]},\n",
       "    'class_type': 'ImageCompositeMasked'},\n",
       "   '313': {'inputs': {'images': ['312', 0]}, 'class_type': 'PreviewImage'},\n",
       "   '314': {'inputs': {'colors': 16, 'mode': 'Chart', 'image': ['312', 0]},\n",
       "    'class_type': 'Image Color Palette'},\n",
       "   '315': {'inputs': {'images': ['314', 0]}, 'class_type': 'PreviewImage'},\n",
       "   '316': {'inputs': {'mask': ['308', 0]}, 'class_type': 'MaskToImage'},\n",
       "   '317': {'inputs': {'blur_radius': 2, 'sigma': 7.0, 'image': ['316', 0]},\n",
       "    'class_type': 'ImageBlur'},\n",
       "   '318': {'inputs': {'channel': 'red', 'image': ['324', 0]},\n",
       "    'class_type': 'ImageToMask'},\n",
       "   '319': {'inputs': {'images': ['324', 0]}, 'class_type': 'PreviewImage'},\n",
       "   '320': {'inputs': {'sharpen_radius': 10,\n",
       "     'sigma': 2.0,\n",
       "     'alpha': 1.0,\n",
       "     'image': ['317', 0]},\n",
       "    'class_type': 'ImageSharpen'},\n",
       "   '321': {'inputs': {'threshold': 20, 'mask': ['322', 0]},\n",
       "    'class_type': 'ToBinaryMask'},\n",
       "   '322': {'inputs': {'dilation': 3, 'mask': ['309', 0]},\n",
       "    'class_type': 'ImpactDilateMask'},\n",
       "   '323': {'inputs': {'blur_radius': 2, 'sigma': 7.0, 'image': ['320', 0]},\n",
       "    'class_type': 'ImageBlur'},\n",
       "   '324': {'inputs': {'sharpen_radius': 10,\n",
       "     'sigma': 2.0,\n",
       "     'alpha': 1.0,\n",
       "     'image': ['323', 0]},\n",
       "    'class_type': 'ImageSharpen'},\n",
       "   '328': {'inputs': {'images': ['314', 0]}, 'class_type': 'PreviewImage'},\n",
       "   '329': {'inputs': {'image1': ['229', 0], 'image2': ['314', 0]},\n",
       "    'class_type': 'ImageBatch'},\n",
       "   '347': {'inputs': {'images': ['348', 0]}, 'class_type': 'PreviewImage'},\n",
       "   '348': {'inputs': {'blend_factor': 1.0,\n",
       "     'blend_mode': 'screen',\n",
       "     'image1': ['227', 0],\n",
       "     'image2': ['312', 0]},\n",
       "    'class_type': 'ImageBlend'},\n",
       "   '349': {'inputs': {'filename_prefix': 'ComfyUI', 'images': ['268', 0]},\n",
       "    'class_type': 'SaveImage'}},\n",
       "  {'client_id': 'd2eef0af-853e-491d-ab23-d482e1704473'},\n",
       "  ['255',\n",
       "   '230',\n",
       "   '250',\n",
       "   '206',\n",
       "   '178',\n",
       "   '231',\n",
       "   '96',\n",
       "   '72',\n",
       "   '101',\n",
       "   '349',\n",
       "   '319',\n",
       "   '73',\n",
       "   '181',\n",
       "   '313',\n",
       "   '315',\n",
       "   '228',\n",
       "   '75',\n",
       "   '260',\n",
       "   '311',\n",
       "   '264',\n",
       "   '347',\n",
       "   '328',\n",
       "   '127',\n",
       "   '91',\n",
       "   '104',\n",
       "   '170',\n",
       "   '172',\n",
       "   '226',\n",
       "   '182',\n",
       "   '269',\n",
       "   '98',\n",
       "   '190',\n",
       "   '61',\n",
       "   '76',\n",
       "   '289',\n",
       "   '236',\n",
       "   '256']],\n",
       " 'outputs': {'236': {'images': [{'filename': 'ComfyUI_temp_zcler_00012_.png',\n",
       "     'subfolder': '',\n",
       "     'type': 'temp'}]},\n",
       "  '190': {'images': [{'filename': 'ComfyUI_temp_scthu_00015_.png',\n",
       "     'subfolder': '',\n",
       "     'type': 'temp'}]},\n",
       "  '61': {'images': [{'filename': 'ComfyUI_temp_erbkv_00015_.png',\n",
       "     'subfolder': '',\n",
       "     'type': 'temp'}]},\n",
       "  '72': {'images': [{'filename': 'ComfyUI_temp_bpczs_00015_.png',\n",
       "     'subfolder': '',\n",
       "     'type': 'temp'}]},\n",
       "  '73': {'images': [{'filename': 'ComfyUI_temp_mclyo_00015_.png',\n",
       "     'subfolder': '',\n",
       "     'type': 'temp'}]},\n",
       "  '75': {'images': [{'filename': 'ComfyUI_temp_ycyyv_00015_.png',\n",
       "     'subfolder': '',\n",
       "     'type': 'temp'}]},\n",
       "  '76': {'images': [{'filename': 'ComfyUI_temp_yjppq_00015_.png',\n",
       "     'subfolder': '',\n",
       "     'type': 'temp'}]},\n",
       "  '96': {'images': [{'filename': 'ComfyUI_temp_rvlgp_00015_.png',\n",
       "     'subfolder': '',\n",
       "     'type': 'temp'}]},\n",
       "  '178': {'images': [{'filename': 'ComfyUI_temp_mnura_00019_.png',\n",
       "     'subfolder': '',\n",
       "     'type': 'temp'}]},\n",
       "  '170': {'images': [{'filename': 'ComfyUI_temp_mvdji_00019_.png',\n",
       "     'subfolder': '',\n",
       "     'type': 'temp'}]},\n",
       "  '172': {'images': [{'filename': 'ComfyUI_temp_mtfia_00019_.png',\n",
       "     'subfolder': '',\n",
       "     'type': 'temp'}]},\n",
       "  '206': {'images': [{'filename': 'ComfyUI_temp_hlvni_00019_.png',\n",
       "     'subfolder': '',\n",
       "     'type': 'temp'}]},\n",
       "  '127': {'images': [{'filename': 'ComfyUI_temp_pyeld_00019_.png',\n",
       "     'subfolder': '',\n",
       "     'type': 'temp'}]},\n",
       "  '181': {'images': [{'filename': 'ComfyUI_temp_rnmtt_00019_.png',\n",
       "     'subfolder': '',\n",
       "     'type': 'temp'}]},\n",
       "  '255': {'images': [{'filename': 'ComfyUI_temp_prnpp_00015_.png',\n",
       "     'subfolder': '',\n",
       "     'type': 'temp'}]},\n",
       "  '256': {'images': [{'filename': 'ComfyUI_temp_tpxps_00015_.png',\n",
       "     'subfolder': '',\n",
       "     'type': 'temp'}]},\n",
       "  '91': {'images': [{'filename': 'ComfyUI_temp_gpdka_00015_.png',\n",
       "     'subfolder': '',\n",
       "     'type': 'temp'}]},\n",
       "  '101': {'images': [{'filename': 'ComfyUI_temp_yfpir_00015_.png',\n",
       "     'subfolder': '',\n",
       "     'type': 'temp'}]},\n",
       "  '250': {'images': [{'filename': 'ComfyUI_temp_xojtn_00015_.png',\n",
       "     'subfolder': '',\n",
       "     'type': 'temp'}]},\n",
       "  '260': {'images': [{'filename': 'ComfyUI_temp_apgcy_00015_.png',\n",
       "     'subfolder': '',\n",
       "     'type': 'temp'}]},\n",
       "  '264': {'images': [{'filename': 'ComfyUI_temp_zeaeo_00015_.png',\n",
       "     'subfolder': '',\n",
       "     'type': 'temp'}]},\n",
       "  '98': {'images': [{'filename': 'ComfyUI_temp_ygqrq_00015_.png',\n",
       "     'subfolder': '',\n",
       "     'type': 'temp'}]},\n",
       "  '104': {'images': [{'filename': 'ComfyUI_temp_lfard_00015_.png',\n",
       "     'subfolder': '',\n",
       "     'type': 'temp'}]},\n",
       "  '182': {'images': [{'filename': 'ComfyUI_temp_qxykn_00015_.png',\n",
       "     'subfolder': '',\n",
       "     'type': 'temp'}]},\n",
       "  '289': {'images': [{'filename': 'ComfyUI_temp_kksqd_00016_.png',\n",
       "     'subfolder': '',\n",
       "     'type': 'temp'}]},\n",
       "  '226': {'images': [{'filename': 'ComfyUI_temp_jvllh_00020_.png',\n",
       "     'subfolder': '',\n",
       "     'type': 'temp'}]},\n",
       "  '228': {'images': [{'filename': 'ComfyUI_temp_alyba_00020_.png',\n",
       "     'subfolder': '',\n",
       "     'type': 'temp'}]},\n",
       "  '230': {'images': [{'filename': 'ComfyUI_temp_amdpk_00020_.png',\n",
       "     'subfolder': '',\n",
       "     'type': 'temp'}]},\n",
       "  '231': {'images': [{'filename': 'ComfyUI_temp_ktpki_00020_.png',\n",
       "     'subfolder': '',\n",
       "     'type': 'temp'}]},\n",
       "  '319': {'images': [{'filename': 'ComfyUI_temp_xxouz_00003_.png',\n",
       "     'subfolder': '',\n",
       "     'type': 'temp'}]},\n",
       "  '311': {'images': [{'filename': 'ComfyUI_temp_hgocb_00003_.png',\n",
       "     'subfolder': '',\n",
       "     'type': 'temp'}]},\n",
       "  '313': {'images': [{'filename': 'ComfyUI_temp_jjkpj_00003_.png',\n",
       "     'subfolder': '',\n",
       "     'type': 'temp'}]},\n",
       "  '315': {'images': [{'filename': 'ComfyUI_temp_teury_00003_.png',\n",
       "     'subfolder': '',\n",
       "     'type': 'temp'}]},\n",
       "  '328': {'images': [{'filename': 'ComfyUI_temp_uhhip_00003_.png',\n",
       "     'subfolder': '',\n",
       "     'type': 'temp'}]},\n",
       "  '347': {'images': [{'filename': 'ComfyUI_temp_drpnp_00003_.png',\n",
       "     'subfolder': '',\n",
       "     'type': 'temp'}]},\n",
       "  '269': {'images': [{'filename': 'ComfyUI_temp_zsrij_00024_.png',\n",
       "     'subfolder': '',\n",
       "     'type': 'temp'}]},\n",
       "  '349': {'images': [{'filename': 'ComfyUI_00039_.png',\n",
       "     'subfolder': '',\n",
       "     'type': 'output'}]}}}"
      ]
     },
     "execution_count": 119,
     "metadata": {},
     "output_type": "execute_result"
    }
   ],
   "source": [
    "history_url = f\"http://{server_address}/history\"\n",
    "requests.get(history_url).json()[prompt_id]\n",
    "# to do: given prompt_id, get filenames for generated image and inferred masks"
   ]
  },
  {
   "cell_type": "code",
   "execution_count": 155,
   "id": "ef5e04da-7abf-4ca5-a13d-5b1918f6b8c6",
   "metadata": {},
   "outputs": [
    {
     "data": {
      "image/png": "[encoded data removed]",
      "text/plain": [
       "<PIL.Image.Image image mode=RGB size=64x256>"
      ]
     },
     "execution_count": 155,
     "metadata": {},
     "output_type": "execute_result"
    }
   ],
   "source": [
    "palette = Image.open(\"output/ComfyUI_00039_.png\")\n",
    "mini_palette = palette.resize((4,16), Image.Resampling.NEAREST)\n",
    "mini_palette.resize((64, 256), Image.Resampling.NEAREST)"
   ]
  },
  {
   "cell_type": "code",
   "execution_count": 158,
   "id": "0bba82d1-b629-4799-b370-4bfb9184bcb1",
   "metadata": {},
   "outputs": [
    {
     "data": {
      "text/plain": [
       "array([[  0,  14,  12,  13],\n",
       "       [  9,  11,  13,  13],\n",
       "       [ 10,  14,  12,  14],\n",
       "       [ 12,  12,  13,  14],\n",
       "       [  0,   9,  12,  19],\n",
       "       [  9,  10,  14,  20],\n",
       "       [  8,  11,  16,  20],\n",
       "       [  9,  11,  18,  21],\n",
       "       [  0, 128, 131, 129],\n",
       "       [127, 140, 134, 129],\n",
       "       [133, 132, 128, 128],\n",
       "       [133, 129, 129, 132],\n",
       "       [  0, 137, 130, 131],\n",
       "       [127, 132, 130, 129],\n",
       "       [127, 132, 129, 129],\n",
       "       [127, 132, 128, 130]], dtype=uint8)"
      ]
     },
     "execution_count": 158,
     "metadata": {},
     "output_type": "execute_result"
    }
   ],
   "source": [
    "#from PIL import ImageColor\n",
    "#dir(ImageColor)\n",
    "#palette.convert('HSL') # well. fml.\n",
    "palette_hsv = mini_palette.convert('HSV')\n",
    "\n",
    "\n",
    "np.array(palette_hsv).shape # 16 4 3\n",
    "np.array(palette_hsv)[:,:,0]"
   ]
  },
  {
   "cell_type": "code",
   "execution_count": 354,
   "id": "b4dfbb62-61af-426c-8995-7df046a85622",
   "metadata": {},
   "outputs": [],
   "source": [
    "# https://github.com/CairX/convert-colors-py/blob/master/convcolors/__init__.py\n",
    "\n",
    "x = np.array([[[.01,.02,.03],[.04,.05,.06]]])\n",
    "#print(x.shape)\n",
    "\n",
    "def _pivot_rgb_to_xyz(x):\n",
    "    idx0 = np.where(x<=0.04045)\n",
    "    idx1 = np.where(x>0.04045)\n",
    "    x[idx0] = x[idx0] / 12.92\n",
    "    x[idx1] = np.power( (x[idx1] + 0.055) / 1.055, 2.4)\n",
    "    return x\n",
    "\n",
    "\n",
    "def _pivot_xyz_to_rgb(x):\n",
    "    idx0 = np.where(x<=0.0031308)\n",
    "    idx1 = np.where(x>0.0031308)\n",
    "    x[idx0] = x[idx0] * 12.92\n",
    "    x[idx1] = (np.power(x[idx1], 0.4166666)  * 1.055) - 0.055\n",
    "    return x\n",
    "    \n",
    "def _pivot_xyz_to_lab(x):\n",
    "    # if value > 0.008856:\n",
    "    #     value = math.pow(value, 0.3333333)\n",
    "    # else:\n",
    "    #     value = ((value * 903.3) + 16.0) / 116.0\n",
    "    # return value\n",
    "    idx0 = np.where(x<=0.008856)\n",
    "    idx1 = np.where(x>0.008856)\n",
    "    x[idx0] = ((x[idx0] * 903.3) + 16.0) / 116.0\n",
    "    #x[idx1] = np.power(x[idx1], 1/3)\n",
    "    x[idx1] = np.power(x[idx1], 0.3333333)\n",
    "    return x\n",
    "\n",
    "\n",
    "def rgb_to_xyz(rgb):\n",
    "    rgb = rgb / 255\n",
    "    rgb = _pivot_rgb_to_xyz(rgb)\n",
    "    M = np.array([ \n",
    "         [ 0.4124564 , 0.3575761 , 0.1804375],\n",
    "         [ 0.2126729 , 0.7151522 , 0.0721750],\n",
    "         [ 0.0193339 , 0.1191920 , 0.9503041]])\n",
    "    xyz = rgb @ M.T\n",
    "    return xyz*100\n",
    "\n",
    "\n",
    "def xyz_to_rgb(xyz):\n",
    "    xyz = xyz / 100\n",
    "    M = np.array([\n",
    "        [3.2404542 , -1.5371385 , -0.4985314],\n",
    "        [-0.9692660 , 1.8760108 , 0.0415560],\n",
    "        [0.0556434 , -0.2040259 , 1.0572252]])\n",
    "    rgb = xyz @ M.T\n",
    "    rgb = _pivot_xyz_to_rgb(rgb)\n",
    "    return rgb * 255\n",
    "\n",
    "################################################\n",
    "\n",
    "def xyz_to_lab(xyz):\n",
    "    # x = xyz[0] / 95.047\n",
    "    # y = xyz[1] / 100.000\n",
    "    # z = xyz[2] / 108.883\n",
    "    xyz = xyz / np.array([95.047, 100, 108.883])\n",
    "    #print(xyz)\n",
    "    \n",
    "    # x = _pivot_xyz_to_lab(x)\n",
    "    # y = _pivot_xyz_to_lab(y)\n",
    "    # z = _pivot_xyz_to_lab(z)\n",
    "\n",
    "    xyz = _pivot_xyz_to_lab(xyz) # pretty sure this is working correctly...\n",
    "    #print(xyz)\n",
    "    # l = max(0.0, (116.0 * y) - 16.0)\n",
    "    # a = (x - y) * 500.0\n",
    "    # b = (y - z) * 200.0\n",
    "    x,y,z = xyz[:,:,0], xyz[:,:,1], xyz[:,:,2]\n",
    "    #print(y)\n",
    "    l = np.fmax(0.0, (116.0 * y) - 16.0)\n",
    "    #print(l)\n",
    "    a = (x - y) * 500.0\n",
    "    b = (y - z) * 200.0\n",
    "\n",
    "    # return l, a, b\n",
    "    lab= np.array([l,a,b])\n",
    "    lab = lab.reshape(*xyz.shape)\n",
    "    return lab\n",
    "\n",
    "################################################\n",
    "\n",
    "\n",
    "def lab_to_xyz(lab):\n",
    "    # l = lab[0]\n",
    "    # a = lab[1]\n",
    "    # b = lab[2]\n",
    "    l, a, b = lab[:,:, 0], lab[:,:, 1], lab[:,:, 2]\n",
    "\n",
    "    # # Reminder: The y values is calculated first as it can be reused\n",
    "    # # for the calculation of x and z.\n",
    "    y = (l + 16.0) / 116.0\n",
    "    x = y + (a / 500.0)\n",
    "    z = y - (b / 200.0)\n",
    "    \n",
    "\n",
    "    x3 = x * x * x\n",
    "    y3 = y * y * y\n",
    "    z3 = z * z * z\n",
    "\n",
    "    # x = x3 if x3 > 0.008856 else ((x * 116.0) - 16.0) / 903.3\n",
    "    #print(x3.shape)\n",
    "    x_idx0 = np.where(x3 > 0.008856)\n",
    "    #print(x_idx0.shape)\n",
    "    #print(x_idx0)\n",
    "    x_idx1 = np.where(x3 <= 0.008856)\n",
    "    x[x_idx0] = x3[x_idx0]\n",
    "    x[x_idx1] = ((x[x_idx1] * 116.0) - 16.0) / 903.3\n",
    "\n",
    "    # y = (y * y * y) if l > 7.9996248 else l / 903.3\n",
    "    y_idx0 = np.where(l > 7.9996248)\n",
    "    y_idx1 = np.where(l <= 7.9996248)\n",
    "    y[y_idx0] = y3[y_idx0]\n",
    "    y[y_idx1] = l[y_idx1] / 903.3\n",
    "\n",
    "    # z = z3 if z3 > 0.008856 else ((z * 116.0) - 16.0) / 903.3\n",
    "    z_idx0 = np.where(z3 > 0.008856)\n",
    "    z_idx1 = np.where(z3 <= 0.008856)\n",
    "    z[z_idx0] = z3[z_idx0]\n",
    "    z[z_idx1] = ((z[z_idx1] * 116.0) - 16.0) / 903.3\n",
    "\n",
    "\n",
    "    x = x * 95.047\n",
    "    y = y * 100.000\n",
    "    z = z * 108.883\n",
    "\n",
    "    # return x, y, z\n",
    "    xyz = np.array([x,y,z]).reshape(*lab.shape)\n",
    "    return xyz\n",
    "\n",
    "\n",
    "################################################\n",
    "\n",
    "def rgb_to_lab(rgb):\n",
    "    \"\"\"\n",
    "    Convert tuple from the sRGB color space to the CIE L*a*b* color space.\n",
    "    Shorthand method for chaining sRGB => CIE XYZ => CIE L*a*b*.\n",
    "    \"\"\"\n",
    "    return xyz_to_lab(rgb_to_xyz(rgb))\n",
    "\n",
    "\n",
    "def lab_to_rgb(lab):\n",
    "    \"\"\"\n",
    "    Convert tuple from the CIE L*a*b* color space to the sRGB color space.\n",
    "    Shorthand method for chaining CIE L*a*b* => CIE XYZ  => sRGB.\n",
    "    \"\"\"\n",
    "    return xyz_to_rgb(lab_to_xyz(lab))\n",
    "\n",
    "\n",
    "\n",
    "################################################\n",
    "\n",
    "\n",
    "#rgb_to_xyz(x)\n",
    "#rgb_to_xyz(np.array([.01,.02,.03])) # works\n",
    "#rgb_to_xyz(np.array([.04,.05,.06])) # works\n",
    "#rgb_to_xyz(x) # ok, we're good.\n",
    "#xyz_to_rgb(rgb_to_xyz(x)) # solid\n",
    "#x = np.array([10,20,30])\n",
    "#rgb_to_xyz(x)\n",
    "#_pivot_rgb_to_xyz(x/255)\n",
    "#xyz_to_rgb(lab_to_xyz(xyz_to_lab(rgb_to_xyz(x)))) # hmmm...\n",
    "#lab_to_rgb(rgb_to_lab(np.array([[[10,20,30]]])))\n",
    "\n",
    "#x = np.array([[[10,20,30]]])\n",
    "#xyz = rgb_to_xyz(x)\n",
    "#print(xyz)\n",
    "\n",
    "#rgb_to_lab(x) # hmm\n",
    "#rgb_to_xyz(x) # looking good\n",
    "#xyz_to_lab(rgb_to_xyz(x)) # now we good\n",
    "#x = np.array([[[0.6095933860277597, 0.6585352982817426, 1.32303093997125]]])\n",
    "#xyz_to_lab(x)"
   ]
  },
  {
   "cell_type": "code",
   "execution_count": 12,
   "id": "acc2d4d1-ea36-46eb-a4a4-971c6edef9b4",
   "metadata": {},
   "outputs": [],
   "source": [
    "face_mask = Image.open(\"output/face-mask_00001_.png\")\n",
    "mask = np.array(face_mask.convert(\"L\")) #.shape # .max() # 255\n",
    "boolean_mask = mask > 200"
   ]
  },
  {
   "cell_type": "code",
   "execution_count": 401,
   "id": "cf9856fd-d953-4332-9bea-7236037fbdea",
   "metadata": {},
   "outputs": [
    {
     "data": {
      "text/plain": [
       "(69512, 262264)"
      ]
     },
     "execution_count": 401,
     "metadata": {},
     "output_type": "execute_result"
    }
   ],
   "source": [
    "(mask > 200).sum(), (mask < 200).sum(), "
   ]
  },
  {
   "cell_type": "code",
   "execution_count": 13,
   "id": "03031fb5-933f-408d-adbb-be2ad9dddd8f",
   "metadata": {},
   "outputs": [
    {
     "data": {
      "image/png": "[encoded data removed]",
      "text/plain": [
       "<PIL.PngImagePlugin.PngImageFile image mode=RGB size=576x576>"
      ]
     },
     "execution_count": 13,
     "metadata": {},
     "output_type": "execute_result"
    }
   ],
   "source": [
    "face_mask"
   ]
  },
  {
   "cell_type": "code",
   "execution_count": 15,
   "id": "ca435e3f-fef4-4355-9f0e-164a747e9632",
   "metadata": {},
   "outputs": [],
   "source": [
    "face_masked = Image.open(\"output/face-masked_00001_.png\")\n",
    "face_masked_rgb = np.array(face_masked)\n",
    "#face_masked_cielab = rgb_to_lab(face_masked_rgb)\n",
    "#face_colors = face_masked_cielab[boolean_mask]  #.shape # (69512, 3)"
   ]
  },
  {
   "cell_type": "code",
   "execution_count": 395,
   "id": "5d74c227-576e-40c1-8d3d-429d66f44aae",
   "metadata": {},
   "outputs": [
    {
     "data": {
      "text/plain": [
       "(69512, 3)"
      ]
     },
     "execution_count": 395,
     "metadata": {},
     "output_type": "execute_result"
    }
   ],
   "source": [
    "face_colors.shape # 69512, 3"
   ]
  },
  {
   "cell_type": "code",
   "execution_count": 396,
   "id": "57d6d9db-9229-410b-940e-6620032d41ce",
   "metadata": {},
   "outputs": [],
   "source": [
    "mu = face_colors.mean(axis=0)\n",
    "sigma = face_colors.std(axis=0)\n",
    "# mu, sigma"
   ]
  },
  {
   "cell_type": "code",
   "execution_count": 397,
   "id": "2cb4da64-a706-4187-94f5-f34bda707ee7",
   "metadata": {},
   "outputs": [
    {
     "data": {
      "text/plain": [
       "array([[[-9.48231711, -9.52696651, -9.58033195]],\n",
       "\n",
       "       [[ 3.74081748,  3.77490952,  3.79814878]],\n",
       "\n",
       "       [[16.96395208, 17.07678555, 17.17662951]]])"
      ]
     },
     "execution_count": 397,
     "metadata": {},
     "output_type": "execute_result"
    }
   ],
   "source": [
    "face_palette = np.array([\n",
    "    [mu-sigma],\n",
    "    [mu],\n",
    "    [mu+sigma]\n",
    "])\n",
    "face_palette#.shape"
   ]
  },
  {
   "cell_type": "code",
   "execution_count": 390,
   "id": "9311f69e-75c6-49d0-9072-0355f7eff514",
   "metadata": {},
   "outputs": [
    {
     "data": {
      "text/plain": [
       "array([[[-206.30464592,   41.14269481,   49.02050532]],\n",
       "\n",
       "       [[-170.73405421,   37.45373831,   41.67479433]],\n",
       "\n",
       "       [[ -73.76876733,   22.72283582,   22.47787257]]])"
      ]
     },
     "execution_count": 390,
     "metadata": {},
     "output_type": "execute_result"
    }
   ],
   "source": [
    "lab_to_rgb(face_palette) # uh... negative RGB? no bueno"
   ]
  },
  {
   "cell_type": "code",
   "execution_count": 388,
   "id": "5e1d7fd8-95c3-4e0b-9aa8-b9ab82a8f89a",
   "metadata": {},
   "outputs": [
    {
     "data": {
      "text/plain": [
       "array([[[22.78862419, 10.33720704,  4.56371884]]])"
      ]
     },
     "execution_count": 388,
     "metadata": {},
     "output_type": "execute_result"
    }
   ],
   "source": [
    "lab_to_rgb(np.array([[mu]]))"
   ]
  },
  {
   "cell_type": "code",
   "execution_count": 391,
   "id": "1fbb7bf1-f78b-40e5-aaf8-b97cc9c39d51",
   "metadata": {},
   "outputs": [
    {
     "data": {
      "text/plain": [
       "array([[[-70.41469225, -26.2411024 , -11.68156573]]])"
      ]
     },
     "execution_count": 391,
     "metadata": {},
     "output_type": "execute_result"
    }
   ],
   "source": [
    "lab_to_rgb(np.array([[mu-sigma]])) # nonsensical.."
   ]
  },
  {
   "cell_type": "code",
   "execution_count": 392,
   "id": "798d0e8d-6523-486c-a7c5-33540280e706",
   "metadata": {},
   "outputs": [
    {
     "data": {
      "text/plain": [
       "array([[[69.20610431, 30.97651518, 17.77311051]]])"
      ]
     },
     "execution_count": 392,
     "metadata": {},
     "output_type": "execute_result"
    }
   ],
   "source": [
    "lab_to_rgb(np.array([[mu+sigma]])) # nonsensical.."
   ]
  },
  {
   "cell_type": "code",
   "execution_count": 403,
   "id": "dc9f9c10-cc01-4681-944e-3d17917a3eaf",
   "metadata": {},
   "outputs": [
    {
     "name": "stdout",
     "output_type": "stream",
     "text": [
      "Collecting colorspacious\n",
      "  Downloading colorspacious-1.1.2-py2.py3-none-any.whl (37 kB)\n",
      "Requirement already satisfied: numpy in ./_venv/lib/python3.9/site-packages (from colorspacious) (1.23.5)\n",
      "Installing collected packages: colorspacious\n",
      "Successfully installed colorspacious-1.1.2\n",
      "\u001b[33mWARNING: There was an error checking the latest version of pip.\u001b[0m\u001b[33m\n",
      "\u001b[0mNote: you may need to restart the kernel to use updated packages.\n"
     ]
    }
   ],
   "source": [
    "%pip install colorspacious"
   ]
  },
  {
   "cell_type": "markdown",
   "id": "1aa5e4c9-3e7c-4c71-8539-ca2dbcbc654f",
   "metadata": {},
   "source": [
    "# COLORSPACIOUS MAKES SHIT EASIER"
   ]
  },
  {
   "cell_type": "code",
   "execution_count": 10,
   "id": "47467563-3071-4c22-9510-32427ee6bdab",
   "metadata": {},
   "outputs": [],
   "source": [
    "# https://colorspacious.readthedocs.io/en/latest/\n",
    "from colorspacious import cspace_convert, cspace_converter\n"
   ]
  },
  {
   "cell_type": "code",
   "execution_count": 69,
   "id": "2b20a918-23c5-4b03-af29-35ef454f3236",
   "metadata": {},
   "outputs": [
    {
     "data": {
      "text/plain": [
       "array([73.86254922,  7.69678143, 11.56040397])"
      ]
     },
     "execution_count": 69,
     "metadata": {},
     "output_type": "execute_result"
    }
   ],
   "source": [
    "# https://colorspacious.readthedocs.io/en/latest/reference.html#specifying-colorspaces\n",
    "#face_masked_cie = cspace_convert(face_masked_rgb[boolean_mask], \"sRGB255\", \"CIELab\")\n",
    "face_masked_cie = cspace_convert(face_masked_rgb[boolean_mask], \"sRGB255\", \"CIELab\")\n",
    "mu_cielab = face_masked_cie.mean(axis=0) # well, that sure is quite different.\n",
    "mu_cielab"
   ]
  },
  {
   "cell_type": "code",
   "execution_count": 70,
   "id": "5fbdf86a-9212-4991-b28c-68c59e6108db",
   "metadata": {},
   "outputs": [
    {
     "data": {
      "text/plain": [
       "(73.86254921509871, 0.9834020864381342)"
      ]
     },
     "execution_count": 70,
     "metadata": {},
     "output_type": "execute_result"
    }
   ],
   "source": [
    "# https://arxiv.org/pdf/2309.05148.pdf\n",
    "#np.arctan2\n",
    "l,a,b = mu_cielab\n",
    "h = np.arctan(b/a)\n",
    "(l,h)"
   ]
  },
  {
   "cell_type": "code",
   "execution_count": 71,
   "id": "29260c1a-3cd9-44aa-8dbe-7fa6873d26d1",
   "metadata": {},
   "outputs": [
    {
     "data": {
      "text/plain": [
       "0.9834020864381342"
      ]
     },
     "execution_count": 71,
     "metadata": {},
     "output_type": "execute_result"
    }
   ],
   "source": [
    "np.arctan2(b,a) # oh neat, same thing. goody.\n",
    "# next... let's use CIECAM02"
   ]
  },
  {
   "cell_type": "code",
   "execution_count": 72,
   "id": "3a1233b1-fb15-415f-b27f-f996e0f16b5a",
   "metadata": {},
   "outputs": [
    {
     "name": "stdout",
     "output_type": "stream",
     "text": [
      "[204 176 161]\n"
     ]
    }
   ],
   "source": [
    "mu_rgb = cspace_convert(mu_cielab, \"CIELab\", \"sRGB255\")\n",
    "mu_rgb = mu_rgb.round().astype('int')\n",
    "print(mu_rgb)"
   ]
  },
  {
   "cell_type": "code",
   "execution_count": 20,
   "id": "b6038ad8-6e26-425e-8110-9b3b86a8a497",
   "metadata": {},
   "outputs": [
    {
     "data": {
      "image/png": "[encoded data removed]",
      "text/plain": [
       "<PIL.PngImagePlugin.PngImageFile image mode=RGB size=576x576>"
      ]
     },
     "execution_count": 20,
     "metadata": {},
     "output_type": "execute_result"
    }
   ],
   "source": [
    "face_masked"
   ]
  },
  {
   "cell_type": "code",
   "execution_count": 21,
   "id": "c33a886d-2a9f-43da-88ab-ca0ca157005c",
   "metadata": {},
   "outputs": [
    {
     "data": {
      "image/png": "[encoded data removed]",
      "text/plain": [
       "<PIL.PngImagePlugin.PngImageFile image mode=RGB size=576x576>"
      ]
     },
     "execution_count": 21,
     "metadata": {},
     "output_type": "execute_result"
    }
   ],
   "source": [
    "skin_tone = deepcopy(face_masked)\n",
    "skin_tone.paste( tuple(mu_rgb), (0, 0, skin_tone.size[0], skin_tone.size[1]))\n",
    "skin_tone"
   ]
  },
  {
   "cell_type": "code",
   "execution_count": 22,
   "id": "86b24848-a17e-4902-b7ec-54d9ca7fd946",
   "metadata": {},
   "outputs": [],
   "source": [
    "import sklearn\n",
    "from sklearn.cluster import KMeans\n",
    "#sklearn.cluster.KMeans(n_clusters=8, *, init='k-means++', n_init='warn', max_iter=300, tol=0.0001, verbose=0, random_state=None, copy_x=True, algorithm='lloyd')[source]¶"
   ]
  },
  {
   "cell_type": "markdown",
   "id": "4cd10e7f-83cb-4e8c-9bab-ccd11a2d92cd",
   "metadata": {},
   "source": [
    "> We cluster the face skin into five groups and keep the top-3 groups with the highest L∗ to compute the final L∗ and h∗ scalar scores for the image. Such approach is inspired by how human artists would perform value grouping in five different groups when simplifying an image. -- https://arxiv.org/pdf/2309.05148.pdf"
   ]
  },
  {
   "cell_type": "code",
   "execution_count": 23,
   "id": "9ec54ec6-0f00-4f3d-967c-06b2fd02e55d",
   "metadata": {},
   "outputs": [
    {
     "name": "stderr",
     "output_type": "stream",
     "text": [
      "/Users/dmarx/proj/ComfyUI/_venv/lib/python3.9/site-packages/sklearn/cluster/_kmeans.py:1416: FutureWarning: The default value of `n_init` will change from 10 to 'auto' in 1.4. Set the value of `n_init` explicitly to suppress the warning\n",
      "  super()._check_params_vs_input(X, default_n_init=10)\n"
     ]
    }
   ],
   "source": [
    "cluster_model = KMeans(n_clusters=5)\n",
    "y = cluster_model.fit_predict(face_masked_cie)"
   ]
  },
  {
   "cell_type": "code",
   "execution_count": 24,
   "id": "0638dfa4-ad38-42ee-8786-9c09ec58c85b",
   "metadata": {},
   "outputs": [
    {
     "data": {
      "text/plain": [
       "array([21353,  6779, 25310, 13008,  3062])"
      ]
     },
     "execution_count": 24,
     "metadata": {},
     "output_type": "execute_result"
    }
   ],
   "source": [
    "np.bincount(y)"
   ]
  },
  {
   "cell_type": "code",
   "execution_count": 44,
   "id": "3c7feb13-ca36-4b6f-8882-30e5609017d3",
   "metadata": {},
   "outputs": [
    {
     "data": {
      "text/plain": [
       "array([2, 0, 3, 1, 4])"
      ]
     },
     "execution_count": 44,
     "metadata": {},
     "output_type": "execute_result"
    }
   ],
   "source": [
    "np.bincount(y).argsort()[::-1]"
   ]
  },
  {
   "cell_type": "code",
   "execution_count": 25,
   "id": "dd6f519a-beea-4451-a228-1b9fe8cff5f5",
   "metadata": {},
   "outputs": [
    {
     "data": {
      "text/plain": [
       "array([0, 1, 2, 3, 4], dtype=int32)"
      ]
     },
     "execution_count": 25,
     "metadata": {},
     "output_type": "execute_result"
    }
   ],
   "source": [
    "# to do: visualize skin tone by cluster, reported alongside cluster size and luminance\n",
    "class_labels = np.unique(y)\n",
    "class_labels"
   ]
  },
  {
   "cell_type": "code",
   "execution_count": 35,
   "id": "bd53d877-505d-4caf-a321-10e29459962a",
   "metadata": {},
   "outputs": [],
   "source": [
    "from IPython import display"
   ]
  },
  {
   "cell_type": "code",
   "execution_count": 37,
   "id": "3d461b17-aab1-4a33-b90c-6f765d8bd550",
   "metadata": {},
   "outputs": [
    {
     "data": {
      "text/plain": [
       "<function IPython.core.display_functions.display(*objs, include=None, exclude=None, metadata=None, transient=None, display_id=None, raw=False, clear=False, **kwargs)>"
      ]
     },
     "execution_count": 37,
     "metadata": {},
     "output_type": "execute_result"
    }
   ],
   "source": [
    "display.display"
   ]
  },
  {
   "cell_type": "code",
   "execution_count": 40,
   "id": "544c4c5a-eed1-492f-93c3-70b32f2f40d6",
   "metadata": {},
   "outputs": [
    {
     "name": "stdout",
     "output_type": "stream",
     "text": [
      "Help on built-in function sorted in module builtins:\n",
      "\n",
      "sorted(iterable, /, *, key=None, reverse=False)\n",
      "    Return a new list containing all items from the iterable in ascending order.\n",
      "    \n",
      "    A custom key function can be supplied to customize the sort order, and the\n",
      "    reverse flag can be set to request the result in descending order.\n",
      "\n"
     ]
    }
   ],
   "source": [
    "help(sorted)"
   ]
  },
  {
   "cell_type": "code",
   "execution_count": 55,
   "id": "3a497ca0-d755-4a88-84e6-2aeb49adc29a",
   "metadata": {},
   "outputs": [
    {
     "name": "stdout",
     "output_type": "stream",
     "text": [
      "21353\n",
      "(77.9394234330164, 0.9623656211460969)\n"
     ]
    },
    {
     "data": {
      "image/png": "[encoded data removed]",
      "text/plain": [
       "<PIL.Image.Image image mode=RGB size=128x128>"
      ]
     },
     "metadata": {},
     "output_type": "display_data"
    },
    {
     "name": "stdout",
     "output_type": "stream",
     "text": [
      "6779\n",
      "(49.18874284816782, 0.7918441417055355)\n"
     ]
    },
    {
     "data": {
      "image/png": "[encoded data removed]",
      "text/plain": [
       "<PIL.Image.Image image mode=RGB size=128x128>"
      ]
     },
     "metadata": {},
     "output_type": "display_data"
    },
    {
     "name": "stdout",
     "output_type": "stream",
     "text": [
      "25310\n",
      "(86.6476575091326, 1.1922217692221468)\n"
     ]
    },
    {
     "data": {
      "image/png": "[encoded data removed]",
      "text/plain": [
       "<PIL.Image.Image image mode=RGB size=128x128>"
      ]
     },
     "metadata": {},
     "output_type": "display_data"
    },
    {
     "name": "stdout",
     "output_type": "stream",
     "text": [
      "13008\n",
      "(66.46517695899048, 0.835828299936695)\n"
     ]
    },
    {
     "data": {
      "image/png": "[encoded data removed]",
      "text/plain": [
       "<PIL.Image.Image image mode=RGB size=128x128>"
      ]
     },
     "metadata": {},
     "output_type": "display_data"
    },
    {
     "name": "stdout",
     "output_type": "stream",
     "text": [
      "3062\n",
      "(25.803818180325123, 0.7388069791466616)\n"
     ]
    },
    {
     "data": {
      "image/png": "[encoded data removed]",
      "text/plain": [
       "<PIL.Image.Image image mode=RGB size=128x128>"
      ]
     },
     "metadata": {},
     "output_type": "display_data"
    }
   ],
   "source": [
    "#cluster_model.labels_\n",
    "#dir(cluster_model)\n",
    "\n",
    "cluster_metadata = {} # cluster_id:{n, mu_l, mu_h, mu_rgb, skin_tone}\n",
    "\n",
    "for cluster_id in range(cluster_model.n_clusters):\n",
    "    idx = np.where(y==cluster_id)\n",
    "    cluster_members = face_masked_cie[idx]\n",
    "    mu_cluster = cluster_members.mean(axis=0)\n",
    "    l,a,b = mu_cluster\n",
    "    h = np.arctan(b/a)\n",
    "    n = cluster_members.shape[0]\n",
    "    print(n)\n",
    "    #print(mu_cluster)\n",
    "    print((l, h))\n",
    "\n",
    "    mu_rgb = cspace_convert(mu_cluster, \"CIELab\", \"sRGB255\")\n",
    "    mu_rgb = mu_rgb.round().astype('int')\n",
    "\n",
    "    skin_tone = deepcopy(face_masked)\n",
    "    skin_tone.paste( tuple(mu_rgb), (0, 0, skin_tone.size[0], skin_tone.size[1]))\n",
    "    display.display(skin_tone.resize((128,128)))\n",
    "\n",
    "    cluster_metadata[cluster_id]=dict(\n",
    "        cluster_id=cluster_id,\n",
    "        n = n,\n",
    "        l=l,\n",
    "        h=h,\n",
    "        lab=mu_cluster,\n",
    "        rgb=mu_rgb,\n",
    "        skin_tone_image=skin_tone,\n",
    "    )"
   ]
  },
  {
   "cell_type": "code",
   "execution_count": 66,
   "id": "b3eafd08-c61b-4fa8-93d6-98da7ee88853",
   "metadata": {},
   "outputs": [
    {
     "name": "stdout",
     "output_type": "stream",
     "text": [
      "[204 176 161]\n"
     ]
    },
    {
     "data": {
      "image/png": "[encoded data removed]",
      "text/plain": [
       "<PIL.Image.Image image mode=RGB size=128x128>"
      ]
     },
     "metadata": {},
     "output_type": "display_data"
    }
   ],
   "source": [
    "# drop lowest luminance i guess\n",
    "#from operator import itemgetter\n",
    "#sorted(cluster_metadata, key=itemgetter(\"l\"))\n",
    "\n",
    "# fuck it, there's only 5 anyway. don't make it harder than it needs to be.\n",
    "# not gonna be a bottleneck.\n",
    "\n",
    "luminances = [item['l'] for item in cluster_metadata.values()]\n",
    "assert len(luminances) == 5\n",
    "threshold = sorted(luminances)[::-1][-2]\n",
    "keepers = {k:v for k,v in cluster_metadata.items() if v['l'] > threshold}\n",
    "assert len(keepers) == 3\n",
    "\n",
    "total_pixels = sum(v['n'] for v in cluster_metadata.values())\n",
    "total_pixels\n",
    "\n",
    "face_mu_cielab = np.array([0,0,0])\n",
    "for item in cluster_metadata.values():\n",
    "    weight = item['n'] / total_pixels\n",
    "    face_mu_cielab = face_mu_cielab + weight * item['lab']\n",
    "\n",
    "mu_rgb = cspace_convert(face_mu_cielab, \"CIELab\", \"sRGB255\")\n",
    "mu_rgb = mu_rgb.round().astype('int')\n",
    "print(mu_rgb)\n",
    "\n",
    "# this is identical to what we got earlier\n",
    "skin_tone = deepcopy(face_masked)\n",
    "skin_tone.paste( tuple(mu_rgb), (0, 0, skin_tone.size[0], skin_tone.size[1]))\n",
    "display.display(skin_tone.resize((128,128)))"
   ]
  },
  {
   "cell_type": "code",
   "execution_count": 65,
   "id": "c091c4c8-a6c3-43fd-b496-4675010a945b",
   "metadata": {},
   "outputs": [
    {
     "data": {
      "image/png": "[encoded data removed]",
      "text/plain": [
       "<PIL.PngImagePlugin.PngImageFile image mode=RGB size=576x576>"
      ]
     },
     "execution_count": 65,
     "metadata": {},
     "output_type": "execute_result"
    }
   ],
   "source": [
    "face_masked"
   ]
  },
  {
   "cell_type": "code",
   "execution_count": null,
   "id": "376ce061-715e-45ce-acd7-49ebf4372faa",
   "metadata": {},
   "outputs": [],
   "source": [
    "# TO DO:\n",
    "# * save out metadata\n",
    "# * save out estimated face tone as RGB, and <l,h> coordinate\n",
    "# * after scoring a bunch of faces, plot an <l,h> color grid, add level curves to visualize model's racial prior"
   ]
  }
 ],
 "metadata": {
  "kernelspec": {
   "display_name": "Python 3 (ipykernel)",
   "language": "python",
   "name": "python3"
  },
  "language_info": {
   "codemirror_mode": {
    "name": "ipython",
    "version": 3
   },
   "file_extension": ".py",
   "mimetype": "text/x-python",
   "name": "python",
   "nbconvert_exporter": "python",
   "pygments_lexer": "ipython3",
   "version": "3.9.6"
  }
 },
 "nbformat": 4,
 "nbformat_minor": 5
}
