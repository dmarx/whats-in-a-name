{
 "cells": [
  {
   "cell_type": "markdown",
   "id": "535a3903-6ea9-4058-9756-29d06e3e5330",
   "metadata": {},
   "source": [
    "# Name Collection"
   ]
  },
  {
   "cell_type": "code",
   "execution_count": null,
   "id": "66bd1223-46d3-46ed-985d-2f6ebeeb3348",
   "metadata": {
    "tags": []
   },
   "outputs": [],
   "source": [
    "!wget https://raw.githubusercontent.com/ygtxr1997/CelebBasis/main/infer_images/wiki_names.txt"
   ]
  },
  {
   "cell_type": "code",
   "execution_count": null,
   "id": "a3e2e751-760f-4871-8005-a7aa248dc64f",
   "metadata": {
    "tags": []
   },
   "outputs": [],
   "source": [
    "!wget https://raw.githubusercontent.com/ygtxr1997/CelebBasis/main/infer_images/celebs.txt"
   ]
  },
  {
   "cell_type": "code",
   "execution_count": 1,
   "id": "82e400a3-0798-4a0a-98ec-b87fed71823c",
   "metadata": {
    "tags": []
   },
   "outputs": [],
   "source": [
    "from pathlib import Path\n",
    "from diffusers import StableDiffusionPipeline\n",
    "import torch\n",
    "import diffusers\n",
    "import time\n",
    "import torch\n",
    "import matplotlib.pyplot as plt\n",
    "import PIL\n",
    "import numpy as np"
   ]
  },
  {
   "cell_type": "code",
   "execution_count": 9,
   "id": "c93b27f2-0334-4c4a-9a69-318b6e894bf1",
   "metadata": {
    "tags": []
   },
   "outputs": [
    {
     "data": {
      "text/plain": [
       "(107, 110)"
      ]
     },
     "execution_count": 9,
     "metadata": {},
     "output_type": "execute_result"
    }
   ],
   "source": [
    "#with Path('wiki_names.txt').open() as f:\n",
    "with Path('celebs.txt').open() as f:\n",
    "    wiki_names = f.read().split('\\n')\n",
    "\n",
    "len(wiki_names) # 1109\n",
    "\n",
    "first_names = [n for n in set([name.split(' ')[0] for name in wiki_names]) if '.' not in n]\n",
    "last_names = [n for n in set([name.split(' ')[-1] for name in wiki_names]) if '.' not in n]\n",
    "\n",
    "len(first_names), len(last_names)"
   ]
  },
  {
   "cell_type": "markdown",
   "id": "7e9c0699-f679-4c62-a608-a9a2f164a966",
   "metadata": {},
   "source": [
    "# Image Generation"
   ]
  },
  {
   "cell_type": "code",
   "execution_count": 12,
   "id": "20716c2b-585e-4efc-a9cf-9c77f2a910c9",
   "metadata": {
    "tags": []
   },
   "outputs": [
    {
     "name": "stderr",
     "output_type": "stream",
     "text": [
      "unet/diffusion_pytorch_model.safetensors not found\n"
     ]
    },
    {
     "data": {
      "application/vnd.jupyter.widget-view+json": {
       "model_id": "0ac1d6057bc5403d97b0994db9bc3ec6",
       "version_major": 2,
       "version_minor": 0
      },
      "text/plain": [
       "Loading pipeline components...:   0%|          | 0/7 [00:00<?, ?it/s]"
      ]
     },
     "metadata": {},
     "output_type": "display_data"
    },
    {
     "name": "stderr",
     "output_type": "stream",
     "text": [
      "/home/dmarx/.local/lib/python3.10/site-packages/transformers/models/clip/feature_extraction_clip.py:28: FutureWarning: The class CLIPFeatureExtractor is deprecated and will be removed in version 5 of Transformers. Please use CLIPImageProcessor instead.\n",
      "  warnings.warn(\n"
     ]
    }
   ],
   "source": [
    "model_id = \"CompVis/stable-diffusion-v1-4\"\n",
    "\n",
    "pipe = StableDiffusionPipeline.from_pretrained(\n",
    "                model_id,\n",
    "                revision=\"fp16\",\n",
    "                #torch_dtype=torch.float16,\n",
    "                #use_auth_token=True\n",
    "            ).to('cuda')\n",
    "\n",
    "# https://huggingface.co/stabilityai/stable-diffusion-xl-base-1.0/blob/main/scheduler/scheduler_config.json\n",
    "true, false, null = True, False, None\n",
    "pipe.scheduler = diffusers.EulerDiscreteScheduler(\n",
    "    **{\n",
    "      \"beta_end\": 0.012,\n",
    "      \"beta_schedule\": \"scaled_linear\",\n",
    "      \"beta_start\": 0.00085,\n",
    "      \"interpolation_type\": \"linear\",\n",
    "      \"num_train_timesteps\": 1000,\n",
    "      \"prediction_type\": \"epsilon\",\n",
    "      \"steps_offset\": 1,\n",
    "      \"timestep_spacing\": \"leading\",\n",
    "      \"trained_betas\": null,\n",
    "      \"use_karras_sigmas\": false\n",
    "    }\n",
    ")\n",
    "\n",
    "# disable safety checker\n",
    "\n",
    "#pipe.requires_safety_checker=False\n",
    "def passthrough(images, *args, **kargs):\n",
    "    return images, [False for _ in images]\n",
    "pipe.safety_checker = passthrough"
   ]
  },
  {
   "cell_type": "code",
   "execution_count": null,
   "id": "ae7e17bd-ef9f-4afc-aa6d-b568de2fad49",
   "metadata": {
    "tags": []
   },
   "outputs": [],
   "source": [
    "# 1. loop over names\n",
    "# 2. create folder for names\n",
    "# 3. generate images, save to folder\n",
    "# 4. compute CLIP/DINO image embeddings, save to folder\n",
    "\n",
    "# ---\n",
    "\n",
    "# let's start with 10 names and prototype this procedure generally.\n",
    "# an important hyper parameter to start with will be the number of images per name.\n",
    "# let's start by generating an unnecessary number of images for this first group, say 20-100.\n",
    "# then use these to compute our diversity measures, and calibrate how many images we need by how many images it generally takes to get this measure to converge.\n"
   ]
  },
  {
   "cell_type": "code",
   "execution_count": 17,
   "id": "80112b91-0163-4af8-8ddb-ca559d86c833",
   "metadata": {
    "collapsed": true,
    "jupyter": {
     "outputs_hidden": true
    },
    "tags": []
   },
   "outputs": [
    {
     "name": "stdout",
     "output_type": "stream",
     "text": [
      "Rihanna\n",
      "Bolo\n",
      "Ben\n",
      "Oprah\n",
      "Judge\n",
      "Julia\n",
      "Shaquille\n",
      "Keanu\n",
      "Cher\n",
      "Devon\n",
      "Mel\n",
      "BD\n",
      "Lionel\n",
      "Ed\n"
     ]
    },
    {
     "data": {
      "application/vnd.jupyter.widget-view+json": {
       "model_id": "4e1239dde2ce4b2082a7c45ebff240c6",
       "version_major": 2,
       "version_minor": 0
      },
      "text/plain": [
       "  0%|          | 0/25 [00:00<?, ?it/s]"
      ]
     },
     "metadata": {},
     "output_type": "display_data"
    },
    {
     "data": {
      "application/vnd.jupyter.widget-view+json": {
       "model_id": "8a06d49113ce4e2c86fe8e19000a7774",
       "version_major": 2,
       "version_minor": 0
      },
      "text/plain": [
       "  0%|          | 0/25 [00:00<?, ?it/s]"
      ]
     },
     "metadata": {},
     "output_type": "display_data"
    },
    {
     "data": {
      "application/vnd.jupyter.widget-view+json": {
       "model_id": "73646942d7244031b16ff6c686320986",
       "version_major": 2,
       "version_minor": 0
      },
      "text/plain": [
       "  0%|          | 0/25 [00:00<?, ?it/s]"
      ]
     },
     "metadata": {},
     "output_type": "display_data"
    },
    {
     "data": {
      "application/vnd.jupyter.widget-view+json": {
       "model_id": "554d8375e0d14ee49f85fda127c4cd98",
       "version_major": 2,
       "version_minor": 0
      },
      "text/plain": [
       "  0%|          | 0/25 [00:00<?, ?it/s]"
      ]
     },
     "metadata": {},
     "output_type": "display_data"
    },
    {
     "name": "stdout",
     "output_type": "stream",
     "text": [
      "LeBron\n"
     ]
    },
    {
     "data": {
      "application/vnd.jupyter.widget-view+json": {
       "model_id": "f3b720ed78c44471a09e4b121b01f9f1",
       "version_major": 2,
       "version_minor": 0
      },
      "text/plain": [
       "  0%|          | 0/25 [00:00<?, ?it/s]"
      ]
     },
     "metadata": {},
     "output_type": "display_data"
    },
    {
     "data": {
      "application/vnd.jupyter.widget-view+json": {
       "model_id": "cf9213579fc749448eea52d1bd74cffa",
       "version_major": 2,
       "version_minor": 0
      },
      "text/plain": [
       "  0%|          | 0/25 [00:00<?, ?it/s]"
      ]
     },
     "metadata": {},
     "output_type": "display_data"
    },
    {
     "data": {
      "application/vnd.jupyter.widget-view+json": {
       "model_id": "ba74d7081d37434f85760cb544996365",
       "version_major": 2,
       "version_minor": 0
      },
      "text/plain": [
       "  0%|          | 0/25 [00:00<?, ?it/s]"
      ]
     },
     "metadata": {},
     "output_type": "display_data"
    },
    {
     "data": {
      "application/vnd.jupyter.widget-view+json": {
       "model_id": "74590537a78341c78207201f7ca91137",
       "version_major": 2,
       "version_minor": 0
      },
      "text/plain": [
       "  0%|          | 0/25 [00:00<?, ?it/s]"
      ]
     },
     "metadata": {},
     "output_type": "display_data"
    },
    {
     "data": {
      "application/vnd.jupyter.widget-view+json": {
       "model_id": "ac5ec9215ba64f09a6b6ea3061805021",
       "version_major": 2,
       "version_minor": 0
      },
      "text/plain": [
       "  0%|          | 0/25 [00:00<?, ?it/s]"
      ]
     },
     "metadata": {},
     "output_type": "display_data"
    },
    {
     "name": "stdout",
     "output_type": "stream",
     "text": [
      "Parminder\n"
     ]
    },
    {
     "data": {
      "application/vnd.jupyter.widget-view+json": {
       "model_id": "c67cb352497b49dfb67abcd2ae921c64",
       "version_major": 2,
       "version_minor": 0
      },
      "text/plain": [
       "  0%|          | 0/25 [00:00<?, ?it/s]"
      ]
     },
     "metadata": {},
     "output_type": "display_data"
    },
    {
     "data": {
      "application/vnd.jupyter.widget-view+json": {
       "model_id": "9419ff5a8c1841bdb3ea5800e5983264",
       "version_major": 2,
       "version_minor": 0
      },
      "text/plain": [
       "  0%|          | 0/25 [00:00<?, ?it/s]"
      ]
     },
     "metadata": {},
     "output_type": "display_data"
    },
    {
     "data": {
      "application/vnd.jupyter.widget-view+json": {
       "model_id": "0305a85f0a4249e7a1efc1f6dbf42a25",
       "version_major": 2,
       "version_minor": 0
      },
      "text/plain": [
       "  0%|          | 0/25 [00:00<?, ?it/s]"
      ]
     },
     "metadata": {},
     "output_type": "display_data"
    },
    {
     "data": {
      "application/vnd.jupyter.widget-view+json": {
       "model_id": "a71c3c7587a14bfda6ee28a61ad9f6c7",
       "version_major": 2,
       "version_minor": 0
      },
      "text/plain": [
       "  0%|          | 0/25 [00:00<?, ?it/s]"
      ]
     },
     "metadata": {},
     "output_type": "display_data"
    },
    {
     "data": {
      "application/vnd.jupyter.widget-view+json": {
       "model_id": "f28326f5e2384e40977dcd1b05d84459",
       "version_major": 2,
       "version_minor": 0
      },
      "text/plain": [
       "  0%|          | 0/25 [00:00<?, ?it/s]"
      ]
     },
     "metadata": {},
     "output_type": "display_data"
    },
    {
     "name": "stdout",
     "output_type": "stream",
     "text": [
      "David\n",
      "Konnie\n"
     ]
    },
    {
     "data": {
      "application/vnd.jupyter.widget-view+json": {
       "model_id": "8a04baa0c1014218bf0c88b930168b4c",
       "version_major": 2,
       "version_minor": 0
      },
      "text/plain": [
       "  0%|          | 0/25 [00:00<?, ?it/s]"
      ]
     },
     "metadata": {},
     "output_type": "display_data"
    },
    {
     "data": {
      "application/vnd.jupyter.widget-view+json": {
       "model_id": "5e499cd1d07f4287ad7ef503a7d1b1af",
       "version_major": 2,
       "version_minor": 0
      },
      "text/plain": [
       "  0%|          | 0/25 [00:00<?, ?it/s]"
      ]
     },
     "metadata": {},
     "output_type": "display_data"
    },
    {
     "data": {
      "application/vnd.jupyter.widget-view+json": {
       "model_id": "c5293d036b644fa58971a08d75b11b38",
       "version_major": 2,
       "version_minor": 0
      },
      "text/plain": [
       "  0%|          | 0/25 [00:00<?, ?it/s]"
      ]
     },
     "metadata": {},
     "output_type": "display_data"
    },
    {
     "data": {
      "application/vnd.jupyter.widget-view+json": {
       "model_id": "cc0c6737cd944007891277f9a023dd3f",
       "version_major": 2,
       "version_minor": 0
      },
      "text/plain": [
       "  0%|          | 0/25 [00:00<?, ?it/s]"
      ]
     },
     "metadata": {},
     "output_type": "display_data"
    },
    {
     "data": {
      "application/vnd.jupyter.widget-view+json": {
       "model_id": "cc06c94cb87e4eb2ac9a3212959cdb45",
       "version_major": 2,
       "version_minor": 0
      },
      "text/plain": [
       "  0%|          | 0/25 [00:00<?, ?it/s]"
      ]
     },
     "metadata": {},
     "output_type": "display_data"
    },
    {
     "name": "stdout",
     "output_type": "stream",
     "text": [
      "Beyoncé\n",
      "Steven\n"
     ]
    },
    {
     "data": {
      "application/vnd.jupyter.widget-view+json": {
       "model_id": "2e67645961ba489998f871a9e93ea35a",
       "version_major": 2,
       "version_minor": 0
      },
      "text/plain": [
       "  0%|          | 0/25 [00:00<?, ?it/s]"
      ]
     },
     "metadata": {},
     "output_type": "display_data"
    },
    {
     "data": {
      "application/vnd.jupyter.widget-view+json": {
       "model_id": "ff8ea53853714a37ab0bedda8f71c5f3",
       "version_major": 2,
       "version_minor": 0
      },
      "text/plain": [
       "  0%|          | 0/25 [00:00<?, ?it/s]"
      ]
     },
     "metadata": {},
     "output_type": "display_data"
    },
    {
     "data": {
      "application/vnd.jupyter.widget-view+json": {
       "model_id": "71234fbb60d04c14a48bb6573d201297",
       "version_major": 2,
       "version_minor": 0
      },
      "text/plain": [
       "  0%|          | 0/25 [00:00<?, ?it/s]"
      ]
     },
     "metadata": {},
     "output_type": "display_data"
    },
    {
     "data": {
      "application/vnd.jupyter.widget-view+json": {
       "model_id": "96c034b8bef74ee5a6706ee8954d5b93",
       "version_major": 2,
       "version_minor": 0
      },
      "text/plain": [
       "  0%|          | 0/25 [00:00<?, ?it/s]"
      ]
     },
     "metadata": {},
     "output_type": "display_data"
    },
    {
     "data": {
      "application/vnd.jupyter.widget-view+json": {
       "model_id": "529a32a2e65145ec8572fba1fb6a7732",
       "version_major": 2,
       "version_minor": 0
      },
      "text/plain": [
       "  0%|          | 0/25 [00:00<?, ?it/s]"
      ]
     },
     "metadata": {},
     "output_type": "display_data"
    },
    {
     "name": "stdout",
     "output_type": "stream",
     "text": [
      "Rick\n"
     ]
    },
    {
     "data": {
      "application/vnd.jupyter.widget-view+json": {
       "model_id": "eae37986b9a24068a0123fabe652a7a3",
       "version_major": 2,
       "version_minor": 0
      },
      "text/plain": [
       "  0%|          | 0/25 [00:00<?, ?it/s]"
      ]
     },
     "metadata": {},
     "output_type": "display_data"
    },
    {
     "data": {
      "application/vnd.jupyter.widget-view+json": {
       "model_id": "aefe4ad0582b4b34886cc9f7f18b8fb0",
       "version_major": 2,
       "version_minor": 0
      },
      "text/plain": [
       "  0%|          | 0/25 [00:00<?, ?it/s]"
      ]
     },
     "metadata": {},
     "output_type": "display_data"
    },
    {
     "data": {
      "application/vnd.jupyter.widget-view+json": {
       "model_id": "77858ead912b4b28a144a27fa7b83f26",
       "version_major": 2,
       "version_minor": 0
      },
      "text/plain": [
       "  0%|          | 0/25 [00:00<?, ?it/s]"
      ]
     },
     "metadata": {},
     "output_type": "display_data"
    },
    {
     "data": {
      "application/vnd.jupyter.widget-view+json": {
       "model_id": "8c808aec97b241929ecd8bfd552c85ee",
       "version_major": 2,
       "version_minor": 0
      },
      "text/plain": [
       "  0%|          | 0/25 [00:00<?, ?it/s]"
      ]
     },
     "metadata": {},
     "output_type": "display_data"
    },
    {
     "data": {
      "application/vnd.jupyter.widget-view+json": {
       "model_id": "29e7f690cd8c416dbbb4e501291b1ff8",
       "version_major": 2,
       "version_minor": 0
      },
      "text/plain": [
       "  0%|          | 0/25 [00:00<?, ?it/s]"
      ]
     },
     "metadata": {},
     "output_type": "display_data"
    },
    {
     "name": "stdout",
     "output_type": "stream",
     "text": [
      "Pat\n"
     ]
    },
    {
     "data": {
      "application/vnd.jupyter.widget-view+json": {
       "model_id": "370c56d02fe44c6c82b9e37f96d2c6cd",
       "version_major": 2,
       "version_minor": 0
      },
      "text/plain": [
       "  0%|          | 0/25 [00:00<?, ?it/s]"
      ]
     },
     "metadata": {},
     "output_type": "display_data"
    },
    {
     "data": {
      "application/vnd.jupyter.widget-view+json": {
       "model_id": "9d48cbee9d09488cb98d1c86ab2e33a9",
       "version_major": 2,
       "version_minor": 0
      },
      "text/plain": [
       "  0%|          | 0/25 [00:00<?, ?it/s]"
      ]
     },
     "metadata": {},
     "output_type": "display_data"
    },
    {
     "data": {
      "application/vnd.jupyter.widget-view+json": {
       "model_id": "6f5221ea3ae54848844ae78e4ccc74ca",
       "version_major": 2,
       "version_minor": 0
      },
      "text/plain": [
       "  0%|          | 0/25 [00:00<?, ?it/s]"
      ]
     },
     "metadata": {},
     "output_type": "display_data"
    },
    {
     "data": {
      "application/vnd.jupyter.widget-view+json": {
       "model_id": "ce02c27c33d848c1b2d7bfa5ae0b9044",
       "version_major": 2,
       "version_minor": 0
      },
      "text/plain": [
       "  0%|          | 0/25 [00:00<?, ?it/s]"
      ]
     },
     "metadata": {},
     "output_type": "display_data"
    },
    {
     "data": {
      "application/vnd.jupyter.widget-view+json": {
       "model_id": "cb814f429bbe471495698168a518f353",
       "version_major": 2,
       "version_minor": 0
      },
      "text/plain": [
       "  0%|          | 0/25 [00:00<?, ?it/s]"
      ]
     },
     "metadata": {},
     "output_type": "display_data"
    },
    {
     "name": "stdout",
     "output_type": "stream",
     "text": [
      "Amita\n"
     ]
    },
    {
     "data": {
      "application/vnd.jupyter.widget-view+json": {
       "model_id": "ebadee0a6f924658a307048b2f938d6f",
       "version_major": 2,
       "version_minor": 0
      },
      "text/plain": [
       "  0%|          | 0/25 [00:00<?, ?it/s]"
      ]
     },
     "metadata": {},
     "output_type": "display_data"
    },
    {
     "data": {
      "application/vnd.jupyter.widget-view+json": {
       "model_id": "71fbffa0b2bb42f293fb66e63c5edc13",
       "version_major": 2,
       "version_minor": 0
      },
      "text/plain": [
       "  0%|          | 0/25 [00:00<?, ?it/s]"
      ]
     },
     "metadata": {},
     "output_type": "display_data"
    },
    {
     "data": {
      "application/vnd.jupyter.widget-view+json": {
       "model_id": "02dfce86d8f9499bb02d100a07a8ac37",
       "version_major": 2,
       "version_minor": 0
      },
      "text/plain": [
       "  0%|          | 0/25 [00:00<?, ?it/s]"
      ]
     },
     "metadata": {},
     "output_type": "display_data"
    },
    {
     "data": {
      "application/vnd.jupyter.widget-view+json": {
       "model_id": "c861e0884b3b4965bc6f6f3747636a8f",
       "version_major": 2,
       "version_minor": 0
      },
      "text/plain": [
       "  0%|          | 0/25 [00:00<?, ?it/s]"
      ]
     },
     "metadata": {},
     "output_type": "display_data"
    },
    {
     "data": {
      "application/vnd.jupyter.widget-view+json": {
       "model_id": "8374f75295b0477083e9e83e488d83fe",
       "version_major": 2,
       "version_minor": 0
      },
      "text/plain": [
       "  0%|          | 0/25 [00:00<?, ?it/s]"
      ]
     },
     "metadata": {},
     "output_type": "display_data"
    },
    {
     "name": "stdout",
     "output_type": "stream",
     "text": [
      "Michael\n",
      "Kylie\n",
      "Celine\n"
     ]
    },
    {
     "data": {
      "application/vnd.jupyter.widget-view+json": {
       "model_id": "6f0570bf3f4a4cd391bd52d59d3565ca",
       "version_major": 2,
       "version_minor": 0
      },
      "text/plain": [
       "  0%|          | 0/25 [00:00<?, ?it/s]"
      ]
     },
     "metadata": {},
     "output_type": "display_data"
    },
    {
     "data": {
      "application/vnd.jupyter.widget-view+json": {
       "model_id": "87e124e7f83645dcb130600a490482cc",
       "version_major": 2,
       "version_minor": 0
      },
      "text/plain": [
       "  0%|          | 0/25 [00:00<?, ?it/s]"
      ]
     },
     "metadata": {},
     "output_type": "display_data"
    },
    {
     "data": {
      "application/vnd.jupyter.widget-view+json": {
       "model_id": "a9dc18581973453db44f932e60ccafe0",
       "version_major": 2,
       "version_minor": 0
      },
      "text/plain": [
       "  0%|          | 0/25 [00:00<?, ?it/s]"
      ]
     },
     "metadata": {},
     "output_type": "display_data"
    },
    {
     "data": {
      "application/vnd.jupyter.widget-view+json": {
       "model_id": "15de82b01b514078acb45cf69f011a9c",
       "version_major": 2,
       "version_minor": 0
      },
      "text/plain": [
       "  0%|          | 0/25 [00:00<?, ?it/s]"
      ]
     },
     "metadata": {},
     "output_type": "display_data"
    },
    {
     "data": {
      "application/vnd.jupyter.widget-view+json": {
       "model_id": "22c82e0ed1aa4104a453ae4c7dfce16d",
       "version_major": 2,
       "version_minor": 0
      },
      "text/plain": [
       "  0%|          | 0/25 [00:00<?, ?it/s]"
      ]
     },
     "metadata": {},
     "output_type": "display_data"
    },
    {
     "name": "stdout",
     "output_type": "stream",
     "text": [
      "Archie\n"
     ]
    },
    {
     "data": {
      "application/vnd.jupyter.widget-view+json": {
       "model_id": "14e5139604bc4c168140be6c8086abeb",
       "version_major": 2,
       "version_minor": 0
      },
      "text/plain": [
       "  0%|          | 0/25 [00:00<?, ?it/s]"
      ]
     },
     "metadata": {},
     "output_type": "display_data"
    },
    {
     "data": {
      "application/vnd.jupyter.widget-view+json": {
       "model_id": "06fe463f0c6148e89f5138e8e1816a57",
       "version_major": 2,
       "version_minor": 0
      },
      "text/plain": [
       "  0%|          | 0/25 [00:00<?, ?it/s]"
      ]
     },
     "metadata": {},
     "output_type": "display_data"
    },
    {
     "data": {
      "application/vnd.jupyter.widget-view+json": {
       "model_id": "16fb9adbb255488d93aaa1975a230a2c",
       "version_major": 2,
       "version_minor": 0
      },
      "text/plain": [
       "  0%|          | 0/25 [00:00<?, ?it/s]"
      ]
     },
     "metadata": {},
     "output_type": "display_data"
    },
    {
     "data": {
      "application/vnd.jupyter.widget-view+json": {
       "model_id": "56231ebd14694c4c8e8b7b7e312502ae",
       "version_major": 2,
       "version_minor": 0
      },
      "text/plain": [
       "  0%|          | 0/25 [00:00<?, ?it/s]"
      ]
     },
     "metadata": {},
     "output_type": "display_data"
    },
    {
     "data": {
      "application/vnd.jupyter.widget-view+json": {
       "model_id": "eef777a3b0544840ab2457af7fa6f36a",
       "version_major": 2,
       "version_minor": 0
      },
      "text/plain": [
       "  0%|          | 0/25 [00:00<?, ?it/s]"
      ]
     },
     "metadata": {},
     "output_type": "display_data"
    },
    {
     "name": "stdout",
     "output_type": "stream",
     "text": [
      "Yuvraj\n"
     ]
    },
    {
     "data": {
      "application/vnd.jupyter.widget-view+json": {
       "model_id": "5863f07812d34007b580a4528de19261",
       "version_major": 2,
       "version_minor": 0
      },
      "text/plain": [
       "  0%|          | 0/25 [00:00<?, ?it/s]"
      ]
     },
     "metadata": {},
     "output_type": "display_data"
    },
    {
     "data": {
      "application/vnd.jupyter.widget-view+json": {
       "model_id": "907f427d7a93496391085fba30ea2b7c",
       "version_major": 2,
       "version_minor": 0
      },
      "text/plain": [
       "  0%|          | 0/25 [00:00<?, ?it/s]"
      ]
     },
     "metadata": {},
     "output_type": "display_data"
    },
    {
     "data": {
      "application/vnd.jupyter.widget-view+json": {
       "model_id": "2b4538d8c62548f6b22c4e833c9f07c7",
       "version_major": 2,
       "version_minor": 0
      },
      "text/plain": [
       "  0%|          | 0/25 [00:00<?, ?it/s]"
      ]
     },
     "metadata": {},
     "output_type": "display_data"
    },
    {
     "data": {
      "application/vnd.jupyter.widget-view+json": {
       "model_id": "e004f380dd384cb9b55071b919ff47db",
       "version_major": 2,
       "version_minor": 0
      },
      "text/plain": [
       "  0%|          | 0/25 [00:00<?, ?it/s]"
      ]
     },
     "metadata": {},
     "output_type": "display_data"
    },
    {
     "data": {
      "application/vnd.jupyter.widget-view+json": {
       "model_id": "5d8ab15d592742a6b43edff68120ce2a",
       "version_major": 2,
       "version_minor": 0
      },
      "text/plain": [
       "  0%|          | 0/25 [00:00<?, ?it/s]"
      ]
     },
     "metadata": {},
     "output_type": "display_data"
    },
    {
     "name": "stdout",
     "output_type": "stream",
     "text": [
      "Dalip\n",
      "Angelina\n"
     ]
    },
    {
     "data": {
      "application/vnd.jupyter.widget-view+json": {
       "model_id": "0503c6ca5e76479985d7495320fb296c",
       "version_major": 2,
       "version_minor": 0
      },
      "text/plain": [
       "  0%|          | 0/25 [00:00<?, ?it/s]"
      ]
     },
     "metadata": {},
     "output_type": "display_data"
    },
    {
     "data": {
      "application/vnd.jupyter.widget-view+json": {
       "model_id": "fa5e0a2ce67742e6aa8cf4a497c482d4",
       "version_major": 2,
       "version_minor": 0
      },
      "text/plain": [
       "  0%|          | 0/25 [00:00<?, ?it/s]"
      ]
     },
     "metadata": {},
     "output_type": "display_data"
    },
    {
     "data": {
      "application/vnd.jupyter.widget-view+json": {
       "model_id": "9c53e038e305450d8d1ea914812ade0b",
       "version_major": 2,
       "version_minor": 0
      },
      "text/plain": [
       "  0%|          | 0/25 [00:00<?, ?it/s]"
      ]
     },
     "metadata": {},
     "output_type": "display_data"
    },
    {
     "data": {
      "application/vnd.jupyter.widget-view+json": {
       "model_id": "bf6ebd2648134d0ba5c8a1dcf6c07276",
       "version_major": 2,
       "version_minor": 0
      },
      "text/plain": [
       "  0%|          | 0/25 [00:00<?, ?it/s]"
      ]
     },
     "metadata": {},
     "output_type": "display_data"
    },
    {
     "data": {
      "application/vnd.jupyter.widget-view+json": {
       "model_id": "a17b3b5021434df5806111e880a5f2e5",
       "version_major": 2,
       "version_minor": 0
      },
      "text/plain": [
       "  0%|          | 0/25 [00:00<?, ?it/s]"
      ]
     },
     "metadata": {},
     "output_type": "display_data"
    },
    {
     "name": "stdout",
     "output_type": "stream",
     "text": [
      "Sarah\n"
     ]
    },
    {
     "data": {
      "application/vnd.jupyter.widget-view+json": {
       "model_id": "dc71ec156b734a118cd56996159b240a",
       "version_major": 2,
       "version_minor": 0
      },
      "text/plain": [
       "  0%|          | 0/25 [00:00<?, ?it/s]"
      ]
     },
     "metadata": {},
     "output_type": "display_data"
    },
    {
     "data": {
      "application/vnd.jupyter.widget-view+json": {
       "model_id": "f32af381f1fa4fad8bc3988dd13cfb71",
       "version_major": 2,
       "version_minor": 0
      },
      "text/plain": [
       "  0%|          | 0/25 [00:00<?, ?it/s]"
      ]
     },
     "metadata": {},
     "output_type": "display_data"
    },
    {
     "data": {
      "application/vnd.jupyter.widget-view+json": {
       "model_id": "08c8948f80dd45c1bf58c1df15b13642",
       "version_major": 2,
       "version_minor": 0
      },
      "text/plain": [
       "  0%|          | 0/25 [00:00<?, ?it/s]"
      ]
     },
     "metadata": {},
     "output_type": "display_data"
    },
    {
     "data": {
      "application/vnd.jupyter.widget-view+json": {
       "model_id": "8b83fce952c94e599d83d75cd68ddb7c",
       "version_major": 2,
       "version_minor": 0
      },
      "text/plain": [
       "  0%|          | 0/25 [00:00<?, ?it/s]"
      ]
     },
     "metadata": {},
     "output_type": "display_data"
    },
    {
     "data": {
      "application/vnd.jupyter.widget-view+json": {
       "model_id": "236474ad40eb44dab6b3850388d3742c",
       "version_major": 2,
       "version_minor": 0
      },
      "text/plain": [
       "  0%|          | 0/25 [00:00<?, ?it/s]"
      ]
     },
     "metadata": {},
     "output_type": "display_data"
    },
    {
     "name": "stdout",
     "output_type": "stream",
     "text": [
      "Adele\n"
     ]
    },
    {
     "data": {
      "application/vnd.jupyter.widget-view+json": {
       "model_id": "a2269156675c4d728c1d290ca1ab57c7",
       "version_major": 2,
       "version_minor": 0
      },
      "text/plain": [
       "  0%|          | 0/25 [00:00<?, ?it/s]"
      ]
     },
     "metadata": {},
     "output_type": "display_data"
    },
    {
     "data": {
      "application/vnd.jupyter.widget-view+json": {
       "model_id": "e5f231588c9f48798d39eed0e4408aa0",
       "version_major": 2,
       "version_minor": 0
      },
      "text/plain": [
       "  0%|          | 0/25 [00:00<?, ?it/s]"
      ]
     },
     "metadata": {},
     "output_type": "display_data"
    },
    {
     "data": {
      "application/vnd.jupyter.widget-view+json": {
       "model_id": "55dd828a52354a00a82fb4b2e3fb2cb6",
       "version_major": 2,
       "version_minor": 0
      },
      "text/plain": [
       "  0%|          | 0/25 [00:00<?, ?it/s]"
      ]
     },
     "metadata": {},
     "output_type": "display_data"
    },
    {
     "data": {
      "application/vnd.jupyter.widget-view+json": {
       "model_id": "ee4af5fee5324d72807cb825b72bd1f3",
       "version_major": 2,
       "version_minor": 0
      },
      "text/plain": [
       "  0%|          | 0/25 [00:00<?, ?it/s]"
      ]
     },
     "metadata": {},
     "output_type": "display_data"
    },
    {
     "data": {
      "application/vnd.jupyter.widget-view+json": {
       "model_id": "c36eb120a9d2461c824f93a797ba88d3",
       "version_major": 2,
       "version_minor": 0
      },
      "text/plain": [
       "  0%|          | 0/25 [00:00<?, ?it/s]"
      ]
     },
     "metadata": {},
     "output_type": "display_data"
    },
    {
     "name": "stdout",
     "output_type": "stream",
     "text": [
      "Davood\n"
     ]
    },
    {
     "data": {
      "application/vnd.jupyter.widget-view+json": {
       "model_id": "6d36030889cd4568b6fa8c8aae23207f",
       "version_major": 2,
       "version_minor": 0
      },
      "text/plain": [
       "  0%|          | 0/25 [00:00<?, ?it/s]"
      ]
     },
     "metadata": {},
     "output_type": "display_data"
    },
    {
     "data": {
      "application/vnd.jupyter.widget-view+json": {
       "model_id": "ddf8aaba0e2746dc9f473d499bfbc9b3",
       "version_major": 2,
       "version_minor": 0
      },
      "text/plain": [
       "  0%|          | 0/25 [00:00<?, ?it/s]"
      ]
     },
     "metadata": {},
     "output_type": "display_data"
    },
    {
     "data": {
      "application/vnd.jupyter.widget-view+json": {
       "model_id": "e7550522a4774944974fc9a5276d8476",
       "version_major": 2,
       "version_minor": 0
      },
      "text/plain": [
       "  0%|          | 0/25 [00:00<?, ?it/s]"
      ]
     },
     "metadata": {},
     "output_type": "display_data"
    },
    {
     "data": {
      "application/vnd.jupyter.widget-view+json": {
       "model_id": "14a0d5af84e84ed59c34ca689b03a76d",
       "version_major": 2,
       "version_minor": 0
      },
      "text/plain": [
       "  0%|          | 0/25 [00:00<?, ?it/s]"
      ]
     },
     "metadata": {},
     "output_type": "display_data"
    },
    {
     "name": "stdout",
     "output_type": "stream",
     "text": [
      "Donnie\n"
     ]
    },
    {
     "data": {
      "application/vnd.jupyter.widget-view+json": {
       "model_id": "cdc48ca0c2154fd4b9df4a1819aa6bfa",
       "version_major": 2,
       "version_minor": 0
      },
      "text/plain": [
       "  0%|          | 0/25 [00:00<?, ?it/s]"
      ]
     },
     "metadata": {},
     "output_type": "display_data"
    },
    {
     "data": {
      "application/vnd.jupyter.widget-view+json": {
       "model_id": "9616ec53a9ad42eab2ac958a9266a6aa",
       "version_major": 2,
       "version_minor": 0
      },
      "text/plain": [
       "  0%|          | 0/25 [00:00<?, ?it/s]"
      ]
     },
     "metadata": {},
     "output_type": "display_data"
    },
    {
     "data": {
      "application/vnd.jupyter.widget-view+json": {
       "model_id": "222a02c2177c4fe681b15b5e67e98c64",
       "version_major": 2,
       "version_minor": 0
      },
      "text/plain": [
       "  0%|          | 0/25 [00:00<?, ?it/s]"
      ]
     },
     "metadata": {},
     "output_type": "display_data"
    },
    {
     "data": {
      "application/vnd.jupyter.widget-view+json": {
       "model_id": "0b1ead50786f4f199714911c4f93859b",
       "version_major": 2,
       "version_minor": 0
      },
      "text/plain": [
       "  0%|          | 0/25 [00:00<?, ?it/s]"
      ]
     },
     "metadata": {},
     "output_type": "display_data"
    },
    {
     "data": {
      "application/vnd.jupyter.widget-view+json": {
       "model_id": "ea11f14748d54e6c815fdbb272035b80",
       "version_major": 2,
       "version_minor": 0
      },
      "text/plain": [
       "  0%|          | 0/25 [00:00<?, ?it/s]"
      ]
     },
     "metadata": {},
     "output_type": "display_data"
    },
    {
     "name": "stdout",
     "output_type": "stream",
     "text": [
      "Lady\n"
     ]
    },
    {
     "data": {
      "application/vnd.jupyter.widget-view+json": {
       "model_id": "43cb16a4168a45dab135141b3dcad398",
       "version_major": 2,
       "version_minor": 0
      },
      "text/plain": [
       "  0%|          | 0/25 [00:00<?, ?it/s]"
      ]
     },
     "metadata": {},
     "output_type": "display_data"
    },
    {
     "data": {
      "application/vnd.jupyter.widget-view+json": {
       "model_id": "d41b4c87981f4b53adce87d400b7c9be",
       "version_major": 2,
       "version_minor": 0
      },
      "text/plain": [
       "  0%|          | 0/25 [00:00<?, ?it/s]"
      ]
     },
     "metadata": {},
     "output_type": "display_data"
    },
    {
     "data": {
      "application/vnd.jupyter.widget-view+json": {
       "model_id": "d13cfba2b2434712b2f4f98535f0df08",
       "version_major": 2,
       "version_minor": 0
      },
      "text/plain": [
       "  0%|          | 0/25 [00:00<?, ?it/s]"
      ]
     },
     "metadata": {},
     "output_type": "display_data"
    },
    {
     "data": {
      "application/vnd.jupyter.widget-view+json": {
       "model_id": "6a76db39c41b4223aa72fad8698969e8",
       "version_major": 2,
       "version_minor": 0
      },
      "text/plain": [
       "  0%|          | 0/25 [00:00<?, ?it/s]"
      ]
     },
     "metadata": {},
     "output_type": "display_data"
    },
    {
     "data": {
      "application/vnd.jupyter.widget-view+json": {
       "model_id": "ab3fbb08ef454306b607d9b753903d7b",
       "version_major": 2,
       "version_minor": 0
      },
      "text/plain": [
       "  0%|          | 0/25 [00:00<?, ?it/s]"
      ]
     },
     "metadata": {},
     "output_type": "display_data"
    },
    {
     "name": "stdout",
     "output_type": "stream",
     "text": [
      "Nina\n",
      "Dave\n"
     ]
    },
    {
     "data": {
      "application/vnd.jupyter.widget-view+json": {
       "model_id": "2393ce71c59c4460a283c6fa4b5d2427",
       "version_major": 2,
       "version_minor": 0
      },
      "text/plain": [
       "  0%|          | 0/25 [00:00<?, ?it/s]"
      ]
     },
     "metadata": {},
     "output_type": "display_data"
    },
    {
     "data": {
      "application/vnd.jupyter.widget-view+json": {
       "model_id": "4535dca181944a1fb110ccfde7ce9599",
       "version_major": 2,
       "version_minor": 0
      },
      "text/plain": [
       "  0%|          | 0/25 [00:00<?, ?it/s]"
      ]
     },
     "metadata": {},
     "output_type": "display_data"
    },
    {
     "data": {
      "application/vnd.jupyter.widget-view+json": {
       "model_id": "cd6ff05980104db785765876c83f46d9",
       "version_major": 2,
       "version_minor": 0
      },
      "text/plain": [
       "  0%|          | 0/25 [00:00<?, ?it/s]"
      ]
     },
     "metadata": {},
     "output_type": "display_data"
    },
    {
     "data": {
      "application/vnd.jupyter.widget-view+json": {
       "model_id": "1f54b78c929644d2b3ab2c0f5c8b1bd8",
       "version_major": 2,
       "version_minor": 0
      },
      "text/plain": [
       "  0%|          | 0/25 [00:00<?, ?it/s]"
      ]
     },
     "metadata": {},
     "output_type": "display_data"
    },
    {
     "data": {
      "application/vnd.jupyter.widget-view+json": {
       "model_id": "45b09352f7494fc9945d63fd90e7187e",
       "version_major": 2,
       "version_minor": 0
      },
      "text/plain": [
       "  0%|          | 0/25 [00:00<?, ?it/s]"
      ]
     },
     "metadata": {},
     "output_type": "display_data"
    },
    {
     "name": "stdout",
     "output_type": "stream",
     "text": [
      "Jerry\n",
      "Rae\n"
     ]
    },
    {
     "data": {
      "application/vnd.jupyter.widget-view+json": {
       "model_id": "70605a10fa80469ea16277e6a79972b5",
       "version_major": 2,
       "version_minor": 0
      },
      "text/plain": [
       "  0%|          | 0/25 [00:00<?, ?it/s]"
      ]
     },
     "metadata": {},
     "output_type": "display_data"
    },
    {
     "data": {
      "application/vnd.jupyter.widget-view+json": {
       "model_id": "4dd254180dbe4c54a44c830971c6de8c",
       "version_major": 2,
       "version_minor": 0
      },
      "text/plain": [
       "  0%|          | 0/25 [00:00<?, ?it/s]"
      ]
     },
     "metadata": {},
     "output_type": "display_data"
    },
    {
     "data": {
      "application/vnd.jupyter.widget-view+json": {
       "model_id": "051d72b93f0347779df63148703a033f",
       "version_major": 2,
       "version_minor": 0
      },
      "text/plain": [
       "  0%|          | 0/25 [00:00<?, ?it/s]"
      ]
     },
     "metadata": {},
     "output_type": "display_data"
    },
    {
     "data": {
      "application/vnd.jupyter.widget-view+json": {
       "model_id": "7a140d3aedf04222bb791bf6a4243307",
       "version_major": 2,
       "version_minor": 0
      },
      "text/plain": [
       "  0%|          | 0/25 [00:00<?, ?it/s]"
      ]
     },
     "metadata": {},
     "output_type": "display_data"
    },
    {
     "data": {
      "application/vnd.jupyter.widget-view+json": {
       "model_id": "608501800a62426a94406ea7ce598595",
       "version_major": 2,
       "version_minor": 0
      },
      "text/plain": [
       "  0%|          | 0/25 [00:00<?, ?it/s]"
      ]
     },
     "metadata": {},
     "output_type": "display_data"
    },
    {
     "name": "stdout",
     "output_type": "stream",
     "text": [
      "Kunal\n"
     ]
    },
    {
     "data": {
      "application/vnd.jupyter.widget-view+json": {
       "model_id": "74651029b24d4446b9a44be3a3d01f96",
       "version_major": 2,
       "version_minor": 0
      },
      "text/plain": [
       "  0%|          | 0/25 [00:00<?, ?it/s]"
      ]
     },
     "metadata": {},
     "output_type": "display_data"
    },
    {
     "data": {
      "application/vnd.jupyter.widget-view+json": {
       "model_id": "46e41af7e32b48eab6c72d741c9b52ee",
       "version_major": 2,
       "version_minor": 0
      },
      "text/plain": [
       "  0%|          | 0/25 [00:00<?, ?it/s]"
      ]
     },
     "metadata": {},
     "output_type": "display_data"
    },
    {
     "data": {
      "application/vnd.jupyter.widget-view+json": {
       "model_id": "23f705454d2443b3a63ffc3bb355a5c7",
       "version_major": 2,
       "version_minor": 0
      },
      "text/plain": [
       "  0%|          | 0/25 [00:00<?, ?it/s]"
      ]
     },
     "metadata": {},
     "output_type": "display_data"
    },
    {
     "data": {
      "application/vnd.jupyter.widget-view+json": {
       "model_id": "108e6fdaa62c4fb5bd616fbd19c48a48",
       "version_major": 2,
       "version_minor": 0
      },
      "text/plain": [
       "  0%|          | 0/25 [00:00<?, ?it/s]"
      ]
     },
     "metadata": {},
     "output_type": "display_data"
    },
    {
     "data": {
      "application/vnd.jupyter.widget-view+json": {
       "model_id": "dd07940dafc9430fba385b0c3d5cc097",
       "version_major": 2,
       "version_minor": 0
      },
      "text/plain": [
       "  0%|          | 0/25 [00:00<?, ?it/s]"
      ]
     },
     "metadata": {},
     "output_type": "display_data"
    },
    {
     "name": "stdout",
     "output_type": "stream",
     "text": [
      "Neymar\n",
      "Brandon\n"
     ]
    },
    {
     "data": {
      "application/vnd.jupyter.widget-view+json": {
       "model_id": "75fd289aad2a4cefaed609e30841aa91",
       "version_major": 2,
       "version_minor": 0
      },
      "text/plain": [
       "  0%|          | 0/25 [00:00<?, ?it/s]"
      ]
     },
     "metadata": {},
     "output_type": "display_data"
    },
    {
     "data": {
      "application/vnd.jupyter.widget-view+json": {
       "model_id": "25c448ee31b947baafa6165726de2fa3",
       "version_major": 2,
       "version_minor": 0
      },
      "text/plain": [
       "  0%|          | 0/25 [00:00<?, ?it/s]"
      ]
     },
     "metadata": {},
     "output_type": "display_data"
    },
    {
     "data": {
      "application/vnd.jupyter.widget-view+json": {
       "model_id": "94030a033c674d54bcce19ba94128a03",
       "version_major": 2,
       "version_minor": 0
      },
      "text/plain": [
       "  0%|          | 0/25 [00:00<?, ?it/s]"
      ]
     },
     "metadata": {},
     "output_type": "display_data"
    },
    {
     "data": {
      "application/vnd.jupyter.widget-view+json": {
       "model_id": "9f1c0bd698564d50896f62589968a9c8",
       "version_major": 2,
       "version_minor": 0
      },
      "text/plain": [
       "  0%|          | 0/25 [00:00<?, ?it/s]"
      ]
     },
     "metadata": {},
     "output_type": "display_data"
    },
    {
     "data": {
      "application/vnd.jupyter.widget-view+json": {
       "model_id": "6af3f2e6fd6847b0bf2552f0f75c6e00",
       "version_major": 2,
       "version_minor": 0
      },
      "text/plain": [
       "  0%|          | 0/25 [00:00<?, ?it/s]"
      ]
     },
     "metadata": {},
     "output_type": "display_data"
    },
    {
     "name": "stdout",
     "output_type": "stream",
     "text": [
      "Johnny\n",
      "Sung\n"
     ]
    },
    {
     "data": {
      "application/vnd.jupyter.widget-view+json": {
       "model_id": "50b81338306144c9b53757351a9e3cd9",
       "version_major": 2,
       "version_minor": 0
      },
      "text/plain": [
       "  0%|          | 0/25 [00:00<?, ?it/s]"
      ]
     },
     "metadata": {},
     "output_type": "display_data"
    },
    {
     "data": {
      "application/vnd.jupyter.widget-view+json": {
       "model_id": "89bc99d35fdc44acac0c389d3ae3d1a2",
       "version_major": 2,
       "version_minor": 0
      },
      "text/plain": [
       "  0%|          | 0/25 [00:00<?, ?it/s]"
      ]
     },
     "metadata": {},
     "output_type": "display_data"
    },
    {
     "data": {
      "application/vnd.jupyter.widget-view+json": {
       "model_id": "89d9163a7fe34172bce7473b8a5dade3",
       "version_major": 2,
       "version_minor": 0
      },
      "text/plain": [
       "  0%|          | 0/25 [00:00<?, ?it/s]"
      ]
     },
     "metadata": {},
     "output_type": "display_data"
    },
    {
     "data": {
      "application/vnd.jupyter.widget-view+json": {
       "model_id": "b9e95c52262c428bac1f8b4cdf6fdc64",
       "version_major": 2,
       "version_minor": 0
      },
      "text/plain": [
       "  0%|          | 0/25 [00:00<?, ?it/s]"
      ]
     },
     "metadata": {},
     "output_type": "display_data"
    },
    {
     "data": {
      "application/vnd.jupyter.widget-view+json": {
       "model_id": "f699d364ac594ce2a43763d3861dab88",
       "version_major": 2,
       "version_minor": 0
      },
      "text/plain": [
       "  0%|          | 0/25 [00:00<?, ?it/s]"
      ]
     },
     "metadata": {},
     "output_type": "display_data"
    },
    {
     "name": "stdout",
     "output_type": "stream",
     "text": [
      "Tyler\n"
     ]
    },
    {
     "data": {
      "application/vnd.jupyter.widget-view+json": {
       "model_id": "b4219d66b3724b34a6d1c2fcd45192bf",
       "version_major": 2,
       "version_minor": 0
      },
      "text/plain": [
       "  0%|          | 0/25 [00:00<?, ?it/s]"
      ]
     },
     "metadata": {},
     "output_type": "display_data"
    },
    {
     "data": {
      "application/vnd.jupyter.widget-view+json": {
       "model_id": "d6ca5fa96cf9480895fca26eaa2a4041",
       "version_major": 2,
       "version_minor": 0
      },
      "text/plain": [
       "  0%|          | 0/25 [00:00<?, ?it/s]"
      ]
     },
     "metadata": {},
     "output_type": "display_data"
    },
    {
     "data": {
      "application/vnd.jupyter.widget-view+json": {
       "model_id": "00879dbfd0524eb2b7264ce1089369c5",
       "version_major": 2,
       "version_minor": 0
      },
      "text/plain": [
       "  0%|          | 0/25 [00:00<?, ?it/s]"
      ]
     },
     "metadata": {},
     "output_type": "display_data"
    },
    {
     "data": {
      "application/vnd.jupyter.widget-view+json": {
       "model_id": "be8a7827c82b4f148d619b0e170ccde1",
       "version_major": 2,
       "version_minor": 0
      },
      "text/plain": [
       "  0%|          | 0/25 [00:00<?, ?it/s]"
      ]
     },
     "metadata": {},
     "output_type": "display_data"
    },
    {
     "data": {
      "application/vnd.jupyter.widget-view+json": {
       "model_id": "6f6e6f2242ff48558af65f9fc9705788",
       "version_major": 2,
       "version_minor": 0
      },
      "text/plain": [
       "  0%|          | 0/25 [00:00<?, ?it/s]"
      ]
     },
     "metadata": {},
     "output_type": "display_data"
    },
    {
     "name": "stdout",
     "output_type": "stream",
     "text": [
      "Dwayne\n",
      "Rush\n",
      "Kobe\n",
      "Will\n"
     ]
    },
    {
     "data": {
      "application/vnd.jupyter.widget-view+json": {
       "model_id": "6ce813cb8b5d41719f823281d85464fa",
       "version_major": 2,
       "version_minor": 0
      },
      "text/plain": [
       "  0%|          | 0/25 [00:00<?, ?it/s]"
      ]
     },
     "metadata": {},
     "output_type": "display_data"
    },
    {
     "data": {
      "application/vnd.jupyter.widget-view+json": {
       "model_id": "1b97aed81b5e4db781f7970e55ce6292",
       "version_major": 2,
       "version_minor": 0
      },
      "text/plain": [
       "  0%|          | 0/25 [00:00<?, ?it/s]"
      ]
     },
     "metadata": {},
     "output_type": "display_data"
    },
    {
     "data": {
      "application/vnd.jupyter.widget-view+json": {
       "model_id": "97ebd4446568403eb7ce29c047da006b",
       "version_major": 2,
       "version_minor": 0
      },
      "text/plain": [
       "  0%|          | 0/25 [00:00<?, ?it/s]"
      ]
     },
     "metadata": {},
     "output_type": "display_data"
    },
    {
     "data": {
      "application/vnd.jupyter.widget-view+json": {
       "model_id": "9a641ef2cc5b40cda9a079117ad65565",
       "version_major": 2,
       "version_minor": 0
      },
      "text/plain": [
       "  0%|          | 0/25 [00:00<?, ?it/s]"
      ]
     },
     "metadata": {},
     "output_type": "display_data"
    },
    {
     "data": {
      "application/vnd.jupyter.widget-view+json": {
       "model_id": "8b0a831719654aa5accbe149d9f1939c",
       "version_major": 2,
       "version_minor": 0
      },
      "text/plain": [
       "  0%|          | 0/25 [00:00<?, ?it/s]"
      ]
     },
     "metadata": {},
     "output_type": "display_data"
    },
    {
     "name": "stdout",
     "output_type": "stream",
     "text": [
      "Billy\n"
     ]
    },
    {
     "data": {
      "application/vnd.jupyter.widget-view+json": {
       "model_id": "a991696b2d544d019523de980e1b410a",
       "version_major": 2,
       "version_minor": 0
      },
      "text/plain": [
       "  0%|          | 0/25 [00:00<?, ?it/s]"
      ]
     },
     "metadata": {},
     "output_type": "display_data"
    },
    {
     "data": {
      "application/vnd.jupyter.widget-view+json": {
       "model_id": "56aad313a6e44fe2852a2a5357aa2193",
       "version_major": 2,
       "version_minor": 0
      },
      "text/plain": [
       "  0%|          | 0/25 [00:00<?, ?it/s]"
      ]
     },
     "metadata": {},
     "output_type": "display_data"
    },
    {
     "data": {
      "application/vnd.jupyter.widget-view+json": {
       "model_id": "a0711bf1ba6444ec9be5693ed715c092",
       "version_major": 2,
       "version_minor": 0
      },
      "text/plain": [
       "  0%|          | 0/25 [00:00<?, ?it/s]"
      ]
     },
     "metadata": {},
     "output_type": "display_data"
    },
    {
     "data": {
      "application/vnd.jupyter.widget-view+json": {
       "model_id": "ae695f319c654ef19af8957f676e5e0c",
       "version_major": 2,
       "version_minor": 0
      },
      "text/plain": [
       "  0%|          | 0/25 [00:00<?, ?it/s]"
      ]
     },
     "metadata": {},
     "output_type": "display_data"
    },
    {
     "data": {
      "application/vnd.jupyter.widget-view+json": {
       "model_id": "306e8308a2de4b29a7787a75d30f5f69",
       "version_major": 2,
       "version_minor": 0
      },
      "text/plain": [
       "  0%|          | 0/25 [00:00<?, ?it/s]"
      ]
     },
     "metadata": {},
     "output_type": "display_data"
    },
    {
     "name": "stdout",
     "output_type": "stream",
     "text": [
      "Tom\n"
     ]
    },
    {
     "data": {
      "application/vnd.jupyter.widget-view+json": {
       "model_id": "0b70d0c97fe24973ad12e01b58ce93f9",
       "version_major": 2,
       "version_minor": 0
      },
      "text/plain": [
       "  0%|          | 0/25 [00:00<?, ?it/s]"
      ]
     },
     "metadata": {},
     "output_type": "display_data"
    },
    {
     "data": {
      "application/vnd.jupyter.widget-view+json": {
       "model_id": "86b5157b0172471893effc649e6955c8",
       "version_major": 2,
       "version_minor": 0
      },
      "text/plain": [
       "  0%|          | 0/25 [00:00<?, ?it/s]"
      ]
     },
     "metadata": {},
     "output_type": "display_data"
    },
    {
     "data": {
      "application/vnd.jupyter.widget-view+json": {
       "model_id": "c7f3bbeb7e25458cb3e05e455c14c62a",
       "version_major": 2,
       "version_minor": 0
      },
      "text/plain": [
       "  0%|          | 0/25 [00:00<?, ?it/s]"
      ]
     },
     "metadata": {},
     "output_type": "display_data"
    },
    {
     "data": {
      "application/vnd.jupyter.widget-view+json": {
       "model_id": "89f903b6929e422d8569ea24401a2d6a",
       "version_major": 2,
       "version_minor": 0
      },
      "text/plain": [
       "  0%|          | 0/25 [00:00<?, ?it/s]"
      ]
     },
     "metadata": {},
     "output_type": "display_data"
    },
    {
     "data": {
      "application/vnd.jupyter.widget-view+json": {
       "model_id": "5e21059f5d874fee9a61753159b4f453",
       "version_major": 2,
       "version_minor": 0
      },
      "text/plain": [
       "  0%|          | 0/25 [00:00<?, ?it/s]"
      ]
     },
     "metadata": {},
     "output_type": "display_data"
    },
    {
     "name": "stdout",
     "output_type": "stream",
     "text": [
      "Paul\n",
      "Naga\n"
     ]
    },
    {
     "data": {
      "application/vnd.jupyter.widget-view+json": {
       "model_id": "3d4f4ff3539b4d29a167f6816089d7e0",
       "version_major": 2,
       "version_minor": 0
      },
      "text/plain": [
       "  0%|          | 0/25 [00:00<?, ?it/s]"
      ]
     },
     "metadata": {},
     "output_type": "display_data"
    },
    {
     "data": {
      "application/vnd.jupyter.widget-view+json": {
       "model_id": "5737e727df6b41a8a6ec6d8939a2b966",
       "version_major": 2,
       "version_minor": 0
      },
      "text/plain": [
       "  0%|          | 0/25 [00:00<?, ?it/s]"
      ]
     },
     "metadata": {},
     "output_type": "display_data"
    },
    {
     "data": {
      "application/vnd.jupyter.widget-view+json": {
       "model_id": "35cae0c43f0a43ce8593a5f7f38bc666",
       "version_major": 2,
       "version_minor": 0
      },
      "text/plain": [
       "  0%|          | 0/25 [00:00<?, ?it/s]"
      ]
     },
     "metadata": {},
     "output_type": "display_data"
    },
    {
     "data": {
      "application/vnd.jupyter.widget-view+json": {
       "model_id": "cacc9d6e277b48fca86bdc7b97816d52",
       "version_major": 2,
       "version_minor": 0
      },
      "text/plain": [
       "  0%|          | 0/25 [00:00<?, ?it/s]"
      ]
     },
     "metadata": {},
     "output_type": "display_data"
    },
    {
     "data": {
      "application/vnd.jupyter.widget-view+json": {
       "model_id": "07a93e6ea61e4a349b2abccee5aaacd4",
       "version_major": 2,
       "version_minor": 0
      },
      "text/plain": [
       "  0%|          | 0/25 [00:00<?, ?it/s]"
      ]
     },
     "metadata": {},
     "output_type": "display_data"
    },
    {
     "name": "stdout",
     "output_type": "stream",
     "text": [
      "Hailee\n",
      "Brad\n",
      "Robert\n"
     ]
    },
    {
     "data": {
      "application/vnd.jupyter.widget-view+json": {
       "model_id": "847613712696434baa98b32609403b9b",
       "version_major": 2,
       "version_minor": 0
      },
      "text/plain": [
       "  0%|          | 0/25 [00:00<?, ?it/s]"
      ]
     },
     "metadata": {},
     "output_type": "display_data"
    },
    {
     "data": {
      "application/vnd.jupyter.widget-view+json": {
       "model_id": "220b920236504a4dacd4546c1a2e904c",
       "version_major": 2,
       "version_minor": 0
      },
      "text/plain": [
       "  0%|          | 0/25 [00:00<?, ?it/s]"
      ]
     },
     "metadata": {},
     "output_type": "display_data"
    },
    {
     "data": {
      "application/vnd.jupyter.widget-view+json": {
       "model_id": "6ca9fedf00004ea0ba82d0de0dda69c1",
       "version_major": 2,
       "version_minor": 0
      },
      "text/plain": [
       "  0%|          | 0/25 [00:00<?, ?it/s]"
      ]
     },
     "metadata": {},
     "output_type": "display_data"
    },
    {
     "data": {
      "application/vnd.jupyter.widget-view+json": {
       "model_id": "0a6fe4bc9c9749dbae2a660ae2bcf778",
       "version_major": 2,
       "version_minor": 0
      },
      "text/plain": [
       "  0%|          | 0/25 [00:00<?, ?it/s]"
      ]
     },
     "metadata": {},
     "output_type": "display_data"
    },
    {
     "data": {
      "application/vnd.jupyter.widget-view+json": {
       "model_id": "b62222a870684205b27b259b4f3ba088",
       "version_major": 2,
       "version_minor": 0
      },
      "text/plain": [
       "  0%|          | 0/25 [00:00<?, ?it/s]"
      ]
     },
     "metadata": {},
     "output_type": "display_data"
    },
    {
     "name": "stdout",
     "output_type": "stream",
     "text": [
      "Simon\n"
     ]
    },
    {
     "data": {
      "application/vnd.jupyter.widget-view+json": {
       "model_id": "9431a111ed9c48e4826a0e1e2f842b0e",
       "version_major": 2,
       "version_minor": 0
      },
      "text/plain": [
       "  0%|          | 0/25 [00:00<?, ?it/s]"
      ]
     },
     "metadata": {},
     "output_type": "display_data"
    },
    {
     "data": {
      "application/vnd.jupyter.widget-view+json": {
       "model_id": "5d1c17b25f3c41aa810426c6461b14cc",
       "version_major": 2,
       "version_minor": 0
      },
      "text/plain": [
       "  0%|          | 0/25 [00:00<?, ?it/s]"
      ]
     },
     "metadata": {},
     "output_type": "display_data"
    },
    {
     "data": {
      "application/vnd.jupyter.widget-view+json": {
       "model_id": "b47652620a654e649be73668377c8b88",
       "version_major": 2,
       "version_minor": 0
      },
      "text/plain": [
       "  0%|          | 0/25 [00:00<?, ?it/s]"
      ]
     },
     "metadata": {},
     "output_type": "display_data"
    },
    {
     "data": {
      "application/vnd.jupyter.widget-view+json": {
       "model_id": "0821f87a26bd4758905496a9da0a456a",
       "version_major": 2,
       "version_minor": 0
      },
      "text/plain": [
       "  0%|          | 0/25 [00:00<?, ?it/s]"
      ]
     },
     "metadata": {},
     "output_type": "display_data"
    },
    {
     "data": {
      "application/vnd.jupyter.widget-view+json": {
       "model_id": "0e42c952410443d294d0412b77eca9e2",
       "version_major": 2,
       "version_minor": 0
      },
      "text/plain": [
       "  0%|          | 0/25 [00:00<?, ?it/s]"
      ]
     },
     "metadata": {},
     "output_type": "display_data"
    },
    {
     "name": "stdout",
     "output_type": "stream",
     "text": [
      "Cristiano\n"
     ]
    },
    {
     "data": {
      "application/vnd.jupyter.widget-view+json": {
       "model_id": "e9eb18269ce24cc185abade22b5dc8df",
       "version_major": 2,
       "version_minor": 0
      },
      "text/plain": [
       "  0%|          | 0/25 [00:00<?, ?it/s]"
      ]
     },
     "metadata": {},
     "output_type": "display_data"
    },
    {
     "data": {
      "application/vnd.jupyter.widget-view+json": {
       "model_id": "09bd40efddda4d429daa2b1fe18f4ed0",
       "version_major": 2,
       "version_minor": 0
      },
      "text/plain": [
       "  0%|          | 0/25 [00:00<?, ?it/s]"
      ]
     },
     "metadata": {},
     "output_type": "display_data"
    },
    {
     "data": {
      "application/vnd.jupyter.widget-view+json": {
       "model_id": "bf8552adb93c44dd98d51e2580018bc4",
       "version_major": 2,
       "version_minor": 0
      },
      "text/plain": [
       "  0%|          | 0/25 [00:00<?, ?it/s]"
      ]
     },
     "metadata": {},
     "output_type": "display_data"
    },
    {
     "data": {
      "application/vnd.jupyter.widget-view+json": {
       "model_id": "af5855cd0e7d4441a4a237aa5fea1d38",
       "version_major": 2,
       "version_minor": 0
      },
      "text/plain": [
       "  0%|          | 0/25 [00:00<?, ?it/s]"
      ]
     },
     "metadata": {},
     "output_type": "display_data"
    },
    {
     "data": {
      "application/vnd.jupyter.widget-view+json": {
       "model_id": "14eaaba51ac14cfe958fe680d35368c9",
       "version_major": 2,
       "version_minor": 0
      },
      "text/plain": [
       "  0%|          | 0/25 [00:00<?, ?it/s]"
      ]
     },
     "metadata": {},
     "output_type": "display_data"
    },
    {
     "name": "stdout",
     "output_type": "stream",
     "text": [
      "Amol\n"
     ]
    },
    {
     "data": {
      "application/vnd.jupyter.widget-view+json": {
       "model_id": "7be1257f52d34e1bafe02849bd45694d",
       "version_major": 2,
       "version_minor": 0
      },
      "text/plain": [
       "  0%|          | 0/25 [00:00<?, ?it/s]"
      ]
     },
     "metadata": {},
     "output_type": "display_data"
    },
    {
     "data": {
      "application/vnd.jupyter.widget-view+json": {
       "model_id": "0e286ac9baeb44ec8009629d2e483af4",
       "version_major": 2,
       "version_minor": 0
      },
      "text/plain": [
       "  0%|          | 0/25 [00:00<?, ?it/s]"
      ]
     },
     "metadata": {},
     "output_type": "display_data"
    },
    {
     "data": {
      "application/vnd.jupyter.widget-view+json": {
       "model_id": "7e807f230f0f4aad970ae58ca18da356",
       "version_major": 2,
       "version_minor": 0
      },
      "text/plain": [
       "  0%|          | 0/25 [00:00<?, ?it/s]"
      ]
     },
     "metadata": {},
     "output_type": "display_data"
    },
    {
     "data": {
      "application/vnd.jupyter.widget-view+json": {
       "model_id": "05098d7363534b6e8161099a96db5e5a",
       "version_major": 2,
       "version_minor": 0
      },
      "text/plain": [
       "  0%|          | 0/25 [00:00<?, ?it/s]"
      ]
     },
     "metadata": {},
     "output_type": "display_data"
    },
    {
     "data": {
      "application/vnd.jupyter.widget-view+json": {
       "model_id": "fbf4b3bb7a4b4b1fb09332c2fc1d268e",
       "version_major": 2,
       "version_minor": 0
      },
      "text/plain": [
       "  0%|          | 0/25 [00:00<?, ?it/s]"
      ]
     },
     "metadata": {},
     "output_type": "display_data"
    },
    {
     "name": "stdout",
     "output_type": "stream",
     "text": [
      "Justin\n",
      "Kanye\n",
      "Robin\n"
     ]
    },
    {
     "data": {
      "application/vnd.jupyter.widget-view+json": {
       "model_id": "1e6d1ffdcaff4156944a95c579244031",
       "version_major": 2,
       "version_minor": 0
      },
      "text/plain": [
       "  0%|          | 0/25 [00:00<?, ?it/s]"
      ]
     },
     "metadata": {},
     "output_type": "display_data"
    },
    {
     "data": {
      "application/vnd.jupyter.widget-view+json": {
       "model_id": "fd02e5b91f9a40d1bac0d88ee4125c37",
       "version_major": 2,
       "version_minor": 0
      },
      "text/plain": [
       "  0%|          | 0/25 [00:00<?, ?it/s]"
      ]
     },
     "metadata": {},
     "output_type": "display_data"
    },
    {
     "data": {
      "application/vnd.jupyter.widget-view+json": {
       "model_id": "41e70b97014f48f89db211d40f0efa79",
       "version_major": 2,
       "version_minor": 0
      },
      "text/plain": [
       "  0%|          | 0/25 [00:00<?, ?it/s]"
      ]
     },
     "metadata": {},
     "output_type": "display_data"
    },
    {
     "data": {
      "application/vnd.jupyter.widget-view+json": {
       "model_id": "284ff0f396914b6f8f7e1cec07fd0374",
       "version_major": 2,
       "version_minor": 0
      },
      "text/plain": [
       "  0%|          | 0/25 [00:00<?, ?it/s]"
      ]
     },
     "metadata": {},
     "output_type": "display_data"
    },
    {
     "data": {
      "application/vnd.jupyter.widget-view+json": {
       "model_id": "4ec8f4d4593f4f399a4dbaa5dab0faa3",
       "version_major": 2,
       "version_minor": 0
      },
      "text/plain": [
       "  0%|          | 0/25 [00:00<?, ?it/s]"
      ]
     },
     "metadata": {},
     "output_type": "display_data"
    },
    {
     "name": "stdout",
     "output_type": "stream",
     "text": [
      "Himesh\n"
     ]
    },
    {
     "data": {
      "application/vnd.jupyter.widget-view+json": {
       "model_id": "e58afa10362a40d6bcb8051656e9b7b9",
       "version_major": 2,
       "version_minor": 0
      },
      "text/plain": [
       "  0%|          | 0/25 [00:00<?, ?it/s]"
      ]
     },
     "metadata": {},
     "output_type": "display_data"
    },
    {
     "data": {
      "application/vnd.jupyter.widget-view+json": {
       "model_id": "4dd95d8cf483410fa8b9496042518485",
       "version_major": 2,
       "version_minor": 0
      },
      "text/plain": [
       "  0%|          | 0/25 [00:00<?, ?it/s]"
      ]
     },
     "metadata": {},
     "output_type": "display_data"
    },
    {
     "data": {
      "application/vnd.jupyter.widget-view+json": {
       "model_id": "94533d9f1e6548b19f7b13ddca160f43",
       "version_major": 2,
       "version_minor": 0
      },
      "text/plain": [
       "  0%|          | 0/25 [00:00<?, ?it/s]"
      ]
     },
     "metadata": {},
     "output_type": "display_data"
    },
    {
     "data": {
      "application/vnd.jupyter.widget-view+json": {
       "model_id": "75f530e8061145c4b3d3d188ad9f28f5",
       "version_major": 2,
       "version_minor": 0
      },
      "text/plain": [
       "  0%|          | 0/25 [00:00<?, ?it/s]"
      ]
     },
     "metadata": {},
     "output_type": "display_data"
    },
    {
     "data": {
      "application/vnd.jupyter.widget-view+json": {
       "model_id": "764d892e511546cea071d44f60508fa7",
       "version_major": 2,
       "version_minor": 0
      },
      "text/plain": [
       "  0%|          | 0/25 [00:00<?, ?it/s]"
      ]
     },
     "metadata": {},
     "output_type": "display_data"
    },
    {
     "name": "stdout",
     "output_type": "stream",
     "text": [
      "Elon\n"
     ]
    },
    {
     "data": {
      "application/vnd.jupyter.widget-view+json": {
       "model_id": "99939daf6ded4518a77537b721cc75e6",
       "version_major": 2,
       "version_minor": 0
      },
      "text/plain": [
       "  0%|          | 0/25 [00:00<?, ?it/s]"
      ]
     },
     "metadata": {},
     "output_type": "display_data"
    },
    {
     "data": {
      "application/vnd.jupyter.widget-view+json": {
       "model_id": "8379af9570224a5f84a85eefc6f40c45",
       "version_major": 2,
       "version_minor": 0
      },
      "text/plain": [
       "  0%|          | 0/25 [00:00<?, ?it/s]"
      ]
     },
     "metadata": {},
     "output_type": "display_data"
    },
    {
     "data": {
      "application/vnd.jupyter.widget-view+json": {
       "model_id": "671169cb78454e72ac0ff906853c8398",
       "version_major": 2,
       "version_minor": 0
      },
      "text/plain": [
       "  0%|          | 0/25 [00:00<?, ?it/s]"
      ]
     },
     "metadata": {},
     "output_type": "display_data"
    },
    {
     "data": {
      "application/vnd.jupyter.widget-view+json": {
       "model_id": "861bdb80055c422fbb453bce1705a90d",
       "version_major": 2,
       "version_minor": 0
      },
      "text/plain": [
       "  0%|          | 0/25 [00:00<?, ?it/s]"
      ]
     },
     "metadata": {},
     "output_type": "display_data"
    },
    {
     "data": {
      "application/vnd.jupyter.widget-view+json": {
       "model_id": "d2b519601f28471b9660ad94f76bc747",
       "version_major": 2,
       "version_minor": 0
      },
      "text/plain": [
       "  0%|          | 0/25 [00:00<?, ?it/s]"
      ]
     },
     "metadata": {},
     "output_type": "display_data"
    },
    {
     "name": "stdout",
     "output_type": "stream",
     "text": [
      "Brian\n"
     ]
    },
    {
     "data": {
      "application/vnd.jupyter.widget-view+json": {
       "model_id": "fff8eb7a432a40a7bef1f66f50d00351",
       "version_major": 2,
       "version_minor": 0
      },
      "text/plain": [
       "  0%|          | 0/25 [00:00<?, ?it/s]"
      ]
     },
     "metadata": {},
     "output_type": "display_data"
    },
    {
     "data": {
      "application/vnd.jupyter.widget-view+json": {
       "model_id": "e8900b7ec1154cefb7e6d3e4568cd6fd",
       "version_major": 2,
       "version_minor": 0
      },
      "text/plain": [
       "  0%|          | 0/25 [00:00<?, ?it/s]"
      ]
     },
     "metadata": {},
     "output_type": "display_data"
    },
    {
     "data": {
      "application/vnd.jupyter.widget-view+json": {
       "model_id": "016e49bfa804443981c55e22c31e2623",
       "version_major": 2,
       "version_minor": 0
      },
      "text/plain": [
       "  0%|          | 0/25 [00:00<?, ?it/s]"
      ]
     },
     "metadata": {},
     "output_type": "display_data"
    },
    {
     "data": {
      "application/vnd.jupyter.widget-view+json": {
       "model_id": "4aaeb37753fe40358f97fcac55c19309",
       "version_major": 2,
       "version_minor": 0
      },
      "text/plain": [
       "  0%|          | 0/25 [00:00<?, ?it/s]"
      ]
     },
     "metadata": {},
     "output_type": "display_data"
    },
    {
     "data": {
      "application/vnd.jupyter.widget-view+json": {
       "model_id": "5f99ef266c2f4358a728bc5cc03a4c3d",
       "version_major": 2,
       "version_minor": 0
      },
      "text/plain": [
       "  0%|          | 0/25 [00:00<?, ?it/s]"
      ]
     },
     "metadata": {},
     "output_type": "display_data"
    },
    {
     "name": "stdout",
     "output_type": "stream",
     "text": [
      "Kevin\n"
     ]
    },
    {
     "data": {
      "application/vnd.jupyter.widget-view+json": {
       "model_id": "37d34b0a78f34bf7a3221359642875d7",
       "version_major": 2,
       "version_minor": 0
      },
      "text/plain": [
       "  0%|          | 0/25 [00:00<?, ?it/s]"
      ]
     },
     "metadata": {},
     "output_type": "display_data"
    },
    {
     "data": {
      "application/vnd.jupyter.widget-view+json": {
       "model_id": "58ffb9bc973c4c1f91d2a49c7215f1f2",
       "version_major": 2,
       "version_minor": 0
      },
      "text/plain": [
       "  0%|          | 0/25 [00:00<?, ?it/s]"
      ]
     },
     "metadata": {},
     "output_type": "display_data"
    },
    {
     "data": {
      "application/vnd.jupyter.widget-view+json": {
       "model_id": "69897235998d426aa6185da2c622174e",
       "version_major": 2,
       "version_minor": 0
      },
      "text/plain": [
       "  0%|          | 0/25 [00:00<?, ?it/s]"
      ]
     },
     "metadata": {},
     "output_type": "display_data"
    },
    {
     "data": {
      "application/vnd.jupyter.widget-view+json": {
       "model_id": "1cf05b1c7231460bba5a93a9bca4c767",
       "version_major": 2,
       "version_minor": 0
      },
      "text/plain": [
       "  0%|          | 0/25 [00:00<?, ?it/s]"
      ]
     },
     "metadata": {},
     "output_type": "display_data"
    },
    {
     "data": {
      "application/vnd.jupyter.widget-view+json": {
       "model_id": "c264dad76a25451db5a09219a113221f",
       "version_major": 2,
       "version_minor": 0
      },
      "text/plain": [
       "  0%|          | 0/25 [00:00<?, ?it/s]"
      ]
     },
     "metadata": {},
     "output_type": "display_data"
    },
    {
     "name": "stdout",
     "output_type": "stream",
     "text": [
      "Dennis\n"
     ]
    },
    {
     "data": {
      "application/vnd.jupyter.widget-view+json": {
       "model_id": "7c5add610c114ae3928402215716be1b",
       "version_major": 2,
       "version_minor": 0
      },
      "text/plain": [
       "  0%|          | 0/25 [00:00<?, ?it/s]"
      ]
     },
     "metadata": {},
     "output_type": "display_data"
    },
    {
     "data": {
      "application/vnd.jupyter.widget-view+json": {
       "model_id": "99dd1c0c76e24b70b0b89cef7062e846",
       "version_major": 2,
       "version_minor": 0
      },
      "text/plain": [
       "  0%|          | 0/25 [00:00<?, ?it/s]"
      ]
     },
     "metadata": {},
     "output_type": "display_data"
    },
    {
     "data": {
      "application/vnd.jupyter.widget-view+json": {
       "model_id": "36b15873221f4056b5f6d50432539b82",
       "version_major": 2,
       "version_minor": 0
      },
      "text/plain": [
       "  0%|          | 0/25 [00:00<?, ?it/s]"
      ]
     },
     "metadata": {},
     "output_type": "display_data"
    },
    {
     "data": {
      "application/vnd.jupyter.widget-view+json": {
       "model_id": "22fc1be5a95843c794e43aa9d523848c",
       "version_major": 2,
       "version_minor": 0
      },
      "text/plain": [
       "  0%|          | 0/25 [00:00<?, ?it/s]"
      ]
     },
     "metadata": {},
     "output_type": "display_data"
    },
    {
     "data": {
      "application/vnd.jupyter.widget-view+json": {
       "model_id": "72421ff1d1414d1dbc8f868f442318f1",
       "version_major": 2,
       "version_minor": 0
      },
      "text/plain": [
       "  0%|          | 0/25 [00:00<?, ?it/s]"
      ]
     },
     "metadata": {},
     "output_type": "display_data"
    },
    {
     "name": "stdout",
     "output_type": "stream",
     "text": [
      "James\n"
     ]
    },
    {
     "data": {
      "application/vnd.jupyter.widget-view+json": {
       "model_id": "d08b4bade23742318b1b8a52e2e8aecf",
       "version_major": 2,
       "version_minor": 0
      },
      "text/plain": [
       "  0%|          | 0/25 [00:00<?, ?it/s]"
      ]
     },
     "metadata": {},
     "output_type": "display_data"
    },
    {
     "data": {
      "application/vnd.jupyter.widget-view+json": {
       "model_id": "f612d20a75a44a329684db2b6d28187e",
       "version_major": 2,
       "version_minor": 0
      },
      "text/plain": [
       "  0%|          | 0/25 [00:00<?, ?it/s]"
      ]
     },
     "metadata": {},
     "output_type": "display_data"
    },
    {
     "data": {
      "application/vnd.jupyter.widget-view+json": {
       "model_id": "2323176ddf374027ab9eb7d33dc3bd93",
       "version_major": 2,
       "version_minor": 0
      },
      "text/plain": [
       "  0%|          | 0/25 [00:00<?, ?it/s]"
      ]
     },
     "metadata": {},
     "output_type": "display_data"
    },
    {
     "data": {
      "application/vnd.jupyter.widget-view+json": {
       "model_id": "20e46a63f1e0441c906c7e30af21f2bd",
       "version_major": 2,
       "version_minor": 0
      },
      "text/plain": [
       "  0%|          | 0/25 [00:00<?, ?it/s]"
      ]
     },
     "metadata": {},
     "output_type": "display_data"
    },
    {
     "data": {
      "application/vnd.jupyter.widget-view+json": {
       "model_id": "0a6c84de4b4246349e1b8bda59be73c2",
       "version_major": 2,
       "version_minor": 0
      },
      "text/plain": [
       "  0%|          | 0/25 [00:00<?, ?it/s]"
      ]
     },
     "metadata": {},
     "output_type": "display_data"
    },
    {
     "name": "stdout",
     "output_type": "stream",
     "text": [
      "Dante\n"
     ]
    },
    {
     "data": {
      "application/vnd.jupyter.widget-view+json": {
       "model_id": "575ecf17d72f474eb5a0f2a17afc71b4",
       "version_major": 2,
       "version_minor": 0
      },
      "text/plain": [
       "  0%|          | 0/25 [00:00<?, ?it/s]"
      ]
     },
     "metadata": {},
     "output_type": "display_data"
    },
    {
     "data": {
      "application/vnd.jupyter.widget-view+json": {
       "model_id": "dce643d596f3471395dde136716ba1c5",
       "version_major": 2,
       "version_minor": 0
      },
      "text/plain": [
       "  0%|          | 0/25 [00:00<?, ?it/s]"
      ]
     },
     "metadata": {},
     "output_type": "display_data"
    },
    {
     "data": {
      "application/vnd.jupyter.widget-view+json": {
       "model_id": "5f12287b0c364435a042481b3ac4afed",
       "version_major": 2,
       "version_minor": 0
      },
      "text/plain": [
       "  0%|          | 0/25 [00:00<?, ?it/s]"
      ]
     },
     "metadata": {},
     "output_type": "display_data"
    },
    {
     "data": {
      "application/vnd.jupyter.widget-view+json": {
       "model_id": "6d4c8ced11a94417af5226ffbca6277d",
       "version_major": 2,
       "version_minor": 0
      },
      "text/plain": [
       "  0%|          | 0/25 [00:00<?, ?it/s]"
      ]
     },
     "metadata": {},
     "output_type": "display_data"
    },
    {
     "data": {
      "application/vnd.jupyter.widget-view+json": {
       "model_id": "b099a70c3e8342f2b5cb020bd900858c",
       "version_major": 2,
       "version_minor": 0
      },
      "text/plain": [
       "  0%|          | 0/25 [00:00<?, ?it/s]"
      ]
     },
     "metadata": {},
     "output_type": "display_data"
    },
    {
     "name": "stdout",
     "output_type": "stream",
     "text": [
      "Anne\n"
     ]
    },
    {
     "data": {
      "application/vnd.jupyter.widget-view+json": {
       "model_id": "99cbdb52be1e413690622d097475c59f",
       "version_major": 2,
       "version_minor": 0
      },
      "text/plain": [
       "  0%|          | 0/25 [00:00<?, ?it/s]"
      ]
     },
     "metadata": {},
     "output_type": "display_data"
    },
    {
     "data": {
      "application/vnd.jupyter.widget-view+json": {
       "model_id": "caae5ee1c95448e49bb6c3c03a85b714",
       "version_major": 2,
       "version_minor": 0
      },
      "text/plain": [
       "  0%|          | 0/25 [00:00<?, ?it/s]"
      ]
     },
     "metadata": {},
     "output_type": "display_data"
    },
    {
     "data": {
      "application/vnd.jupyter.widget-view+json": {
       "model_id": "376c16c7723f4f4caf47a2a7c9930efc",
       "version_major": 2,
       "version_minor": 0
      },
      "text/plain": [
       "  0%|          | 0/25 [00:00<?, ?it/s]"
      ]
     },
     "metadata": {},
     "output_type": "display_data"
    },
    {
     "data": {
      "application/vnd.jupyter.widget-view+json": {
       "model_id": "9e940af630444438bb353cbf6fac6bbe",
       "version_major": 2,
       "version_minor": 0
      },
      "text/plain": [
       "  0%|          | 0/25 [00:00<?, ?it/s]"
      ]
     },
     "metadata": {},
     "output_type": "display_data"
    },
    {
     "data": {
      "application/vnd.jupyter.widget-view+json": {
       "model_id": "d18404ab7aef4a559a8f1e2b0f23b829",
       "version_major": 2,
       "version_minor": 0
      },
      "text/plain": [
       "  0%|          | 0/25 [00:00<?, ?it/s]"
      ]
     },
     "metadata": {},
     "output_type": "display_data"
    },
    {
     "name": "stdout",
     "output_type": "stream",
     "text": [
      "Iko\n"
     ]
    },
    {
     "data": {
      "application/vnd.jupyter.widget-view+json": {
       "model_id": "e1e633fba86c465fa2e210d994e1628e",
       "version_major": 2,
       "version_minor": 0
      },
      "text/plain": [
       "  0%|          | 0/25 [00:00<?, ?it/s]"
      ]
     },
     "metadata": {},
     "output_type": "display_data"
    },
    {
     "data": {
      "application/vnd.jupyter.widget-view+json": {
       "model_id": "9fec43b636b44957b882c546ce699693",
       "version_major": 2,
       "version_minor": 0
      },
      "text/plain": [
       "  0%|          | 0/25 [00:00<?, ?it/s]"
      ]
     },
     "metadata": {},
     "output_type": "display_data"
    },
    {
     "data": {
      "application/vnd.jupyter.widget-view+json": {
       "model_id": "d66643d2d4c943c6a33b52fcbb1160e7",
       "version_major": 2,
       "version_minor": 0
      },
      "text/plain": [
       "  0%|          | 0/25 [00:00<?, ?it/s]"
      ]
     },
     "metadata": {},
     "output_type": "display_data"
    },
    {
     "data": {
      "application/vnd.jupyter.widget-view+json": {
       "model_id": "77ef23e450a54b98b646b61c33f0dd39",
       "version_major": 2,
       "version_minor": 0
      },
      "text/plain": [
       "  0%|          | 0/25 [00:00<?, ?it/s]"
      ]
     },
     "metadata": {},
     "output_type": "display_data"
    },
    {
     "data": {
      "application/vnd.jupyter.widget-view+json": {
       "model_id": "9c590ccfaf56450d89922695331381c2",
       "version_major": 2,
       "version_minor": 0
      },
      "text/plain": [
       "  0%|          | 0/25 [00:00<?, ?it/s]"
      ]
     },
     "metadata": {},
     "output_type": "display_data"
    },
    {
     "name": "stdout",
     "output_type": "stream",
     "text": [
      "Bruce\n",
      "Yayan\n"
     ]
    },
    {
     "data": {
      "application/vnd.jupyter.widget-view+json": {
       "model_id": "1083309f18a24f439895250b19a14d8e",
       "version_major": 2,
       "version_minor": 0
      },
      "text/plain": [
       "  0%|          | 0/25 [00:00<?, ?it/s]"
      ]
     },
     "metadata": {},
     "output_type": "display_data"
    },
    {
     "data": {
      "application/vnd.jupyter.widget-view+json": {
       "model_id": "e41f7a36086549d9b62481f0d016565f",
       "version_major": 2,
       "version_minor": 0
      },
      "text/plain": [
       "  0%|          | 0/25 [00:00<?, ?it/s]"
      ]
     },
     "metadata": {},
     "output_type": "display_data"
    },
    {
     "data": {
      "application/vnd.jupyter.widget-view+json": {
       "model_id": "23b57ac83190427abb300537c497d115",
       "version_major": 2,
       "version_minor": 0
      },
      "text/plain": [
       "  0%|          | 0/25 [00:00<?, ?it/s]"
      ]
     },
     "metadata": {},
     "output_type": "display_data"
    },
    {
     "data": {
      "application/vnd.jupyter.widget-view+json": {
       "model_id": "57db3fb0cade4fc1aca84c9a72b40099",
       "version_major": 2,
       "version_minor": 0
      },
      "text/plain": [
       "  0%|          | 0/25 [00:00<?, ?it/s]"
      ]
     },
     "metadata": {},
     "output_type": "display_data"
    },
    {
     "data": {
      "application/vnd.jupyter.widget-view+json": {
       "model_id": "b25520c319de457dbcee9761df168c60",
       "version_major": 2,
       "version_minor": 0
      },
      "text/plain": [
       "  0%|          | 0/25 [00:00<?, ?it/s]"
      ]
     },
     "metadata": {},
     "output_type": "display_data"
    },
    {
     "name": "stdout",
     "output_type": "stream",
     "text": [
      "Elton\n",
      "Lou\n",
      "Anupam\n",
      "Katy\n"
     ]
    },
    {
     "data": {
      "application/vnd.jupyter.widget-view+json": {
       "model_id": "2065b8dd6d194e869585ebf921645a86",
       "version_major": 2,
       "version_minor": 0
      },
      "text/plain": [
       "  0%|          | 0/25 [00:00<?, ?it/s]"
      ]
     },
     "metadata": {},
     "output_type": "display_data"
    },
    {
     "data": {
      "application/vnd.jupyter.widget-view+json": {
       "model_id": "a9c93b3880a245de8d2bb011932a8bd8",
       "version_major": 2,
       "version_minor": 0
      },
      "text/plain": [
       "  0%|          | 0/25 [00:00<?, ?it/s]"
      ]
     },
     "metadata": {},
     "output_type": "display_data"
    },
    {
     "data": {
      "application/vnd.jupyter.widget-view+json": {
       "model_id": "fa28b31a385940fdb551bb3f957608dc",
       "version_major": 2,
       "version_minor": 0
      },
      "text/plain": [
       "  0%|          | 0/25 [00:00<?, ?it/s]"
      ]
     },
     "metadata": {},
     "output_type": "display_data"
    },
    {
     "data": {
      "application/vnd.jupyter.widget-view+json": {
       "model_id": "f760e5a9cf4941bfbac130e49b56b155",
       "version_major": 2,
       "version_minor": 0
      },
      "text/plain": [
       "  0%|          | 0/25 [00:00<?, ?it/s]"
      ]
     },
     "metadata": {},
     "output_type": "display_data"
    },
    {
     "data": {
      "application/vnd.jupyter.widget-view+json": {
       "model_id": "5385df79fb044645bb220a582db24a9d",
       "version_major": 2,
       "version_minor": 0
      },
      "text/plain": [
       "  0%|          | 0/25 [00:00<?, ?it/s]"
      ]
     },
     "metadata": {},
     "output_type": "display_data"
    },
    {
     "name": "stdout",
     "output_type": "stream",
     "text": [
      "Drake\n"
     ]
    },
    {
     "data": {
      "application/vnd.jupyter.widget-view+json": {
       "model_id": "6189a33152674e4fac8af5cebd0ecac9",
       "version_major": 2,
       "version_minor": 0
      },
      "text/plain": [
       "  0%|          | 0/25 [00:00<?, ?it/s]"
      ]
     },
     "metadata": {},
     "output_type": "display_data"
    },
    {
     "data": {
      "application/vnd.jupyter.widget-view+json": {
       "model_id": "a1746c8515234172bc91439e50b9b25c",
       "version_major": 2,
       "version_minor": 0
      },
      "text/plain": [
       "  0%|          | 0/25 [00:00<?, ?it/s]"
      ]
     },
     "metadata": {},
     "output_type": "display_data"
    },
    {
     "data": {
      "application/vnd.jupyter.widget-view+json": {
       "model_id": "a71f85cc56a945d6a6a91e6d1522098e",
       "version_major": 2,
       "version_minor": 0
      },
      "text/plain": [
       "  0%|          | 0/25 [00:00<?, ?it/s]"
      ]
     },
     "metadata": {},
     "output_type": "display_data"
    },
    {
     "data": {
      "application/vnd.jupyter.widget-view+json": {
       "model_id": "2f338780cb024b7faa80969bb4d75955",
       "version_major": 2,
       "version_minor": 0
      },
      "text/plain": [
       "  0%|          | 0/25 [00:00<?, ?it/s]"
      ]
     },
     "metadata": {},
     "output_type": "display_data"
    },
    {
     "data": {
      "application/vnd.jupyter.widget-view+json": {
       "model_id": "5ef73c91dc654e90b0e92c207be5bdd3",
       "version_major": 2,
       "version_minor": 0
      },
      "text/plain": [
       "  0%|          | 0/25 [00:00<?, ?it/s]"
      ]
     },
     "metadata": {},
     "output_type": "display_data"
    },
    {
     "name": "stdout",
     "output_type": "stream",
     "text": [
      "Dev\n"
     ]
    },
    {
     "data": {
      "application/vnd.jupyter.widget-view+json": {
       "model_id": "937454d8b8bd4dce8502a4a92d364182",
       "version_major": 2,
       "version_minor": 0
      },
      "text/plain": [
       "  0%|          | 0/25 [00:00<?, ?it/s]"
      ]
     },
     "metadata": {},
     "output_type": "display_data"
    },
    {
     "data": {
      "application/vnd.jupyter.widget-view+json": {
       "model_id": "62f1cad7a68b47aa8acb18baa9f8422a",
       "version_major": 2,
       "version_minor": 0
      },
      "text/plain": [
       "  0%|          | 0/25 [00:00<?, ?it/s]"
      ]
     },
     "metadata": {},
     "output_type": "display_data"
    },
    {
     "data": {
      "application/vnd.jupyter.widget-view+json": {
       "model_id": "a027cb72272648db8bc6683958339e04",
       "version_major": 2,
       "version_minor": 0
      },
      "text/plain": [
       "  0%|          | 0/25 [00:00<?, ?it/s]"
      ]
     },
     "metadata": {},
     "output_type": "display_data"
    },
    {
     "data": {
      "application/vnd.jupyter.widget-view+json": {
       "model_id": "cd8e60f1ca314bf987594f2b9236f5b0",
       "version_major": 2,
       "version_minor": 0
      },
      "text/plain": [
       "  0%|          | 0/25 [00:00<?, ?it/s]"
      ]
     },
     "metadata": {},
     "output_type": "display_data"
    },
    {
     "data": {
      "application/vnd.jupyter.widget-view+json": {
       "model_id": "361e34f274d44095ac5a145037c7b37d",
       "version_major": 2,
       "version_minor": 0
      },
      "text/plain": [
       "  0%|          | 0/25 [00:00<?, ?it/s]"
      ]
     },
     "metadata": {},
     "output_type": "display_data"
    },
    {
     "name": "stdout",
     "output_type": "stream",
     "text": [
      "Norah\n"
     ]
    },
    {
     "data": {
      "application/vnd.jupyter.widget-view+json": {
       "model_id": "0f5aba30728340b4ad6f3315aa9e4277",
       "version_major": 2,
       "version_minor": 0
      },
      "text/plain": [
       "  0%|          | 0/25 [00:00<?, ?it/s]"
      ]
     },
     "metadata": {},
     "output_type": "display_data"
    },
    {
     "data": {
      "application/vnd.jupyter.widget-view+json": {
       "model_id": "dbf95656394848c39cc54009a253a63a",
       "version_major": 2,
       "version_minor": 0
      },
      "text/plain": [
       "  0%|          | 0/25 [00:00<?, ?it/s]"
      ]
     },
     "metadata": {},
     "output_type": "display_data"
    },
    {
     "data": {
      "application/vnd.jupyter.widget-view+json": {
       "model_id": "e74e31566346491da67801e9c52e2356",
       "version_major": 2,
       "version_minor": 0
      },
      "text/plain": [
       "  0%|          | 0/25 [00:00<?, ?it/s]"
      ]
     },
     "metadata": {},
     "output_type": "display_data"
    },
    {
     "data": {
      "application/vnd.jupyter.widget-view+json": {
       "model_id": "5580d30ecc68463897b8d7c3e88e15e7",
       "version_major": 2,
       "version_minor": 0
      },
      "text/plain": [
       "  0%|          | 0/25 [00:00<?, ?it/s]"
      ]
     },
     "metadata": {},
     "output_type": "display_data"
    },
    {
     "data": {
      "application/vnd.jupyter.widget-view+json": {
       "model_id": "fba4b3d89d5b4cebb9e1b0ab6eea68be",
       "version_major": 2,
       "version_minor": 0
      },
      "text/plain": [
       "  0%|          | 0/25 [00:00<?, ?it/s]"
      ]
     },
     "metadata": {},
     "output_type": "display_data"
    },
    {
     "name": "stdout",
     "output_type": "stream",
     "text": [
      "Lilly\n",
      "Ellen\n"
     ]
    },
    {
     "data": {
      "application/vnd.jupyter.widget-view+json": {
       "model_id": "00b50d912a95448e8e539c4cd28afdc0",
       "version_major": 2,
       "version_minor": 0
      },
      "text/plain": [
       "  0%|          | 0/25 [00:00<?, ?it/s]"
      ]
     },
     "metadata": {},
     "output_type": "display_data"
    },
    {
     "data": {
      "application/vnd.jupyter.widget-view+json": {
       "model_id": "35f91b13368446c2a670d5f095798167",
       "version_major": 2,
       "version_minor": 0
      },
      "text/plain": [
       "  0%|          | 0/25 [00:00<?, ?it/s]"
      ]
     },
     "metadata": {},
     "output_type": "display_data"
    },
    {
     "data": {
      "application/vnd.jupyter.widget-view+json": {
       "model_id": "91c3434ee35a4feeb41dc1acfcb6e105",
       "version_major": 2,
       "version_minor": 0
      },
      "text/plain": [
       "  0%|          | 0/25 [00:00<?, ?it/s]"
      ]
     },
     "metadata": {},
     "output_type": "display_data"
    },
    {
     "data": {
      "application/vnd.jupyter.widget-view+json": {
       "model_id": "adbbfb354cad4984bf17b8e41a676f82",
       "version_major": 2,
       "version_minor": 0
      },
      "text/plain": [
       "  0%|          | 0/25 [00:00<?, ?it/s]"
      ]
     },
     "metadata": {},
     "output_type": "display_data"
    },
    {
     "data": {
      "application/vnd.jupyter.widget-view+json": {
       "model_id": "ddf726f50ab841cd8dde677982c04668",
       "version_major": 2,
       "version_minor": 0
      },
      "text/plain": [
       "  0%|          | 0/25 [00:00<?, ?it/s]"
      ]
     },
     "metadata": {},
     "output_type": "display_data"
    },
    {
     "name": "stdout",
     "output_type": "stream",
     "text": [
      "Jennifer\n"
     ]
    },
    {
     "data": {
      "application/vnd.jupyter.widget-view+json": {
       "model_id": "9338985ca731428d8dd9a0fede61b98d",
       "version_major": 2,
       "version_minor": 0
      },
      "text/plain": [
       "  0%|          | 0/25 [00:00<?, ?it/s]"
      ]
     },
     "metadata": {},
     "output_type": "display_data"
    },
    {
     "data": {
      "application/vnd.jupyter.widget-view+json": {
       "model_id": "e9595cbdb7ac44738f47c5818c1788bb",
       "version_major": 2,
       "version_minor": 0
      },
      "text/plain": [
       "  0%|          | 0/25 [00:00<?, ?it/s]"
      ]
     },
     "metadata": {},
     "output_type": "display_data"
    },
    {
     "data": {
      "application/vnd.jupyter.widget-view+json": {
       "model_id": "c5bc1cf81e54443ba732211fd9d5398f",
       "version_major": 2,
       "version_minor": 0
      },
      "text/plain": [
       "  0%|          | 0/25 [00:00<?, ?it/s]"
      ]
     },
     "metadata": {},
     "output_type": "display_data"
    },
    {
     "data": {
      "application/vnd.jupyter.widget-view+json": {
       "model_id": "20a2b862ea5347d2a751e19bbff84904",
       "version_major": 2,
       "version_minor": 0
      },
      "text/plain": [
       "  0%|          | 0/25 [00:00<?, ?it/s]"
      ]
     },
     "metadata": {},
     "output_type": "display_data"
    },
    {
     "data": {
      "application/vnd.jupyter.widget-view+json": {
       "model_id": "aba6a55c4e494bc780428f2795a8048a",
       "version_major": 2,
       "version_minor": 0
      },
      "text/plain": [
       "  0%|          | 0/25 [00:00<?, ?it/s]"
      ]
     },
     "metadata": {},
     "output_type": "display_data"
    },
    {
     "name": "stdout",
     "output_type": "stream",
     "text": [
      "Leonardo\n",
      "Mariah\n"
     ]
    },
    {
     "data": {
      "application/vnd.jupyter.widget-view+json": {
       "model_id": "40d43550b5154dbc8e4bc60b66ef9347",
       "version_major": 2,
       "version_minor": 0
      },
      "text/plain": [
       "  0%|          | 0/25 [00:00<?, ?it/s]"
      ]
     },
     "metadata": {},
     "output_type": "display_data"
    },
    {
     "data": {
      "application/vnd.jupyter.widget-view+json": {
       "model_id": "9b199e881a17415592d8fb87337c08ea",
       "version_major": 2,
       "version_minor": 0
      },
      "text/plain": [
       "  0%|          | 0/25 [00:00<?, ?it/s]"
      ]
     },
     "metadata": {},
     "output_type": "display_data"
    },
    {
     "data": {
      "application/vnd.jupyter.widget-view+json": {
       "model_id": "7c56dc04197c469391c46ccc555b9dc4",
       "version_major": 2,
       "version_minor": 0
      },
      "text/plain": [
       "  0%|          | 0/25 [00:00<?, ?it/s]"
      ]
     },
     "metadata": {},
     "output_type": "display_data"
    },
    {
     "data": {
      "application/vnd.jupyter.widget-view+json": {
       "model_id": "6eb08e48df534b5c90214834a185ab4a",
       "version_major": 2,
       "version_minor": 0
      },
      "text/plain": [
       "  0%|          | 0/25 [00:00<?, ?it/s]"
      ]
     },
     "metadata": {},
     "output_type": "display_data"
    },
    {
     "data": {
      "application/vnd.jupyter.widget-view+json": {
       "model_id": "2ae63c6de0fb4b17b181b617832b1006",
       "version_major": 2,
       "version_minor": 0
      },
      "text/plain": [
       "  0%|          | 0/25 [00:00<?, ?it/s]"
      ]
     },
     "metadata": {},
     "output_type": "display_data"
    },
    {
     "name": "stdout",
     "output_type": "stream",
     "text": [
      "Heung\n"
     ]
    },
    {
     "data": {
      "application/vnd.jupyter.widget-view+json": {
       "model_id": "046eed0bb2fe4d7bb7203431bbbaf4af",
       "version_major": 2,
       "version_minor": 0
      },
      "text/plain": [
       "  0%|          | 0/25 [00:00<?, ?it/s]"
      ]
     },
     "metadata": {},
     "output_type": "display_data"
    },
    {
     "data": {
      "application/vnd.jupyter.widget-view+json": {
       "model_id": "f113bc730ee74452a8d9dc2403a6d381",
       "version_major": 2,
       "version_minor": 0
      },
      "text/plain": [
       "  0%|          | 0/25 [00:00<?, ?it/s]"
      ]
     },
     "metadata": {},
     "output_type": "display_data"
    },
    {
     "data": {
      "application/vnd.jupyter.widget-view+json": {
       "model_id": "b911a9b97d524e42985549d5dce163d1",
       "version_major": 2,
       "version_minor": 0
      },
      "text/plain": [
       "  0%|          | 0/25 [00:00<?, ?it/s]"
      ]
     },
     "metadata": {},
     "output_type": "display_data"
    },
    {
     "data": {
      "application/vnd.jupyter.widget-view+json": {
       "model_id": "acdb60d07e97458a81a6a29bea4a676d",
       "version_major": 2,
       "version_minor": 0
      },
      "text/plain": [
       "  0%|          | 0/25 [00:00<?, ?it/s]"
      ]
     },
     "metadata": {},
     "output_type": "display_data"
    },
    {
     "data": {
      "application/vnd.jupyter.widget-view+json": {
       "model_id": "7f4de3b6f2424d0abadca45e94792777",
       "version_major": 2,
       "version_minor": 0
      },
      "text/plain": [
       "  0%|          | 0/25 [00:00<?, ?it/s]"
      ]
     },
     "metadata": {},
     "output_type": "display_data"
    },
    {
     "name": "stdout",
     "output_type": "stream",
     "text": [
      "Mindy\n",
      "Howard\n",
      "Meera\n"
     ]
    },
    {
     "data": {
      "application/vnd.jupyter.widget-view+json": {
       "model_id": "db05e72c7cd54796a4a83edef21f8709",
       "version_major": 2,
       "version_minor": 0
      },
      "text/plain": [
       "  0%|          | 0/25 [00:00<?, ?it/s]"
      ]
     },
     "metadata": {},
     "output_type": "display_data"
    },
    {
     "data": {
      "application/vnd.jupyter.widget-view+json": {
       "model_id": "5992393a76864fa68370565986c03e2e",
       "version_major": 2,
       "version_minor": 0
      },
      "text/plain": [
       "  0%|          | 0/25 [00:00<?, ?it/s]"
      ]
     },
     "metadata": {},
     "output_type": "display_data"
    },
    {
     "data": {
      "application/vnd.jupyter.widget-view+json": {
       "model_id": "4a510d12b0654f908414e6b43a84a73e",
       "version_major": 2,
       "version_minor": 0
      },
      "text/plain": [
       "  0%|          | 0/25 [00:00<?, ?it/s]"
      ]
     },
     "metadata": {},
     "output_type": "display_data"
    },
    {
     "data": {
      "application/vnd.jupyter.widget-view+json": {
       "model_id": "3eb292c4f2244443ac670adec16e4591",
       "version_major": 2,
       "version_minor": 0
      },
      "text/plain": [
       "  0%|          | 0/25 [00:00<?, ?it/s]"
      ]
     },
     "metadata": {},
     "output_type": "display_data"
    },
    {
     "data": {
      "application/vnd.jupyter.widget-view+json": {
       "model_id": "d0ab90b0d8c44653ba7aee5b2cfe838e",
       "version_major": 2,
       "version_minor": 0
      },
      "text/plain": [
       "  0%|          | 0/25 [00:00<?, ?it/s]"
      ]
     },
     "metadata": {},
     "output_type": "display_data"
    },
    {
     "name": "stdout",
     "output_type": "stream",
     "text": [
      "Tony\n"
     ]
    },
    {
     "data": {
      "application/vnd.jupyter.widget-view+json": {
       "model_id": "17d9108159024ead8f920f040ad223f2",
       "version_major": 2,
       "version_minor": 0
      },
      "text/plain": [
       "  0%|          | 0/25 [00:00<?, ?it/s]"
      ]
     },
     "metadata": {},
     "output_type": "display_data"
    },
    {
     "data": {
      "application/vnd.jupyter.widget-view+json": {
       "model_id": "bd20221716b74f09a9455e6524261fa8",
       "version_major": 2,
       "version_minor": 0
      },
      "text/plain": [
       "  0%|          | 0/25 [00:00<?, ?it/s]"
      ]
     },
     "metadata": {},
     "output_type": "display_data"
    },
    {
     "data": {
      "application/vnd.jupyter.widget-view+json": {
       "model_id": "9b1f8c95d20f4fa3859eaf88d46cd973",
       "version_major": 2,
       "version_minor": 0
      },
      "text/plain": [
       "  0%|          | 0/25 [00:00<?, ?it/s]"
      ]
     },
     "metadata": {},
     "output_type": "display_data"
    },
    {
     "data": {
      "application/vnd.jupyter.widget-view+json": {
       "model_id": "a9d456b0e66b40d6adbb0a2b7479c5de",
       "version_major": 2,
       "version_minor": 0
      },
      "text/plain": [
       "  0%|          | 0/25 [00:00<?, ?it/s]"
      ]
     },
     "metadata": {},
     "output_type": "display_data"
    },
    {
     "data": {
      "application/vnd.jupyter.widget-view+json": {
       "model_id": "619c73814bc94d299869e0a6d36d2c5f",
       "version_major": 2,
       "version_minor": 0
      },
      "text/plain": [
       "  0%|          | 0/25 [00:00<?, ?it/s]"
      ]
     },
     "metadata": {},
     "output_type": "display_data"
    },
    {
     "name": "stdout",
     "output_type": "stream",
     "text": [
      "Taylor\n"
     ]
    },
    {
     "data": {
      "application/vnd.jupyter.widget-view+json": {
       "model_id": "0503aca739c1481599e7b026f23b99a5",
       "version_major": 2,
       "version_minor": 0
      },
      "text/plain": [
       "  0%|          | 0/25 [00:00<?, ?it/s]"
      ]
     },
     "metadata": {},
     "output_type": "display_data"
    },
    {
     "data": {
      "application/vnd.jupyter.widget-view+json": {
       "model_id": "7a706d93f40147cc90bba541e1680e53",
       "version_major": 2,
       "version_minor": 0
      },
      "text/plain": [
       "  0%|          | 0/25 [00:00<?, ?it/s]"
      ]
     },
     "metadata": {},
     "output_type": "display_data"
    },
    {
     "data": {
      "application/vnd.jupyter.widget-view+json": {
       "model_id": "fbb1c2fa02e746afaa6c85ac2b848dfc",
       "version_major": 2,
       "version_minor": 0
      },
      "text/plain": [
       "  0%|          | 0/25 [00:00<?, ?it/s]"
      ]
     },
     "metadata": {},
     "output_type": "display_data"
    },
    {
     "data": {
      "application/vnd.jupyter.widget-view+json": {
       "model_id": "785054a4eb954a03a59f651b7ec847c8",
       "version_major": 2,
       "version_minor": 0
      },
      "text/plain": [
       "  0%|          | 0/25 [00:00<?, ?it/s]"
      ]
     },
     "metadata": {},
     "output_type": "display_data"
    },
    {
     "data": {
      "application/vnd.jupyter.widget-view+json": {
       "model_id": "056ebff6b52f401cad4be34600a96394",
       "version_major": 2,
       "version_minor": 0
      },
      "text/plain": [
       "  0%|          | 0/25 [00:00<?, ?it/s]"
      ]
     },
     "metadata": {},
     "output_type": "display_data"
    },
    {
     "name": "stdout",
     "output_type": "stream",
     "text": [
      "Sandra\n",
      "Ernie\n"
     ]
    },
    {
     "data": {
      "application/vnd.jupyter.widget-view+json": {
       "model_id": "6cc06e588e744a1697c7698fd2c03950",
       "version_major": 2,
       "version_minor": 0
      },
      "text/plain": [
       "  0%|          | 0/25 [00:00<?, ?it/s]"
      ]
     },
     "metadata": {},
     "output_type": "display_data"
    },
    {
     "data": {
      "application/vnd.jupyter.widget-view+json": {
       "model_id": "3c62eab27e634fdd98b9e8b576a897fa",
       "version_major": 2,
       "version_minor": 0
      },
      "text/plain": [
       "  0%|          | 0/25 [00:00<?, ?it/s]"
      ]
     },
     "metadata": {},
     "output_type": "display_data"
    },
    {
     "data": {
      "application/vnd.jupyter.widget-view+json": {
       "model_id": "2df8dfe88d98453085b847c1f725a59c",
       "version_major": 2,
       "version_minor": 0
      },
      "text/plain": [
       "  0%|          | 0/25 [00:00<?, ?it/s]"
      ]
     },
     "metadata": {},
     "output_type": "display_data"
    },
    {
     "data": {
      "application/vnd.jupyter.widget-view+json": {
       "model_id": "0a83396652e845aaa12bab17ea9d385c",
       "version_major": 2,
       "version_minor": 0
      },
      "text/plain": [
       "  0%|          | 0/25 [00:00<?, ?it/s]"
      ]
     },
     "metadata": {},
     "output_type": "display_data"
    },
    {
     "data": {
      "application/vnd.jupyter.widget-view+json": {
       "model_id": "568af36be4664c8cb747a0df20573282",
       "version_major": 2,
       "version_minor": 0
      },
      "text/plain": [
       "  0%|          | 0/25 [00:00<?, ?it/s]"
      ]
     },
     "metadata": {},
     "output_type": "display_data"
    },
    {
     "name": "stdout",
     "output_type": "stream",
     "text": [
      "Madonna\n"
     ]
    },
    {
     "data": {
      "application/vnd.jupyter.widget-view+json": {
       "model_id": "b6a7c6f06c7b489c8bc4b33af7049be6",
       "version_major": 2,
       "version_minor": 0
      },
      "text/plain": [
       "  0%|          | 0/25 [00:00<?, ?it/s]"
      ]
     },
     "metadata": {},
     "output_type": "display_data"
    },
    {
     "data": {
      "application/vnd.jupyter.widget-view+json": {
       "model_id": "0c7e39a5d18743fea157146567fc1037",
       "version_major": 2,
       "version_minor": 0
      },
      "text/plain": [
       "  0%|          | 0/25 [00:00<?, ?it/s]"
      ]
     },
     "metadata": {},
     "output_type": "display_data"
    },
    {
     "data": {
      "application/vnd.jupyter.widget-view+json": {
       "model_id": "5c22b0c4c11f46f6bba6495c9c762aa9",
       "version_major": 2,
       "version_minor": 0
      },
      "text/plain": [
       "  0%|          | 0/25 [00:00<?, ?it/s]"
      ]
     },
     "metadata": {},
     "output_type": "display_data"
    },
    {
     "data": {
      "application/vnd.jupyter.widget-view+json": {
       "model_id": "5258dc89603c42eeb9ad72b4b9a2496c",
       "version_major": 2,
       "version_minor": 0
      },
      "text/plain": [
       "  0%|          | 0/25 [00:00<?, ?it/s]"
      ]
     },
     "metadata": {},
     "output_type": "display_data"
    },
    {
     "data": {
      "application/vnd.jupyter.widget-view+json": {
       "model_id": "5dd59d69d6e8482aa1a5e3b2da09a671",
       "version_major": 2,
       "version_minor": 0
      },
      "text/plain": [
       "  0%|          | 0/25 [00:00<?, ?it/s]"
      ]
     },
     "metadata": {},
     "output_type": "display_data"
    },
    {
     "name": "stdout",
     "output_type": "stream",
     "text": [
      "Kelly\n"
     ]
    },
    {
     "data": {
      "application/vnd.jupyter.widget-view+json": {
       "model_id": "031c4985d462438aa1d099e9b674438a",
       "version_major": 2,
       "version_minor": 0
      },
      "text/plain": [
       "  0%|          | 0/25 [00:00<?, ?it/s]"
      ]
     },
     "metadata": {},
     "output_type": "display_data"
    },
    {
     "data": {
      "application/vnd.jupyter.widget-view+json": {
       "model_id": "e98de18b91e9420ea956409898bfe635",
       "version_major": 2,
       "version_minor": 0
      },
      "text/plain": [
       "  0%|          | 0/25 [00:00<?, ?it/s]"
      ]
     },
     "metadata": {},
     "output_type": "display_data"
    },
    {
     "data": {
      "application/vnd.jupyter.widget-view+json": {
       "model_id": "c6d92031bc104851b27e6ef7223828de",
       "version_major": 2,
       "version_minor": 0
      },
      "text/plain": [
       "  0%|          | 0/25 [00:00<?, ?it/s]"
      ]
     },
     "metadata": {},
     "output_type": "display_data"
    },
    {
     "data": {
      "application/vnd.jupyter.widget-view+json": {
       "model_id": "40c322574d484766a0214643246835e8",
       "version_major": 2,
       "version_minor": 0
      },
      "text/plain": [
       "  0%|          | 0/25 [00:00<?, ?it/s]"
      ]
     },
     "metadata": {},
     "output_type": "display_data"
    },
    {
     "data": {
      "application/vnd.jupyter.widget-view+json": {
       "model_id": "5899b45bb5294a979dfb0d1281cdf66e",
       "version_major": 2,
       "version_minor": 0
      },
      "text/plain": [
       "  0%|          | 0/25 [00:00<?, ?it/s]"
      ]
     },
     "metadata": {},
     "output_type": "display_data"
    },
    {
     "name": "stdout",
     "output_type": "stream",
     "text": [
      "Britney\n",
      "Tina\n"
     ]
    },
    {
     "data": {
      "application/vnd.jupyter.widget-view+json": {
       "model_id": "d6e74abe6b934b4ab10056a4a4000d62",
       "version_major": 2,
       "version_minor": 0
      },
      "text/plain": [
       "  0%|          | 0/25 [00:00<?, ?it/s]"
      ]
     },
     "metadata": {},
     "output_type": "display_data"
    },
    {
     "data": {
      "application/vnd.jupyter.widget-view+json": {
       "model_id": "e662363ed4134c5b90a1cec07c3c4427",
       "version_major": 2,
       "version_minor": 0
      },
      "text/plain": [
       "  0%|          | 0/25 [00:00<?, ?it/s]"
      ]
     },
     "metadata": {},
     "output_type": "display_data"
    },
    {
     "data": {
      "application/vnd.jupyter.widget-view+json": {
       "model_id": "ffe259e2962c42ec9d6b79bfc53906be",
       "version_major": 2,
       "version_minor": 0
      },
      "text/plain": [
       "  0%|          | 0/25 [00:00<?, ?it/s]"
      ]
     },
     "metadata": {},
     "output_type": "display_data"
    },
    {
     "data": {
      "application/vnd.jupyter.widget-view+json": {
       "model_id": "4e0e17c270ee4c3199b6d3c1080af489",
       "version_major": 2,
       "version_minor": 0
      },
      "text/plain": [
       "  0%|          | 0/25 [00:00<?, ?it/s]"
      ]
     },
     "metadata": {},
     "output_type": "display_data"
    },
    {
     "data": {
      "application/vnd.jupyter.widget-view+json": {
       "model_id": "a0842bc185644f23a93fe2fea3d1b396",
       "version_major": 2,
       "version_minor": 0
      },
      "text/plain": [
       "  0%|          | 0/25 [00:00<?, ?it/s]"
      ]
     },
     "metadata": {},
     "output_type": "display_data"
    },
    {
     "name": "stdout",
     "output_type": "stream",
     "text": [
      "Tatyana\n"
     ]
    },
    {
     "data": {
      "application/vnd.jupyter.widget-view+json": {
       "model_id": "befb2ca9447b4a99b7bfea3b13e5e578",
       "version_major": 2,
       "version_minor": 0
      },
      "text/plain": [
       "  0%|          | 0/25 [00:00<?, ?it/s]"
      ]
     },
     "metadata": {},
     "output_type": "display_data"
    },
    {
     "data": {
      "application/vnd.jupyter.widget-view+json": {
       "model_id": "e42b4bef506749858b72a58250f4d160",
       "version_major": 2,
       "version_minor": 0
      },
      "text/plain": [
       "  0%|          | 0/25 [00:00<?, ?it/s]"
      ]
     },
     "metadata": {},
     "output_type": "display_data"
    },
    {
     "data": {
      "application/vnd.jupyter.widget-view+json": {
       "model_id": "51f81673fa3d49b0832769fef5728798",
       "version_major": 2,
       "version_minor": 0
      },
      "text/plain": [
       "  0%|          | 0/25 [00:00<?, ?it/s]"
      ]
     },
     "metadata": {},
     "output_type": "display_data"
    },
    {
     "data": {
      "application/vnd.jupyter.widget-view+json": {
       "model_id": "37da4e49be974e1892bd9a4a57291fd5",
       "version_major": 2,
       "version_minor": 0
      },
      "text/plain": [
       "  0%|          | 0/25 [00:00<?, ?it/s]"
      ]
     },
     "metadata": {},
     "output_type": "display_data"
    },
    {
     "data": {
      "application/vnd.jupyter.widget-view+json": {
       "model_id": "f6526d19bbc143569d044f0557d3abef",
       "version_major": 2,
       "version_minor": 0
      },
      "text/plain": [
       "  0%|          | 0/25 [00:00<?, ?it/s]"
      ]
     },
     "metadata": {},
     "output_type": "display_data"
    },
    {
     "name": "stdout",
     "output_type": "stream",
     "text": [
      "Roger\n"
     ]
    }
   ],
   "source": [
    "# RUN THIS CELL TO GENERATE IMAGES\n",
    "\n",
    "names = first_names\n",
    "\n",
    "kwargs = dict(\n",
    "    num_inference_steps=25,\n",
    "    num_images_per_prompt=8\n",
    ")\n",
    "\n",
    "root = Path(\"images\")\n",
    "\n",
    "#images_per_prompt = 24 #40\n",
    "images_per_prompt = 64\n",
    "\n",
    "for name in names:\n",
    "    print(name)\n",
    "    prompt = f\"a photo of {name}, portrait photography, full color, face full frame\"\n",
    "    prompt = prompt.lower().strip()\n",
    "    \n",
    "    prompt_clean = prompt.replace(',','')\n",
    "    outdir = root / prompt_clean.replace(' ','_')  \n",
    "    outdir.mkdir(parents=True, exist_ok=True)\n",
    "    while len(list(outdir.glob('*.png'))) < images_per_prompt:\n",
    "        outv = pipe(prompt, **kwargs)\n",
    "        #if any(outv.nsfw_content_detected):\n",
    "        #    #continue\n",
    "        #    break\n",
    "\n",
    "        for idx,im in enumerate(outv.images):\n",
    "            # would prefer to name images by seed, but hf is makes it hard.\n",
    "            fname = outdir / f\"{int(time.time())}_{idx}.png\" \n",
    "            im.save(fname)\n"
   ]
  },
  {
   "cell_type": "code",
   "execution_count": null,
   "id": "26e60548-2fee-4af0-973b-68807e159a7f",
   "metadata": {
    "tags": []
   },
   "outputs": [],
   "source": [
    "# let's generate a shit load of images \n",
    "# for a few high-bias names as a calibration control\n",
    "# for sensitivity analysis.\n",
    "\n",
    "high_bias_names = [\n",
    "    \"oprah\",\n",
    "    \"keanu\",\n",
    "    \"cher\",\n",
    "    \"beyoncé\",\n",
    "    \"shaquille\",\n",
    "    \"rihanna\",\n",
    "    \"anupam\",\n",
    "]\n",
    "\n",
    "images_per_prompt = 200\n",
    "\n",
    "\n",
    "for name in high_bias_names:\n",
    "    print(name)\n",
    "    prompt = f\"a photo of {name}, portrait photography, full color, face full frame\"\n",
    "    prompt = prompt.lower().strip()\n",
    "    \n",
    "    prompt_clean = prompt.replace(',','')\n",
    "    outdir = root / prompt_clean.replace(' ','_')  \n",
    "    outdir.mkdir(parents=True, exist_ok=True)\n",
    "    while len(list(outdir.glob('*.png'))) < images_per_prompt:\n",
    "        outv = pipe(prompt, **kwargs)\n",
    "        #if any(outv.nsfw_content_detected):\n",
    "        #    #continue\n",
    "        #    break\n",
    "\n",
    "        for idx,im in enumerate(outv.images):\n",
    "            # would prefer to name images by seed, but hf is makes it hard.\n",
    "            fname = outdir / f\"{int(time.time())}_{idx}.png\" \n",
    "            im.save(fname)"
   ]
  },
  {
   "cell_type": "markdown",
   "id": "eef38344-6773-4877-af63-c7e4e617b069",
   "metadata": {},
   "source": [
    "# Image embedding\n",
    "\n",
    "## DINO"
   ]
  },
  {
   "cell_type": "code",
   "execution_count": 50,
   "id": "ec844567-6d81-491d-90d9-39ed4ebfab91",
   "metadata": {
    "tags": []
   },
   "outputs": [],
   "source": [
    "#del dinov2_vits14\n",
    "#del pipe\n",
    "import gc\n",
    "gc.collect()\n",
    "torch.cuda.empty_cache()"
   ]
  },
  {
   "cell_type": "code",
   "execution_count": 51,
   "id": "72a36e94-2f2a-4ecf-bd50-c14f24832b67",
   "metadata": {
    "tags": []
   },
   "outputs": [
    {
     "name": "stderr",
     "output_type": "stream",
     "text": [
      "Using cache found in /home/dmarx/.cache/torch/hub/facebookresearch_dinov2_main\n",
      "Downloading: \"https://dl.fbaipublicfiles.com/dinov2/dinov2_vitg14/dinov2_vitg14_pretrain.pth\" to /home/dmarx/.cache/torch/hub/checkpoints/dinov2_vitg14_pretrain.pth\n",
      "100%|██████████| 4.23G/4.23G [13:33<00:00, 5.59MB/s]  \n"
     ]
    },
    {
     "data": {
      "text/plain": [
       "DinoVisionTransformer(\n",
       "  (patch_embed): PatchEmbed(\n",
       "    (proj): Conv2d(3, 1536, kernel_size=(14, 14), stride=(14, 14))\n",
       "    (norm): Identity()\n",
       "  )\n",
       "  (blocks): ModuleList(\n",
       "    (0-39): 40 x NestedTensorBlock(\n",
       "      (norm1): LayerNorm((1536,), eps=1e-06, elementwise_affine=True)\n",
       "      (attn): MemEffAttention(\n",
       "        (qkv): Linear(in_features=1536, out_features=4608, bias=True)\n",
       "        (attn_drop): Dropout(p=0.0, inplace=False)\n",
       "        (proj): Linear(in_features=1536, out_features=1536, bias=True)\n",
       "        (proj_drop): Dropout(p=0.0, inplace=False)\n",
       "      )\n",
       "      (ls1): LayerScale()\n",
       "      (drop_path1): Identity()\n",
       "      (norm2): LayerNorm((1536,), eps=1e-06, elementwise_affine=True)\n",
       "      (mlp): SwiGLUFFNFused(\n",
       "        (w12): Linear(in_features=1536, out_features=8192, bias=True)\n",
       "        (w3): Linear(in_features=4096, out_features=1536, bias=True)\n",
       "      )\n",
       "      (ls2): LayerScale()\n",
       "      (drop_path2): Identity()\n",
       "    )\n",
       "  )\n",
       "  (norm): LayerNorm((1536,), eps=1e-06, elementwise_affine=True)\n",
       "  (head): Identity()\n",
       ")"
      ]
     },
     "execution_count": 51,
     "metadata": {},
     "output_type": "execute_result"
    }
   ],
   "source": [
    "#dinov2_vits14 = torch.hub.load('facebookresearch/dinov2', 'dinov2_vits14')\n",
    "#dinov2_vitb14 = torch.hub.load('facebookresearch/dinov2', 'dinov2_vitb14')\n",
    "#dinov2_vitl14 = torch.hub.load('facebookresearch/dinov2', 'dinov2_vitl14')\n",
    "dinov2_vitg14 = torch.hub.load('facebookresearch/dinov2', 'dinov2_vitg14')\n",
    "\n",
    "#backbone_model = dinov2_vits14\n",
    "#emb_suffix = \".dinov2_cls.embed\"\n",
    "\n",
    "\n",
    "backbone_model = dinov2_vitg14\n",
    "emb_suffix = \".dinov2_vitg14_cls.embed\"\n",
    "\n",
    "\n",
    "backbone_model.eval()\n",
    "backbone_model.cuda()"
   ]
  },
  {
   "cell_type": "code",
   "execution_count": 98,
   "id": "f710daef-2336-4489-9de2-694f20443ae3",
   "metadata": {
    "tags": []
   },
   "outputs": [],
   "source": [
    "#im.getexif()\n",
    "\n",
    "# x = torch.tensor(np.array(im.resize([560,560]))).unsqueeze(0).cuda()\n",
    "# x=x.transpose(3,1)\n",
    "# x=x.float()"
   ]
  },
  {
   "cell_type": "code",
   "execution_count": 99,
   "id": "a17b9a44-d193-4d51-a1fe-96ba6aca5103",
   "metadata": {
    "tags": []
   },
   "outputs": [
    {
     "data": {
      "text/plain": [
       "dict_keys(['x_norm_clstoken', 'x_norm_patchtokens', 'x_prenorm', 'masks'])"
      ]
     },
     "execution_count": 99,
     "metadata": {},
     "output_type": "execute_result"
    }
   ],
   "source": [
    "# TODO: would be nice if images were of some size that\n",
    "# had 8 and 14 as a common factor.\n",
    "# 560 x 560 is probably a good option.\n",
    "# 896 would also have 64 as a common factor.\n",
    "\n",
    "#outv = backbone_model.forward_features(x)\n",
    "#outv.keys()"
   ]
  },
  {
   "cell_type": "code",
   "execution_count": 104,
   "id": "6c0d9164-aeec-4fb7-a4bd-35b1c0de3b7e",
   "metadata": {
    "tags": []
   },
   "outputs": [
    {
     "name": "stdout",
     "output_type": "stream",
     "text": [
      "('x_norm_clstoken', torch.Size([1, 384]))\n",
      "('x_norm_patchtokens', torch.Size([1, 1600, 384]))\n",
      "('x_prenorm', torch.Size([1, 1601, 384]))\n"
     ]
    }
   ],
   "source": [
    "# for k in outv.keys():\n",
    "#     if outv[k] is not None:\n",
    "#         print((k,outv[k].shape))\n",
    "        \n",
    "# # ('x_norm_clstoken', torch.Size([1, 384]))\n",
    "# # ('x_norm_patchtokens', torch.Size([1, 1600, 384]))\n",
    "# # ('x_prenorm', torch.Size([1, 1601, 384]))"
   ]
  },
  {
   "cell_type": "code",
   "execution_count": 3,
   "id": "85340066-4de9-43be-a25f-cd0b4e109169",
   "metadata": {
    "tags": []
   },
   "outputs": [],
   "source": [
    "# run through images in a folder, project each into the clstoken and persist\n",
    "\n",
    "def image2dino(image):\n",
    "    # prep image\n",
    "    x = torch.tensor(np.array(image.resize([560,560]))).unsqueeze(0).cuda()\n",
    "    x=x.transpose(3,1)\n",
    "    x=x.float()\n",
    "    \n",
    "    # project\n",
    "    outv = backbone_model.forward_features(x)\n",
    "    return outv['x_norm_clstoken']\n",
    "\n",
    "#embed = image2dino(im)\n",
    "#embed.shape"
   ]
  },
  {
   "cell_type": "code",
   "execution_count": 178,
   "id": "9b851701-0522-46a8-b573-64fe1cb1d976",
   "metadata": {
    "collapsed": true,
    "jupyter": {
     "outputs_hidden": true
    },
    "tags": []
   },
   "outputs": [
    {
     "name": "stdout",
     "output_type": "stream",
     "text": [
      "images/a_photo_of_hailee_portrait_photography_full_color_face_full_frame\n",
      "images/a_photo_of_jerry_portrait_photography_full_color_face_full_frame\n",
      "images/a_photo_of_norah_portrait_photography_full_color_face_full_frame\n",
      "images/a_photo_of_sanjeev_portrait_photography_full_color_face_full_frame\n",
      "images/a_photo_of_bruce_portrait_photography_full_color_face_full_frame\n",
      "images/a_photo_of_michael_portrait_photography\n",
      "images/a_photo_of_kevin_portrait_photography_full_color_face_full_frame\n",
      "images/a_photo_of_amol_portrait_photography_full_color_face_full_frame\n",
      "images/a_photo_of_sarah_portrait_photography_full_color_face_full_frame\n",
      "images/a_photo_of_mariah_portrait_photography_full_color_face_full_frame\n",
      "images/a_photo_of_tyler_portrait_photography_full_color_face_full_frame\n",
      "images/a_photo_of_himesh_portrait_photography_full_color_face_full_frame\n",
      "images/a_photo_of_simon_portrait_photography_full_color_face_full_frame\n",
      "images/a_photo_of_kelly_portrait_photography_full_color_face_full_frame\n",
      "images/a_photo_of_taylor_portrait_photography_full_color_face_full_frame\n",
      "images/a_photo_of_cher_portrait_photography_full_color_face_full_frame\n",
      "images/a_photo_of_sandra_portrait_photography_full_color_face_full_frame\n",
      "images/a_photo_of_ellen_portrait_photography_full_color_face_full_frame\n",
      "images/a_photo_of_keanu_portrait_photography_full_color_face_full_frame\n",
      "images/a_photo_of_meera_portrait_photography_full_color_face_full_frame\n",
      "images/a_photo_of_steven_portrait_photography_full_color_face_full_frame\n",
      "images/a_photo_of_ernie_portrait_photography_full_color_face_full_frame\n",
      "images/a_photo_of_dev_portrait_photography_full_color_face_full_frame\n",
      "images/a_photo_of_rush_portrait_photography_full_color_face_full_frame\n",
      "images/a_photo_of_rihanna_portrait_photography_full_color_face_full_frame\n",
      "images/a_photo_of_elton_portrait_photography_full_color_face_full_frame\n",
      "images/a_photo_of_dante_portrait_photography_full_color_face_full_frame\n",
      "images/a_photo_of_mindy_portrait_photography\n",
      "images/a_photo_of_dwayne_portrait_photography_full_color_face_full_frame\n",
      "images/a_photo_of_beyoncé_portrait_photography_full_color_face_full_frame\n",
      "images/a_photo_of_tony_portrait_photography_full_color_face_full_frame\n",
      "images/a_photo_of_brad_portrait_photography\n",
      "images/a_photo_of_mel_portrait_photography_full_color_face_full_frame\n",
      "images/jerry\n",
      "images/kylie\n",
      "images/a_photo_of_tom_portrait_photography_full_color_face_full_frame\n",
      "images/a_photo_of_madonna_portrait_photography_full_color_face_full_frame\n",
      "images/a_photo_of_sung_portrait_photography_full_color_face_full_frame\n",
      "images/a_photo_of_justin_portrait_photography_full_color_face_full_frame\n",
      "images/a_photo_of_iko_portrait_photography_full_color_face_full_frame\n",
      "images/a_photo_of_naga_portrait_photography_full_color_face_full_frame\n",
      "images/a_photo_of_james_portrait_photography_full_color_face_full_frame\n",
      "images/a_photo_of_julia_portrait_photography\n",
      "images/a_photo_of_kanye_portrait_photography_full_color_face_full_frame\n",
      "images/a_photo_of_paul_portrait_photography_full_color_face_full_frame\n",
      "images/a_photo_of_lionel_portrait_photography_full_color_face_full_frame\n",
      "images/a_photo_of_devon_portrait_photography_full_color_face_full_frame\n",
      "images/michael\n",
      "images/a_photo_of_davood_portrait_photography_full_color_face_full_frame\n",
      "images/a_photo_of_britney_portrait_photography\n",
      "images/david\n",
      "images/a_photo_of_rae_portrait_photography_full_color_face_full_frame\n",
      "images/a_photo_of_amita_portrait_photography_full_color_face_full_frame\n",
      "images/a_photo_of_angelina_portrait_photography_full_color_face_full_frame\n",
      "images/a_photo_of_harrison_portrait_photography_full_color_face_full_frame\n",
      "images/a_photo_of_rick_portrait_photography_full_color_face_full_frame\n",
      "images/a_photo_of_robin_portrait_photography_full_color_face_full_frame\n",
      "images/a_photo_of_jennifer_portrait_photography_full_color_face_full_frame\n",
      "images/a_photo_of_tatyana_portrait_photography_full_color_face_full_frame\n",
      "images/a_photo_of_nadia_portrait_photography_full_color_face_full_frame\n",
      "images/a_photo_of_johnny_portrait_photography\n",
      "images/a_photo_of_david_portrait_photography_full_color_face_full_frame\n",
      "images/a_photo_of_pat_portrait_photography_full_color_face_full_frame\n",
      "images/a_photo_of_tina_portrait_photography_full_color_face_full_frame\n",
      "images/a_photo_of_elton_portrait_photography\n",
      "images/a_photo_of_archie_portrait_photography_full_color_face_full_frame\n",
      "images/a_photo_of_yuvraj_portrait_photography_full_color_face_full_frame\n",
      "images/a_photo_of_celina_portrait_photography_full_color_face_full_frame\n",
      "images/a_photo_of_kim_portrait_photography_full_color_face_full_frame\n",
      "images/a_photo_of_leonardo_portrait_photography_full_color_face_full_frame\n",
      "images/a_photo_of_kunal_portrait_photography_full_color_face_full_frame\n",
      "images/a_photo_of_lou_portrait_photography_full_color_face_full_frame\n",
      "images/brad\n",
      "images/a_photo_of_kylie_portrait_photography\n",
      "images/a_photo_of_will_portrait_photography_full_color_face_full_frame\n",
      "images/a_photo_of_roger_portrait_photography\n",
      "images/a_photo_of_lilly_portrait_photography_full_color_face_full_frame\n",
      "images/a_photo_of_julia_portrait_photography_full_color_face_full_frame\n",
      "images/a_photo_of_lebron_portrait_photography_full_color_face_full_frame\n",
      "images/a_photo_of_nina_portrait_photography_full_color_face_full_frame\n",
      "images/a_photo_of_dave_portrait_photography_full_color_face_full_frame\n",
      "images/a_photo_of_jerry_portrait_photography\n",
      "images/a_photo_of_billy_portrait_photography_full_color_face_full_frame\n",
      "images/a_photo_of_britney_portrait_photography_full_color_face_full_frame\n",
      "images/a_photo_of_michael_portrait_photography_full_color_face_full_frame\n",
      "images/a_photo_of_donnie_portrait_photography_full_color_face_full_frame\n",
      "images/britney\n",
      "images/a_photo_of_katy_portrait_photography_full_color_face_full_frame\n",
      "images/a_photo_of_yayan_portrait_photography_full_color_face_full_frame\n",
      "images/a_photo_of_elon_portrait_photography_full_color_face_full_frame\n",
      "images/a_photo_of_anupam_portrait_photography_full_color_face_full_frame\n",
      "images/a_photo_of_judge_portrait_photography_full_color_face_full_frame\n",
      "images/a_photo_of_lady_portrait_photography_full_color_face_full_frame\n",
      "images/a_photo_of_heung_portrait_photography_full_color_face_full_frame\n",
      "images/a_photo_of_bolo_portrait_photography_full_color_face_full_frame\n",
      "images/a_photo_of_roger_portrait_photography_full_color_face_full_frame\n",
      "images/a_photo_of_dalip_portrait_photography_full_color_face_full_frame\n",
      "images/a_photo_of_ben_portrait_photography_full_color_face_full_frame\n",
      "images/a_photo_of_robert_portrait_photography_full_color_face_full_frame\n",
      "images/a_photo_of_adele_portrait_photography_full_color_face_full_frame\n",
      "images/a_photo_of_shaquille_portrait_photography_full_color_face_full_frame\n",
      "images/a_photo_of_johnny_portrait_photography_full_color_face_full_frame\n",
      "images/a_photo_of_kylie_portrait_photography_full_color_face_full_frame\n",
      "images/a_photo_of_howard_portrait_photography\n",
      "images/a_photo_of_bd_portrait_photography_full_color_face_full_frame\n",
      "images/a_photo_of_celine_portrait_photography_full_color_face_full_frame\n",
      "images/a_photo_of_kobe_portrait_photography_full_color_face_full_frame\n",
      "images/a_photo_of_drake_portrait_photography_full_color_face_full_frame\n",
      "images/a_photo_of_parminder_portrait_photography_full_color_face_full_frame\n",
      "images/a_photo_of_oprah_portrait_photography_full_color_face_full_frame\n",
      "images/a_photo_of_ed_portrait_photography_full_color_face_full_frame\n",
      "images/a_photo_of_geraldine_portrait_photography_full_color_face_full_frame\n",
      "images/a_photo_of_jaycee_portrait_photography_full_color_face_full_frame\n",
      "images/a_photo_of_dennis_portrait_photography_full_color_face_full_frame\n",
      "images/a_photo_of_anne_portrait_photography_full_color_face_full_frame\n",
      "images/a_photo_of_neymar_portrait_photography_full_color_face_full_frame\n",
      "images/a_photo_of_brad_portrait_photography_full_color_face_full_frame\n",
      "images/a_photo_of_mindy_portrait_photography_full_color_face_full_frame\n",
      "images/a_photo_of_brian_portrait_photography_full_color_face_full_frame\n",
      "images/a_photo_of_george_portrait_photography_full_color_face_full_frame\n",
      "images/a_photo_of_howard_portrait_photography_full_color_face_full_frame\n",
      "images/a_photo_of_konnie_portrait_photography_full_color_face_full_frame\n",
      "images/a_photo_of_brandon_portrait_photography_full_color_face_full_frame\n",
      "images/a_photo_of_cristiano_portrait_photography_full_color_face_full_frame\n",
      "images/a_photo_of_hailee_portrait_photography_full_color_face_full_frame/.ipynb_checkpoints\n",
      "images/a_photo_of_jerry_portrait_photography_full_color_face_full_frame/.ipynb_checkpoints\n",
      "images/a_photo_of_elton_portrait_photography_full_color_face_full_frame/.ipynb_checkpoints\n",
      "images/a_photo_of_dwayne_portrait_photography_full_color_face_full_frame/.ipynb_checkpoints\n",
      "images/a_photo_of_beyoncé_portrait_photography_full_color_face_full_frame/.ipynb_checkpoints\n",
      "images/a_photo_of_brad_portrait_photography/.ipynb_checkpoints\n",
      "images/kylie/.ipynb_checkpoints\n",
      "images/a_photo_of_lionel_portrait_photography_full_color_face_full_frame/.ipynb_checkpoints\n",
      "images/a_photo_of_davood_portrait_photography_full_color_face_full_frame/.ipynb_checkpoints\n",
      "images/david/.ipynb_checkpoints\n",
      "images/a_photo_of_harrison_portrait_photography_full_color_face_full_frame/.ipynb_checkpoints\n",
      "images/brad/.ipynb_checkpoints\n",
      "images/a_photo_of_kylie_portrait_photography/.ipynb_checkpoints\n",
      "images/a_photo_of_britney_portrait_photography_full_color_face_full_frame/.ipynb_checkpoints\n",
      "images/a_photo_of_michael_portrait_photography_full_color_face_full_frame/.ipynb_checkpoints\n",
      "images/a_photo_of_elon_portrait_photography_full_color_face_full_frame/.ipynb_checkpoints\n",
      "images/a_photo_of_anupam_portrait_photography_full_color_face_full_frame/.ipynb_checkpoints\n",
      "images/a_photo_of_lady_portrait_photography_full_color_face_full_frame/.ipynb_checkpoints\n",
      "images/a_photo_of_howard_portrait_photography/.ipynb_checkpoints\n",
      "images/a_photo_of_celine_portrait_photography_full_color_face_full_frame/.ipynb_checkpoints\n",
      "images/a_photo_of_kobe_portrait_photography_full_color_face_full_frame/.ipynb_checkpoints\n",
      "images/a_photo_of_oprah_portrait_photography_full_color_face_full_frame/.ipynb_checkpoints\n",
      "images/a_photo_of_brad_portrait_photography_full_color_face_full_frame/.ipynb_checkpoints\n",
      "images/a_photo_of_brian_portrait_photography_full_color_face_full_frame/.ipynb_checkpoints\n"
     ]
    }
   ],
   "source": [
    "for fpath in Path('images').rglob('*'):\n",
    "    if fpath.is_dir():\n",
    "        print(fpath)"
   ]
  },
  {
   "cell_type": "code",
   "execution_count": null,
   "id": "d366b689-c48d-4dcc-83a4-49737a86e8cf",
   "metadata": {
    "tags": []
   },
   "outputs": [
    {
     "name": "stdout",
     "output_type": "stream",
     "text": [
      "images/a_photo_of_hailee_portrait_photography_full_color_face_full_frame\n"
     ]
    },
    {
     "name": "stderr",
     "output_type": "stream",
     "text": [
      "/home/dmarx/.local/lib/python3.10/site-packages/xformers/ops/unbind.py:46: UserWarning: TypedStorage is deprecated. It will be removed in the future and UntypedStorage will be the only storage class. This should only matter to you if you are using storages directly.  To access UntypedStorage directly, use tensor.untyped_storage() instead of tensor.storage()\n",
      "  storage_data_ptr = tensors[0].storage().data_ptr()\n"
     ]
    },
    {
     "name": "stdout",
     "output_type": "stream",
     "text": [
      "images/a_photo_of_jerry_portrait_photography_full_color_face_full_frame\n",
      "images/a_photo_of_norah_portrait_photography_full_color_face_full_frame\n",
      "images/a_photo_of_sanjeev_portrait_photography_full_color_face_full_frame\n",
      "images/a_photo_of_bruce_portrait_photography_full_color_face_full_frame\n",
      "images/a_photo_of_kevin_portrait_photography_full_color_face_full_frame\n",
      "images/a_photo_of_amol_portrait_photography_full_color_face_full_frame\n",
      "images/a_photo_of_sarah_portrait_photography_full_color_face_full_frame\n",
      "images/a_photo_of_mariah_portrait_photography_full_color_face_full_frame\n",
      "images/a_photo_of_tyler_portrait_photography_full_color_face_full_frame\n",
      "images/a_photo_of_himesh_portrait_photography_full_color_face_full_frame\n",
      "images/a_photo_of_simon_portrait_photography_full_color_face_full_frame\n",
      "images/a_photo_of_kelly_portrait_photography_full_color_face_full_frame\n",
      "images/a_photo_of_taylor_portrait_photography_full_color_face_full_frame\n",
      "images/a_photo_of_cher_portrait_photography_full_color_face_full_frame\n",
      "images/a_photo_of_sandra_portrait_photography_full_color_face_full_frame\n",
      "images/a_photo_of_ellen_portrait_photography_full_color_face_full_frame\n",
      "images/a_photo_of_keanu_portrait_photography_full_color_face_full_frame\n",
      "images/a_photo_of_meera_portrait_photography_full_color_face_full_frame\n",
      "images/a_photo_of_steven_portrait_photography_full_color_face_full_frame\n",
      "images/a_photo_of_ernie_portrait_photography_full_color_face_full_frame\n",
      "images/a_photo_of_dev_portrait_photography_full_color_face_full_frame\n",
      "images/a_photo_of_rush_portrait_photography_full_color_face_full_frame\n",
      "images/a_photo_of_rihanna_portrait_photography_full_color_face_full_frame\n",
      "images/a_photo_of_elton_portrait_photography_full_color_face_full_frame\n",
      "images/a_photo_of_dante_portrait_photography_full_color_face_full_frame\n",
      "images/a_photo_of_dwayne_portrait_photography_full_color_face_full_frame\n",
      "images/a_photo_of_beyoncé_portrait_photography_full_color_face_full_frame\n",
      "images/a_photo_of_tony_portrait_photography_full_color_face_full_frame\n",
      "images/a_photo_of_mel_portrait_photography_full_color_face_full_frame\n",
      "images/a_photo_of_tom_portrait_photography_full_color_face_full_frame\n",
      "images/a_photo_of_madonna_portrait_photography_full_color_face_full_frame\n",
      "images/a_photo_of_sung_portrait_photography_full_color_face_full_frame\n",
      "images/a_photo_of_justin_portrait_photography_full_color_face_full_frame\n",
      "images/a_photo_of_iko_portrait_photography_full_color_face_full_frame\n",
      "images/a_photo_of_naga_portrait_photography_full_color_face_full_frame\n",
      "images/a_photo_of_james_portrait_photography_full_color_face_full_frame\n",
      "images/a_photo_of_kanye_portrait_photography_full_color_face_full_frame\n",
      "images/a_photo_of_paul_portrait_photography_full_color_face_full_frame\n",
      "images/a_photo_of_lionel_portrait_photography_full_color_face_full_frame\n",
      "images/a_photo_of_devon_portrait_photography_full_color_face_full_frame\n",
      "images/a_photo_of_davood_portrait_photography_full_color_face_full_frame\n",
      "images/a_photo_of_rae_portrait_photography_full_color_face_full_frame\n",
      "images/a_photo_of_amita_portrait_photography_full_color_face_full_frame\n",
      "images/a_photo_of_angelina_portrait_photography_full_color_face_full_frame\n",
      "images/a_photo_of_harrison_portrait_photography_full_color_face_full_frame\n",
      "images/a_photo_of_rick_portrait_photography_full_color_face_full_frame\n",
      "images/a_photo_of_robin_portrait_photography_full_color_face_full_frame\n",
      "images/a_photo_of_jennifer_portrait_photography_full_color_face_full_frame\n",
      "images/a_photo_of_tatyana_portrait_photography_full_color_face_full_frame\n",
      "images/a_photo_of_nadia_portrait_photography_full_color_face_full_frame\n",
      "images/a_photo_of_david_portrait_photography_full_color_face_full_frame\n",
      "images/a_photo_of_pat_portrait_photography_full_color_face_full_frame\n",
      "images/a_photo_of_tina_portrait_photography_full_color_face_full_frame\n",
      "images/a_photo_of_archie_portrait_photography_full_color_face_full_frame\n",
      "images/a_photo_of_yuvraj_portrait_photography_full_color_face_full_frame\n",
      "images/a_photo_of_celina_portrait_photography_full_color_face_full_frame\n",
      "images/a_photo_of_kim_portrait_photography_full_color_face_full_frame\n",
      "images/a_photo_of_leonardo_portrait_photography_full_color_face_full_frame\n",
      "images/a_photo_of_kunal_portrait_photography_full_color_face_full_frame\n",
      "images/a_photo_of_lou_portrait_photography_full_color_face_full_frame\n",
      "images/a_photo_of_will_portrait_photography_full_color_face_full_frame\n",
      "images/a_photo_of_lilly_portrait_photography_full_color_face_full_frame\n",
      "images/a_photo_of_julia_portrait_photography_full_color_face_full_frame\n",
      "images/a_photo_of_lebron_portrait_photography_full_color_face_full_frame\n",
      "images/a_photo_of_nina_portrait_photography_full_color_face_full_frame\n",
      "images/a_photo_of_dave_portrait_photography_full_color_face_full_frame\n",
      "images/a_photo_of_billy_portrait_photography_full_color_face_full_frame\n",
      "images/a_photo_of_britney_portrait_photography_full_color_face_full_frame\n",
      "images/a_photo_of_michael_portrait_photography_full_color_face_full_frame\n",
      "images/a_photo_of_donnie_portrait_photography_full_color_face_full_frame\n",
      "images/a_photo_of_katy_portrait_photography_full_color_face_full_frame\n",
      "images/a_photo_of_yayan_portrait_photography_full_color_face_full_frame\n",
      "images/a_photo_of_elon_portrait_photography_full_color_face_full_frame\n",
      "images/a_photo_of_anupam_portrait_photography_full_color_face_full_frame\n",
      "images/a_photo_of_judge_portrait_photography_full_color_face_full_frame\n",
      "images/a_photo_of_lady_portrait_photography_full_color_face_full_frame\n",
      "images/a_photo_of_heung_portrait_photography_full_color_face_full_frame\n",
      "images/a_photo_of_bolo_portrait_photography_full_color_face_full_frame\n",
      "images/a_photo_of_roger_portrait_photography_full_color_face_full_frame\n",
      "images/a_photo_of_dalip_portrait_photography_full_color_face_full_frame\n",
      "images/a_photo_of_ben_portrait_photography_full_color_face_full_frame\n",
      "images/a_photo_of_robert_portrait_photography_full_color_face_full_frame\n",
      "images/a_photo_of_adele_portrait_photography_full_color_face_full_frame\n",
      "images/a_photo_of_shaquille_portrait_photography_full_color_face_full_frame\n",
      "images/a_photo_of_johnny_portrait_photography_full_color_face_full_frame\n",
      "images/a_photo_of_kylie_portrait_photography_full_color_face_full_frame\n",
      "images/a_photo_of_bd_portrait_photography_full_color_face_full_frame\n",
      "images/a_photo_of_celine_portrait_photography_full_color_face_full_frame\n",
      "images/a_photo_of_kobe_portrait_photography_full_color_face_full_frame\n",
      "images/a_photo_of_drake_portrait_photography_full_color_face_full_frame\n",
      "images/a_photo_of_parminder_portrait_photography_full_color_face_full_frame\n",
      "images/a_photo_of_oprah_portrait_photography_full_color_face_full_frame\n",
      "images/a_photo_of_ed_portrait_photography_full_color_face_full_frame\n",
      "images/a_photo_of_geraldine_portrait_photography_full_color_face_full_frame\n",
      "images/a_photo_of_jaycee_portrait_photography_full_color_face_full_frame\n",
      "images/a_photo_of_dennis_portrait_photography_full_color_face_full_frame\n",
      "images/a_photo_of_anne_portrait_photography_full_color_face_full_frame\n",
      "images/a_photo_of_neymar_portrait_photography_full_color_face_full_frame\n",
      "images/a_photo_of_brad_portrait_photography_full_color_face_full_frame\n",
      "images/a_photo_of_mindy_portrait_photography_full_color_face_full_frame\n"
     ]
    }
   ],
   "source": [
    "# RUN THIS CELL TO GENERATE DINO EMBEDS\n",
    "\n",
    "# 1. glob images from folder\n",
    "# 2. load iamge\n",
    "# 3. project image\n",
    "# 4. construct outname from inname\n",
    "# 5. persist embed\n",
    "\n",
    "\n",
    "\n",
    "\n",
    "\n",
    "errors = []\n",
    "\n",
    "for fpath in Path('images').rglob('*'):\n",
    "    if not fpath.is_dir():\n",
    "        continue\n",
    "    if 'full_frame' not in str(fpath):\n",
    "        continue\n",
    "    outdir = fpath\n",
    "    \n",
    "    print(outdir)\n",
    "\n",
    "\n",
    "    image_paths = outdir.glob('*.png')\n",
    "    # glob embeds, only project images that we haven't already embedded\n",
    "    embed_paths = [str(p) for p in outdir.glob(f\"{emb_suffix}.npy\")]\n",
    "    \n",
    "    with torch.no_grad():\n",
    "        for fpath in image_paths:\n",
    "            # skip images we've already embedded\n",
    "            embed_path = outdir / (fpath.stem + emb_suffix)\n",
    "            if str(embed_path) in embed_paths:\n",
    "                continue\n",
    "            try:\n",
    "                im = PIL.Image.open(fpath)\n",
    "                embed = image2dino(im)\n",
    "            # some weird PIL error on \n",
    "            except:\n",
    "                errors.append(fpath)\n",
    "                continue\n",
    "            \n",
    "            #torch.save(embed, embed_path) # 2.3mb for a 1x384 vector? wtf?\n",
    "            arr = np.array(embed.cpu())\n",
    "            # 1kb instead of 2mb\n",
    "            np.save(embed_path, arr) # adds \".npy\" extension. whatever.\n",
    "\n",
    "print(errors)"
   ]
  },
  {
   "cell_type": "markdown",
   "id": "10033e66-2a9c-49db-be7a-4cb128cade7b",
   "metadata": {},
   "source": [
    "## unCLIP Embedding\n",
    "\n",
    "TODO\n",
    "\n",
    "## CLIP Embedding"
   ]
  },
  {
   "cell_type": "code",
   "execution_count": null,
   "id": "e2e19477-9cbc-4d7a-8bf4-6a6333879d91",
   "metadata": {},
   "outputs": [],
   "source": [
    "# TODO\n",
    "\n",
    "# https://github.com/mlfoundations/open_clip/\n",
    "\n",
    "# pip install open_clip_torch\n",
    "\n",
    "import torch\n",
    "from PIL import Image\n",
    "import open_clip\n",
    "\n",
    "model, _, preprocess = open_clip.create_model_and_transforms('ViT-B-32', pretrained='laion2b_s34b_b79k')\n",
    "\n",
    "image = Image.open(\"CLIP.png\")\n",
    "image = preprocess(image).unsqueeze(0)\n",
    "\n",
    "#tokenizer = open_clip.get_tokenizer('ViT-B-32')\n",
    "#text = tokenizer([\"a diagram\", \"a dog\", \"a cat\"])\n",
    "\n",
    "with torch.no_grad(), torch.cuda.amp.autocast():\n",
    "    image_features = model.encode_image(image)\n",
    "    image_features /= image_features.norm(dim=-1, keepdim=True)\n",
    "    #text_features = model.encode_text(text)\n",
    "    #text_features /= text_features.norm(dim=-1, keepdim=True)\n",
    "    #text_probs = (100.0 * image_features @ text_features.T).softmax(dim=-1)\n",
    "    #print(\"Label probs:\", text_probs)  # prints: [[1., 0., 0.]]"
   ]
  },
  {
   "cell_type": "markdown",
   "id": "5602681c-7932-4c20-9f86-54fe73e467f8",
   "metadata": {},
   "source": [
    "# Diversity Measurement"
   ]
  },
  {
   "cell_type": "code",
   "execution_count": 175,
   "id": "a4f16afa-a4ec-46bf-9b7e-23339447b8ba",
   "metadata": {
    "tags": []
   },
   "outputs": [],
   "source": [
    "# 1. load embeddings\n",
    "# 2. compute cumulative variance\n",
    "# 3. plot variance convergence\n",
    "\n",
    "embed_paths = outdir.glob('*.embed.*')\n",
    "embeds = []\n",
    "for fpath in embed_paths:\n",
    "    embed = np.load(fpath)\n",
    "    # normalize\n",
    "    embed /= np.linalg.norm(embed)\n",
    "    embeds.append(embed)\n",
    "\n",
    "#V = []\n",
    "S = []\n",
    "#D = []\n",
    "for i in range(3, len(embeds)+1):\n",
    "    x = np.concatenate(embeds[:i]) #.shape\n",
    "#     # variance\n",
    "#     cv = np.cov(x.T)\n",
    "#     v = np.trace(cv) / cv.shape[-1]\n",
    "#     V.append(v)\n",
    "    \n",
    "#     (sign, logabsdet) = np.linalg.slogdet(cv)\n",
    "#     #D.append(logabsdet)\n",
    "#     D.append(logabsdet / i)\n",
    "    \n",
    "    # centroid similarity\n",
    "    mu = x.mean(0)\n",
    "    similarities = x@mu\n",
    "    S.append(similarities.mean())\n",
    "    "
   ]
  },
  {
   "cell_type": "code",
   "execution_count": 160,
   "id": "5614b229-4650-4fdd-ba76-fa6310a9b2ac",
   "metadata": {
    "tags": []
   },
   "outputs": [
    {
     "data": {
      "text/plain": [
       "[<matplotlib.lines.Line2D at 0x7f09aef965f0>]"
      ]
     },
     "execution_count": 160,
     "metadata": {},
     "output_type": "execute_result"
    },
    {
     "data": {
      "image/png": "[encoded data removed]",
      "text/plain": [
       "<Figure size 640x480 with 1 Axes>"
      ]
     },
     "metadata": {},
     "output_type": "display_data"
    }
   ],
   "source": [
    "#plt.plot(V)\n",
    "# variance converging, but increasing? \n",
    "# maybe it just looks this way for that one example"
   ]
  },
  {
   "cell_type": "code",
   "execution_count": 171,
   "id": "14b4175d-cc04-46f1-8ebe-a4667a39030c",
   "metadata": {
    "tags": []
   },
   "outputs": [
    {
     "data": {
      "text/plain": [
       "[<matplotlib.lines.Line2D at 0x7f09aed89c60>]"
      ]
     },
     "execution_count": 171,
     "metadata": {},
     "output_type": "execute_result"
    },
    {
     "data": {
      "image/png": "[encoded data removed]",
      "text/plain": [
       "<Figure size 640x480 with 1 Axes>"
      ]
     },
     "metadata": {},
     "output_type": "display_data"
    }
   ],
   "source": [
    "plt.plot(S)"
   ]
  },
  {
   "cell_type": "code",
   "execution_count": null,
   "id": "8bfaf4c0-aa1c-4ffa-a1a3-9bf4781c7545",
   "metadata": {},
   "outputs": [],
   "source": [
    "# TODO: add a CI lower bound to account for # images used for summary"
   ]
  },
  {
   "cell_type": "code",
   "execution_count": 176,
   "id": "bcd6e549-6546-4312-a170-2ba8ddbf9a81",
   "metadata": {
    "tags": []
   },
   "outputs": [
    {
     "data": {
      "text/plain": [
       "[<matplotlib.lines.Line2D at 0x7f09aeb2ce20>]"
      ]
     },
     "execution_count": 176,
     "metadata": {},
     "output_type": "execute_result"
    },
    {
     "data": {
      "image/png": "[encoded data removed]",
      "text/plain": [
       "<Figure size 640x480 with 1 Axes>"
      ]
     },
     "metadata": {},
     "output_type": "display_data"
    }
   ],
   "source": [
    "#plt.plot(D) # well, at least it's pretty. too smooth. sus af."
   ]
  },
  {
   "cell_type": "code",
   "execution_count": 46,
   "id": "5c57aa27-3eaa-45fb-b687-d9698ae48f7c",
   "metadata": {
    "tags": []
   },
   "outputs": [],
   "source": [
    "# 1. iterate over folders\n",
    "# 2. compute summary for prompt\n",
    "# 3. rank prompts by summary statistic\n",
    "# 4. bin ranges, plot a few samples in each range\n",
    "\n",
    "prompt_diversity = {}\n",
    "\n",
    "for fpath in Path('images').rglob('*'):\n",
    "    if not fpath.is_dir():\n",
    "        continue\n",
    "    if 'full_frame' not in str(fpath):\n",
    "        continue\n",
    "    outdir = fpath\n",
    "\n",
    "    embed_paths = list(outdir.glob(f\"*{emb_suffix}.npy\"))\n",
    "\n",
    "    # constrain attention to names we have some threshold number of images for\n",
    "    if not len(embed_paths) >= 64:\n",
    "        continue\n",
    "    \n",
    "    embeds = []\n",
    "    for fpath in embed_paths:\n",
    "        embed = np.load(fpath)\n",
    "        # normalize\n",
    "        embed /= np.linalg.norm(embed)\n",
    "        embeds.append(embed)\n",
    "\n",
    "        \n",
    "        \n",
    "#     S = []\n",
    "#     for i in range(3, len(embeds)+1):\n",
    "#         x = np.concatenate(embeds[:i])\n",
    "\n",
    "#         # centroid similarity\n",
    "#         mu = x.mean(0)\n",
    "#         similarities = x@mu\n",
    "#         S.append(similarities.mean())\n",
    "\n",
    "    x = np.concatenate(embeds)\n",
    "    mu = x.mean(0)\n",
    "    distances = x@mu\n",
    "    similarities = 1 - distances\n",
    "    diversity_score = similarities.mean()\n",
    "    #print(outdir)\n",
    "    #print((diversity_score, len(embeds)))\n",
    "    prompt_diversity[str(outdir)] = diversity_score"
   ]
  },
  {
   "cell_type": "code",
   "execution_count": 25,
   "id": "67eb32fa-dc5a-4d42-8d22-30d5cdc1223f",
   "metadata": {
    "tags": []
   },
   "outputs": [
    {
     "data": {
      "text/plain": [
       "[('images/a_photo_of_rihanna_portrait_photography_full_color_face_full_frame',\n",
       "  0.22005573),\n",
       " ('images/a_photo_of_keanu_portrait_photography_full_color_face_full_frame',\n",
       "  0.20777254),\n",
       " ('images/a_photo_of_madonna_portrait_photography_full_color_face_full_frame',\n",
       "  0.19391754),\n",
       " ('images/a_photo_of_amita_portrait_photography_full_color_face_full_frame',\n",
       "  0.19353315),\n",
       " ('images/a_photo_of_kanye_portrait_photography_full_color_face_full_frame',\n",
       "  0.18097404),\n",
       " ('images/a_photo_of_yuvraj_portrait_photography_full_color_face_full_frame',\n",
       "  0.1781061),\n",
       " ('images/a_photo_of_kobe_portrait_photography_full_color_face_full_frame',\n",
       "  0.17706792),\n",
       " ('images/a_photo_of_adele_portrait_photography_full_color_face_full_frame',\n",
       "  0.17227925),\n",
       " ('images/a_photo_of_leonardo_portrait_photography_full_color_face_full_frame',\n",
       "  0.16870776),\n",
       " ('images/a_photo_of_sung_portrait_photography_full_color_face_full_frame',\n",
       "  0.16730794),\n",
       " ('images/a_photo_of_elon_portrait_photography_full_color_face_full_frame',\n",
       "  0.16390465),\n",
       " ('images/a_photo_of_lou_portrait_photography_full_color_face_full_frame',\n",
       "  0.16360445),\n",
       " ('images/a_photo_of_lilly_portrait_photography_full_color_face_full_frame',\n",
       "  0.16135073),\n",
       " ('images/a_photo_of_neymar_portrait_photography_full_color_face_full_frame',\n",
       "  0.16093178),\n",
       " ('images/a_photo_of_drake_portrait_photography_full_color_face_full_frame',\n",
       "  0.1598443),\n",
       " ('images/a_photo_of_ed_portrait_photography_full_color_face_full_frame',\n",
       "  0.15976521),\n",
       " ('images/a_photo_of_katy_portrait_photography_full_color_face_full_frame',\n",
       "  0.15855387),\n",
       " ('images/a_photo_of_celina_portrait_photography_full_color_face_full_frame',\n",
       "  0.15644005),\n",
       " ('images/a_photo_of_yayan_portrait_photography_full_color_face_full_frame',\n",
       "  0.15604316),\n",
       " ('images/a_photo_of_judge_portrait_photography_full_color_face_full_frame',\n",
       "  0.15544012),\n",
       " ('images/a_photo_of_himesh_portrait_photography_full_color_face_full_frame',\n",
       "  0.15512156),\n",
       " ('images/a_photo_of_parminder_portrait_photography_full_color_face_full_frame',\n",
       "  0.15204027),\n",
       " ('images/a_photo_of_michael_portrait_photography_full_color_face_full_frame',\n",
       "  0.15163729),\n",
       " ('images/a_photo_of_dalip_portrait_photography_full_color_face_full_frame',\n",
       "  0.15135941),\n",
       " ('images/a_photo_of_jerry_portrait_photography_full_color_face_full_frame',\n",
       "  0.15000896),\n",
       " ('images/a_photo_of_tom_portrait_photography_full_color_face_full_frame',\n",
       "  0.14991078),\n",
       " ('images/a_photo_of_cher_portrait_photography_full_color_face_full_frame',\n",
       "  0.1497907),\n",
       " ('images/a_photo_of_bruce_portrait_photography_full_color_face_full_frame',\n",
       "  0.1497486),\n",
       " ('images/a_photo_of_angelina_portrait_photography_full_color_face_full_frame',\n",
       "  0.14954163),\n",
       " ('images/a_photo_of_harrison_portrait_photography_full_color_face_full_frame',\n",
       "  0.14871001),\n",
       " ('images/a_photo_of_elton_portrait_photography_full_color_face_full_frame',\n",
       "  0.14842027),\n",
       " ('images/a_photo_of_kunal_portrait_photography_full_color_face_full_frame',\n",
       "  0.14727688),\n",
       " ('images/a_photo_of_lady_portrait_photography_full_color_face_full_frame',\n",
       "  0.14652169),\n",
       " ('images/a_photo_of_mindy_portrait_photography_full_color_face_full_frame',\n",
       "  0.14628083),\n",
       " ('images/a_photo_of_cristiano_portrait_photography_full_color_face_full_frame',\n",
       "  0.14596573),\n",
       " ('images/a_photo_of_oprah_portrait_photography_full_color_face_full_frame',\n",
       "  0.14573947),\n",
       " ('images/a_photo_of_nadia_portrait_photography_full_color_face_full_frame',\n",
       "  0.14550905),\n",
       " ('images/a_photo_of_steven_portrait_photography_full_color_face_full_frame',\n",
       "  0.14503017),\n",
       " ('images/a_photo_of_anupam_portrait_photography_full_color_face_full_frame',\n",
       "  0.14485936),\n",
       " ('images/a_photo_of_celine_portrait_photography_full_color_face_full_frame',\n",
       "  0.14463905),\n",
       " ('images/a_photo_of_sanjeev_portrait_photography_full_color_face_full_frame',\n",
       "  0.14352839),\n",
       " ('images/a_photo_of_justin_portrait_photography_full_color_face_full_frame',\n",
       "  0.14333053),\n",
       " ('images/a_photo_of_ellen_portrait_photography_full_color_face_full_frame',\n",
       "  0.14305082),\n",
       " ('images/a_photo_of_britney_portrait_photography_full_color_face_full_frame',\n",
       "  0.14243713),\n",
       " ('images/a_photo_of_beyoncé_portrait_photography_full_color_face_full_frame',\n",
       "  0.14209932),\n",
       " ('images/a_photo_of_dev_portrait_photography_full_color_face_full_frame',\n",
       "  0.142064),\n",
       " ('images/a_photo_of_bolo_portrait_photography_full_color_face_full_frame',\n",
       "  0.14186081),\n",
       " ('images/a_photo_of_ben_portrait_photography_full_color_face_full_frame',\n",
       "  0.14108323),\n",
       " ('images/a_photo_of_geraldine_portrait_photography_full_color_face_full_frame',\n",
       "  0.14080143),\n",
       " ('images/a_photo_of_george_portrait_photography_full_color_face_full_frame',\n",
       "  0.13885581),\n",
       " ('images/a_photo_of_julia_portrait_photography_full_color_face_full_frame',\n",
       "  0.13832878),\n",
       " ('images/a_photo_of_brad_portrait_photography_full_color_face_full_frame',\n",
       "  0.1382511),\n",
       " ('images/a_photo_of_johnny_portrait_photography_full_color_face_full_frame',\n",
       "  0.13808015),\n",
       " ('images/a_photo_of_james_portrait_photography_full_color_face_full_frame',\n",
       "  0.13778971),\n",
       " ('images/a_photo_of_shaquille_portrait_photography_full_color_face_full_frame',\n",
       "  0.13713683),\n",
       " ('images/a_photo_of_heung_portrait_photography_full_color_face_full_frame',\n",
       "  0.13708922),\n",
       " ('images/a_photo_of_sandra_portrait_photography_full_color_face_full_frame',\n",
       "  0.13658892),\n",
       " ('images/a_photo_of_ernie_portrait_photography_full_color_face_full_frame',\n",
       "  0.1364384),\n",
       " ('images/a_photo_of_naga_portrait_photography_full_color_face_full_frame',\n",
       "  0.13639618),\n",
       " ('images/a_photo_of_jaycee_portrait_photography_full_color_face_full_frame',\n",
       "  0.13610779),\n",
       " ('images/a_photo_of_david_portrait_photography_full_color_face_full_frame',\n",
       "  0.13600326),\n",
       " ('images/a_photo_of_tony_portrait_photography_full_color_face_full_frame',\n",
       "  0.13571125),\n",
       " ('images/a_photo_of_meera_portrait_photography_full_color_face_full_frame',\n",
       "  0.13550393),\n",
       " ('images/a_photo_of_nina_portrait_photography_full_color_face_full_frame',\n",
       "  0.13520125),\n",
       " ('images/a_photo_of_pat_portrait_photography_full_color_face_full_frame',\n",
       "  0.13449818),\n",
       " ('images/a_photo_of_rick_portrait_photography_full_color_face_full_frame',\n",
       "  0.13431753),\n",
       " ('images/a_photo_of_brian_portrait_photography_full_color_face_full_frame',\n",
       "  0.13425162),\n",
       " ('images/a_photo_of_simon_portrait_photography_full_color_face_full_frame',\n",
       "  0.1341803),\n",
       " ('images/a_photo_of_donnie_portrait_photography_full_color_face_full_frame',\n",
       "  0.13406742),\n",
       " ('images/a_photo_of_amol_portrait_photography_full_color_face_full_frame',\n",
       "  0.13402724),\n",
       " ('images/a_photo_of_kylie_portrait_photography_full_color_face_full_frame',\n",
       "  0.13387433),\n",
       " ('images/a_photo_of_kevin_portrait_photography_full_color_face_full_frame',\n",
       "  0.13330612),\n",
       " ('images/a_photo_of_rush_portrait_photography_full_color_face_full_frame',\n",
       "  0.13324673),\n",
       " ('images/a_photo_of_lebron_portrait_photography_full_color_face_full_frame',\n",
       "  0.13315994),\n",
       " ('images/a_photo_of_paul_portrait_photography_full_color_face_full_frame',\n",
       "  0.13204694),\n",
       " ('images/a_photo_of_howard_portrait_photography_full_color_face_full_frame',\n",
       "  0.13174632),\n",
       " ('images/a_photo_of_sarah_portrait_photography_full_color_face_full_frame',\n",
       "  0.13161755),\n",
       " ('images/a_photo_of_billy_portrait_photography_full_color_face_full_frame',\n",
       "  0.13122231),\n",
       " ('images/a_photo_of_robin_portrait_photography_full_color_face_full_frame',\n",
       "  0.13121954),\n",
       " ('images/a_photo_of_brandon_portrait_photography_full_color_face_full_frame',\n",
       "  0.12872359),\n",
       " ('images/a_photo_of_dave_portrait_photography_full_color_face_full_frame',\n",
       "  0.12854958),\n",
       " ('images/a_photo_of_anne_portrait_photography_full_color_face_full_frame',\n",
       "  0.12825316),\n",
       " ('images/a_photo_of_bd_portrait_photography_full_color_face_full_frame',\n",
       "  0.1280618),\n",
       " ('images/a_photo_of_iko_portrait_photography_full_color_face_full_frame',\n",
       "  0.12715647),\n",
       " ('images/a_photo_of_kim_portrait_photography_full_color_face_full_frame',\n",
       "  0.12643936),\n",
       " ('images/a_photo_of_tina_portrait_photography_full_color_face_full_frame',\n",
       "  0.12630749),\n",
       " ('images/a_photo_of_tyler_portrait_photography_full_color_face_full_frame',\n",
       "  0.12629737),\n",
       " ('images/a_photo_of_lionel_portrait_photography_full_color_face_full_frame',\n",
       "  0.12582749),\n",
       " ('images/a_photo_of_dante_portrait_photography_full_color_face_full_frame',\n",
       "  0.12502703),\n",
       " ('images/a_photo_of_devon_portrait_photography_full_color_face_full_frame',\n",
       "  0.12438299),\n",
       " ('images/a_photo_of_robert_portrait_photography_full_color_face_full_frame',\n",
       "  0.12380477),\n",
       " ('images/a_photo_of_mel_portrait_photography_full_color_face_full_frame',\n",
       "  0.123600565),\n",
       " ('images/a_photo_of_kelly_portrait_photography_full_color_face_full_frame',\n",
       "  0.12301153),\n",
       " ('images/a_photo_of_will_portrait_photography_full_color_face_full_frame',\n",
       "  0.12169598),\n",
       " ('images/a_photo_of_roger_portrait_photography_full_color_face_full_frame',\n",
       "  0.1190971),\n",
       " ('images/a_photo_of_davood_portrait_photography_full_color_face_full_frame',\n",
       "  0.11834104),\n",
       " ('images/a_photo_of_jennifer_portrait_photography_full_color_face_full_frame',\n",
       "  0.1177998),\n",
       " ('images/a_photo_of_tatyana_portrait_photography_full_color_face_full_frame',\n",
       "  0.11764507),\n",
       " ('images/a_photo_of_dennis_portrait_photography_full_color_face_full_frame',\n",
       "  0.116371155),\n",
       " ('images/a_photo_of_archie_portrait_photography_full_color_face_full_frame',\n",
       "  0.11519337),\n",
       " ('images/a_photo_of_dwayne_portrait_photography_full_color_face_full_frame',\n",
       "  0.11376493),\n",
       " ('images/a_photo_of_norah_portrait_photography_full_color_face_full_frame',\n",
       "  0.11339035),\n",
       " ('images/a_photo_of_rae_portrait_photography_full_color_face_full_frame',\n",
       "  0.11181752),\n",
       " ('images/a_photo_of_konnie_portrait_photography_full_color_face_full_frame',\n",
       "  0.11178473),\n",
       " ('images/a_photo_of_taylor_portrait_photography_full_color_face_full_frame',\n",
       "  0.11041139),\n",
       " ('images/a_photo_of_hailee_portrait_photography_full_color_face_full_frame',\n",
       "  0.10839064),\n",
       " ('images/a_photo_of_mariah_portrait_photography_full_color_face_full_frame',\n",
       "  0.10009938)]"
      ]
     },
     "execution_count": 25,
     "metadata": {},
     "output_type": "execute_result"
    }
   ],
   "source": [
    "from collections import Counter\n",
    "Counter(prompt_diversity).most_common()"
   ]
  },
  {
   "cell_type": "code",
   "execution_count": 45,
   "id": "acfee6a7-3126-4e41-9605-9fade9f8e929",
   "metadata": {
    "tags": []
   },
   "outputs": [
    {
     "data": {
      "image/png": "[encoded data removed]",
      "text/plain": [
       "<Figure size 640x480 with 1 Axes>"
      ]
     },
     "metadata": {},
     "output_type": "display_data"
    }
   ],
   "source": [
    "scores = [v for k,v in Counter(prompt_diversity).most_common()]\n",
    "scores = np.array(scores)\n",
    "xv = np.arange(len(scores))\n",
    "thresh = 0.17\n",
    "plt.plot(xv[scores>thresh], scores[scores>thresh]) # inflection point score==0.17\n",
    "plt.plot(xv[scores<=thresh], scores[scores<=thresh])\n",
    "plt.title(f\"inflection approximately at score={thresh}\")\n",
    "plt.show()"
   ]
  },
  {
   "cell_type": "markdown",
   "id": "9eb43be9-349c-4c66-a467-5b5767c3c9f9",
   "metadata": {},
   "source": [
    "seems like a reasonable cutoff from the plot and spot checking the associated names, but a very conspicuous miss is `elon`, which has me concerned this isn't a sufficient measure for distinguishing strong identities (of which \"elon\" certainly qualifies).\n",
    "\n",
    "Ditto `Oprah`, `Lebron`. \n",
    "\n",
    "I suspect I could improve results some by generating more images, but what I've generated already should be sufficient to differentiate identies. \n",
    "\n",
    "Another small \"cheat\" could be to drop outliers before computing the summary statistics. That's def way easier than generating a bunch of images. \n",
    "\n",
    "Another approach could be to try training a bias-focusing encoder, following through on the \"identity-preserving contrastive loss\" idea. "
   ]
  },
  {
   "cell_type": "markdown",
   "id": "ab83c5fc-e79e-4ea6-8a3b-5196bd3eedc9",
   "metadata": {},
   "source": [
    "# TODO\n",
    "\n",
    "* [ ] filtter out images with more than one face in them (check and report on what gets pulled out)\n",
    "* [x] calibrate # images for experiments\n",
    "  * \"power analysis\" - how many images do we need to detect the variance threshold we're interested in?\"\n",
    "  * going with 64 as a rough ultra-lower bound for now.\n",
    "* [x] DINOv2 embeddings\n",
    "  * got it configured for the smallest model, let's try using the largest my card will tolerate.\n",
    "  * [x] smallest model\n",
    "  * [ ] largest model\n",
    "* [ ] image dataloader\n",
    "* [ ] embeddings dataloader\n",
    "* [ ] CLIP embeddings\n",
    "* [ ] unCLIP embeddings\n",
    "* [ ] upload datasets to HF\n",
    "  * https://huggingface.co/docs/datasets/upload_dataset\n",
    "  * [ ] images\n",
    "  * [ ] small DINO embeds\n",
    "  * [ ] large DINO embeds\n",
    "* [x] per-prompt (cluster) summary statistics\n",
    "* [ ] identity-preserving contrastive encoder\n",
    "* [ ] tSNE\n",
    "* [ ] separately generate and save input clip emberddings of prompts\n",
    "* [ ] score images relative to centroid in addition to summary statistic for cluster\n",
    "  * need a better cluster summary statistic first\n",
    "* [ ] repeat procedure across several checkpoints, compare per-cluster summary statistics across checkpoints. expect to observe narrowing of biases as checkpoints are progressively finetuned."
   ]
  }
 ],
 "metadata": {
  "kernelspec": {
   "display_name": "Python 3 (ipykernel)",
   "language": "python",
   "name": "python3"
  },
  "language_info": {
   "codemirror_mode": {
    "name": "ipython",
    "version": 3
   },
   "file_extension": ".py",
   "mimetype": "text/x-python",
   "name": "python",
   "nbconvert_exporter": "python",
   "pygments_lexer": "ipython3",
   "version": "3.10.12"
  }
 },
 "nbformat": 4,
 "nbformat_minor": 5
}
