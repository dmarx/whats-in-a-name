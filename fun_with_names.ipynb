{
 "cells": [
  {
   "cell_type": "markdown",
   "id": "535a3903-6ea9-4058-9756-29d06e3e5330",
   "metadata": {},
   "source": [
    "# Name Collection"
   ]
  },
  {
   "cell_type": "code",
   "execution_count": null,
   "id": "66bd1223-46d3-46ed-985d-2f6ebeeb3348",
   "metadata": {
    "tags": []
   },
   "outputs": [],
   "source": [
    "!wget https://raw.githubusercontent.com/ygtxr1997/CelebBasis/main/infer_images/wiki_names.txt"
   ]
  },
  {
   "cell_type": "code",
   "execution_count": null,
   "id": "a3e2e751-760f-4871-8005-a7aa248dc64f",
   "metadata": {
    "tags": []
   },
   "outputs": [],
   "source": [
    "!wget https://raw.githubusercontent.com/ygtxr1997/CelebBasis/main/infer_images/celebs.txt"
   ]
  },
  {
   "cell_type": "code",
   "execution_count": null,
   "id": "c93b27f2-0334-4c4a-9a69-318b6e894bf1",
   "metadata": {
    "tags": []
   },
   "outputs": [],
   "source": [
    "from pathlib import Path\n",
    "\n",
    "#with Path('wiki_names.txt').open() as f:\n",
    "with Path('celebs.txt').open() as f:\n",
    "    wiki_names = f.read().split('\\n')\n",
    "\n",
    "len(wiki_names) # 1109\n",
    "\n",
    "first_names = [n for n in set([name.split(' ')[0] for name in wiki_names]) if '.' not in n]\n",
    "last_names = [n for n in set([name.split(' ')[-1] for name in wiki_names]) if '.' not in n]\n",
    "\n",
    "len(first_names), len(last_names)"
   ]
  },
  {
   "cell_type": "code",
   "execution_count": null,
   "id": "e652abc7-fa0e-4e9d-839e-779863dcf3b9",
   "metadata": {
    "tags": []
   },
   "outputs": [],
   "source": [
    "first_names[:10]"
   ]
  },
  {
   "cell_type": "code",
   "execution_count": null,
   "id": "83084e4e-d174-4683-a2e7-915573235035",
   "metadata": {
    "tags": []
   },
   "outputs": [],
   "source": [
    "last_names[:10]"
   ]
  },
  {
   "cell_type": "markdown",
   "id": "7e9c0699-f679-4c62-a608-a9a2f164a966",
   "metadata": {},
   "source": [
    "# Image Generation"
   ]
  },
  {
   "cell_type": "code",
   "execution_count": null,
   "id": "ef246ad9-fc70-478d-871d-8a3c1f8798d4",
   "metadata": {
    "tags": []
   },
   "outputs": [],
   "source": [
    "from diffusers import StableDiffusionPipeline\n",
    "import torch\n",
    "\n",
    "model_id = \"CompVis/stable-diffusion-v1-4\"\n",
    "\n",
    "pipe = StableDiffusionPipeline.from_pretrained(\n",
    "                model_id,\n",
    "                revision=\"fp16\",\n",
    "                #torch_dtype=torch.float16,\n",
    "                #use_auth_token=True\n",
    "            ).to('cuda')"
   ]
  },
  {
   "cell_type": "code",
   "execution_count": null,
   "id": "20716c2b-585e-4efc-a9cf-9c77f2a910c9",
   "metadata": {
    "tags": []
   },
   "outputs": [],
   "source": [
    "#\"diffusers\",\n",
    "#    \"EulerDiscreteScheduler\"\n",
    "#pipe.scheduler\n",
    "import diffusers\n",
    "#pipe.scheduler = diffusers.EulerDiscreteScheduler()\n",
    "# https://huggingface.co/stabilityai/stable-diffusion-xl-base-1.0/blob/main/scheduler/scheduler_config.json\n",
    "true, false, null = True, False, None\n",
    "pipe.scheduler = diffusers.EulerDiscreteScheduler(\n",
    "    **{\n",
    "      #\"_class_name\": \"EulerDiscreteScheduler\",\n",
    "      #\"_diffusers_version\": \"0.19.0.dev0\",\n",
    "      \"beta_end\": 0.012,\n",
    "      \"beta_schedule\": \"scaled_linear\",\n",
    "      \"beta_start\": 0.00085,\n",
    "      #\"clip_sample\": false,\n",
    "      \"interpolation_type\": \"linear\",\n",
    "      \"num_train_timesteps\": 1000,\n",
    "      \"prediction_type\": \"epsilon\",\n",
    "      #\"sample_max_value\": 1.0,\n",
    "      #\"set_alpha_to_one\": false,\n",
    "      #\"skip_prk_steps\": true,\n",
    "      \"steps_offset\": 1,\n",
    "      \"timestep_spacing\": \"leading\",\n",
    "      \"trained_betas\": null,\n",
    "      \"use_karras_sigmas\": false\n",
    "    }\n",
    ")"
   ]
  },
  {
   "cell_type": "code",
   "execution_count": null,
   "id": "6f8b8981-1430-4fe0-87ba-a03cedfded10",
   "metadata": {
    "tags": []
   },
   "outputs": [],
   "source": [
    "diffusers.EulerDiscreteScheduler()"
   ]
  },
  {
   "cell_type": "code",
   "execution_count": null,
   "id": "b1dbb6fe-3fa4-4ce0-80cf-afff271f04c4",
   "metadata": {
    "tags": []
   },
   "outputs": [],
   "source": [
    "kwargs = dict(\n",
    "    num_inference_steps=25,\n",
    "    num_images_per_prompt=1,\n",
    "    \n",
    ")\n",
    "prompt = \"a painting of an apple\"\n",
    "outv = pipe(prompt, **kwargs)"
   ]
  },
  {
   "cell_type": "code",
   "execution_count": null,
   "id": "64ba57c5-0efb-4309-814a-f4cf03afbb31",
   "metadata": {
    "tags": []
   },
   "outputs": [],
   "source": [
    "outv.images[0]"
   ]
  },
  {
   "cell_type": "code",
   "execution_count": null,
   "id": "ae7e17bd-ef9f-4afc-aa6d-b568de2fad49",
   "metadata": {
    "tags": []
   },
   "outputs": [],
   "source": [
    "# 1. loop over names\n",
    "# 2. create folder for names\n",
    "# 3. generate images, save to folder\n",
    "# 4. compute CLIP/DINO image embeddings, save to folder\n",
    "\n",
    "# ---\n",
    "\n",
    "# let's start with 10 names and prototype this procedure generally.\n",
    "# an important hyper parameter to start with will be the number of images per name.\n",
    "# let's start by generating an unnecessary number of images for this first group, say 20-100.\n",
    "# then use these to compute our diversity measures, and calibrate how many images we need by how many images it generally takes to get this measure to converge.\n"
   ]
  },
  {
   "cell_type": "code",
   "execution_count": null,
   "id": "1027ae70-87bb-434e-8f14-991ce7086d42",
   "metadata": {
    "tags": []
   },
   "outputs": [],
   "source": [
    "#pipe.requires_safety_checker=False"
   ]
  },
  {
   "cell_type": "code",
   "execution_count": null,
   "id": "3ab912e2-a67c-4616-bfb4-8785c033e9f0",
   "metadata": {
    "tags": []
   },
   "outputs": [],
   "source": [
    "def passthrough(images, *args, **kargs):\n",
    "    return images, [False for _ in images]\n",
    "pipe.safety_checker = passthrough"
   ]
  },
  {
   "cell_type": "code",
   "execution_count": null,
   "id": "80112b91-0163-4af8-8ddb-ca559d86c833",
   "metadata": {
    "tags": []
   },
   "outputs": [],
   "source": [
    "import time\n",
    "\n",
    "#names = [\"david\"] ## TODO: dev\n",
    "names = first_names\n",
    "\n",
    "kwargs = dict(\n",
    "    num_inference_steps=25,\n",
    "    num_images_per_prompt=8\n",
    ")\n",
    "\n",
    "root = Path(\"images\")\n",
    "\n",
    "images_per_prompt = 24 #40\n",
    "\n",
    "for name in names:\n",
    "    #prompt = name\n",
    "    print(name)\n",
    "    prompt = f\"a photo of {name}, portrait photography, full color, face full frame\"\n",
    "    prompt = prompt.lower().strip()\n",
    "    \n",
    "    prompt_clean = prompt.replace(',','')\n",
    "    outdir = root / prompt_clean.replace(' ','_')  \n",
    "    outdir.mkdir(parents=True, exist_ok=True)\n",
    "    while len(list(outdir.glob('*.png'))) < images_per_prompt:\n",
    "        outv = pipe(prompt, **kwargs)\n",
    "        if any(outv.nsfw_content_detected):\n",
    "            #continue\n",
    "            break\n",
    "\n",
    "        for idx,im in enumerate(outv.images):\n",
    "            # would prefer to name images by seed, but hf is makes it hard.\n",
    "            fname = outdir / f\"{int(time.time())}_{idx}.png\" \n",
    "            im.save(fname)\n"
   ]
  },
  {
   "cell_type": "code",
   "execution_count": null,
   "id": "26e60548-2fee-4af0-973b-68807e159a7f",
   "metadata": {
    "tags": []
   },
   "outputs": [],
   "source": [
    "# let's generate a shit load of images \n",
    "# for a few high-bias names as a calibration control\n",
    "# for sensitivity analysis.\n",
    "\n",
    "high_bias_names = [\n",
    "    \"oprah\",\n",
    "    \"keanu\",\n",
    "    \"cher\",\n",
    "    \"beyoncé\",\n",
    "    \"shaquille\",\n",
    "    \"rihanna\",\n",
    "    \"anupam\",\n",
    "]\n",
    "\n",
    "images_per_prompt = 200\n",
    "\n",
    "\n",
    "for name in high_bias_names:\n",
    "    #prompt = name\n",
    "    print(name)\n",
    "    prompt = f\"a photo of {name}, portrait photography, full color, face full frame\"\n",
    "    prompt = prompt.lower().strip()\n",
    "    \n",
    "    prompt_clean = prompt.replace(',','')\n",
    "    outdir = root / prompt_clean.replace(' ','_')  \n",
    "    outdir.mkdir(parents=True, exist_ok=True)\n",
    "    while len(list(outdir.glob('*.png'))) < images_per_prompt:\n",
    "        outv = pipe(prompt, **kwargs)\n",
    "        if any(outv.nsfw_content_detected):\n",
    "            #continue\n",
    "            break\n",
    "\n",
    "        for idx,im in enumerate(outv.images):\n",
    "            # would prefer to name images by seed, but hf is makes it hard.\n",
    "            fname = outdir / f\"{int(time.time())}_{idx}.png\" \n",
    "            im.save(fname)"
   ]
  },
  {
   "cell_type": "markdown",
   "id": "eef38344-6773-4877-af63-c7e4e617b069",
   "metadata": {},
   "source": [
    "# Image embedding"
   ]
  },
  {
   "cell_type": "code",
   "execution_count": 67,
   "id": "72a36e94-2f2a-4ecf-bd50-c14f24832b67",
   "metadata": {
    "tags": []
   },
   "outputs": [
    {
     "name": "stderr",
     "output_type": "stream",
     "text": [
      "Downloading: \"https://github.com/facebookresearch/dinov2/zipball/main\" to /home/dmarx/.cache/torch/hub/main.zip\n",
      "/home/dmarx/.cache/torch/hub/facebookresearch_dinov2_main/dinov2/layers/swiglu_ffn.py:43: UserWarning: xFormers is available (SwiGLU)\n",
      "  warnings.warn(\"xFormers is available (SwiGLU)\")\n",
      "/home/dmarx/.cache/torch/hub/facebookresearch_dinov2_main/dinov2/layers/attention.py:27: UserWarning: xFormers is available (Attention)\n",
      "  warnings.warn(\"xFormers is available (Attention)\")\n",
      "/home/dmarx/.cache/torch/hub/facebookresearch_dinov2_main/dinov2/layers/block.py:33: UserWarning: xFormers is available (Block)\n",
      "  warnings.warn(\"xFormers is available (Block)\")\n",
      "Downloading: \"https://dl.fbaipublicfiles.com/dinov2/dinov2_vits14/dinov2_vits14_pretrain.pth\" to /home/dmarx/.cache/torch/hub/checkpoints/dinov2_vits14_pretrain.pth\n",
      "100%|██████████| 84.2M/84.2M [00:10<00:00, 8.79MB/s]\n"
     ]
    }
   ],
   "source": [
    "import torch\n",
    "\n",
    "dinov2_vits14 = torch.hub.load('facebookresearch/dinov2', 'dinov2_vits14')\n",
    "#dinov2_vitb14 = torch.hub.load('facebookresearch/dinov2', 'dinov2_vitb14')\n",
    "#dinov2_vitl14 = torch.hub.load('facebookresearch/dinov2', 'dinov2_vitl14')\n",
    "#dinov2_vitg14 = torch.hub.load('facebookresearch/dinov2', 'dinov2_vitg14')"
   ]
  },
  {
   "cell_type": "code",
   "execution_count": 68,
   "id": "b990413d-acf0-41b9-9b97-ab822773078d",
   "metadata": {
    "collapsed": true,
    "jupyter": {
     "outputs_hidden": true
    },
    "tags": []
   },
   "outputs": [
    {
     "data": {
      "text/plain": [
       "DinoVisionTransformer(\n",
       "  (patch_embed): PatchEmbed(\n",
       "    (proj): Conv2d(3, 384, kernel_size=(14, 14), stride=(14, 14))\n",
       "    (norm): Identity()\n",
       "  )\n",
       "  (blocks): ModuleList(\n",
       "    (0-11): 12 x NestedTensorBlock(\n",
       "      (norm1): LayerNorm((384,), eps=1e-06, elementwise_affine=True)\n",
       "      (attn): MemEffAttention(\n",
       "        (qkv): Linear(in_features=384, out_features=1152, bias=True)\n",
       "        (attn_drop): Dropout(p=0.0, inplace=False)\n",
       "        (proj): Linear(in_features=384, out_features=384, bias=True)\n",
       "        (proj_drop): Dropout(p=0.0, inplace=False)\n",
       "      )\n",
       "      (ls1): LayerScale()\n",
       "      (drop_path1): Identity()\n",
       "      (norm2): LayerNorm((384,), eps=1e-06, elementwise_affine=True)\n",
       "      (mlp): Mlp(\n",
       "        (fc1): Linear(in_features=384, out_features=1536, bias=True)\n",
       "        (act): GELU(approximate='none')\n",
       "        (fc2): Linear(in_features=1536, out_features=384, bias=True)\n",
       "        (drop): Dropout(p=0.0, inplace=False)\n",
       "      )\n",
       "      (ls2): LayerScale()\n",
       "      (drop_path2): Identity()\n",
       "    )\n",
       "  )\n",
       "  (norm): LayerNorm((384,), eps=1e-06, elementwise_affine=True)\n",
       "  (head): Identity()\n",
       ")"
      ]
     },
     "execution_count": 68,
     "metadata": {},
     "output_type": "execute_result"
    }
   ],
   "source": [
    "backbone_model = dinov2_vits14\n",
    "backbone_model.eval()\n",
    "backbone_model.cuda()"
   ]
  },
  {
   "cell_type": "code",
   "execution_count": 98,
   "id": "f710daef-2336-4489-9de2-694f20443ae3",
   "metadata": {
    "tags": []
   },
   "outputs": [],
   "source": [
    "#im.getexif()\n",
    "import numpy as np\n",
    "x = torch.tensor(np.array(im.resize([560,560]))).unsqueeze(0).cuda()\n",
    "x=x.transpose(3,1)\n",
    "x=x.float()"
   ]
  },
  {
   "cell_type": "code",
   "execution_count": 99,
   "id": "a17b9a44-d193-4d51-a1fe-96ba6aca5103",
   "metadata": {
    "tags": []
   },
   "outputs": [
    {
     "data": {
      "text/plain": [
       "dict_keys(['x_norm_clstoken', 'x_norm_patchtokens', 'x_prenorm', 'masks'])"
      ]
     },
     "execution_count": 99,
     "metadata": {},
     "output_type": "execute_result"
    }
   ],
   "source": [
    "# TODO: would be nice if images were of some size that\n",
    "# had 8 and 14 as a common factor.\n",
    "# 560 x 560 is probably a good option.\n",
    "# 896 would also have 64 as a common factor.\n",
    "outv = backbone_model.forward_features(x)\n",
    "outv.keys()"
   ]
  },
  {
   "cell_type": "code",
   "execution_count": 104,
   "id": "6c0d9164-aeec-4fb7-a4bd-35b1c0de3b7e",
   "metadata": {
    "tags": []
   },
   "outputs": [
    {
     "name": "stdout",
     "output_type": "stream",
     "text": [
      "('x_norm_clstoken', torch.Size([1, 384]))\n",
      "('x_norm_patchtokens', torch.Size([1, 1600, 384]))\n",
      "('x_prenorm', torch.Size([1, 1601, 384]))\n"
     ]
    }
   ],
   "source": [
    "for k in outv.keys():\n",
    "    if outv[k] is not None:\n",
    "        print((k,outv[k].shape))"
   ]
  },
  {
   "cell_type": "code",
   "execution_count": 107,
   "id": "85340066-4de9-43be-a25f-cd0b4e109169",
   "metadata": {
    "tags": []
   },
   "outputs": [
    {
     "data": {
      "text/plain": [
       "torch.Size([1, 384])"
      ]
     },
     "execution_count": 107,
     "metadata": {},
     "output_type": "execute_result"
    }
   ],
   "source": [
    "# run through images in a folder, project each into the clstoken and persist\n",
    "# q: numpy or torch tensor? not that it super matters.\n",
    "\n",
    "def image2dino(image):\n",
    "    # prep image\n",
    "    x = torch.tensor(np.array(image.resize([560,560]))).unsqueeze(0).cuda()\n",
    "    x=x.transpose(3,1)\n",
    "    x=x.float()\n",
    "    \n",
    "    # project\n",
    "    outv = backbone_model.forward_features(x)\n",
    "    return outv['x_norm_clstoken']\n",
    "\n",
    "embed = image2dino(im)\n",
    "embed.shape"
   ]
  },
  {
   "cell_type": "code",
   "execution_count": 122,
   "id": "d366b689-c48d-4dcc-83a4-49737a86e8cf",
   "metadata": {
    "tags": []
   },
   "outputs": [],
   "source": [
    "# 1. glob images from folder\n",
    "# 2. load iamge\n",
    "# 3. project image\n",
    "# 4. construct outname from inname\n",
    "# 5. persist embed\n",
    "\n",
    "import PIL\n",
    "\n",
    "#outdir\n",
    "emb_suffix = \".dinov2_cls.embed\"\n",
    "image_paths = outdir.glob('*.png')\n",
    "# to do: glob embeds, only project images that we haven't already embedded\n",
    "with torch.no_grad():\n",
    "    for fpath in image_paths:\n",
    "        im = PIL.Image.open(fpath)\n",
    "        embed = image2dino(im)\n",
    "        embed_path = outdir / (fpath.stem + emb_suffix)\n",
    "        #torch.save(embed, embed_path) # 2.3mb for a 1x384 vector? wtf?\n",
    "        arr = np.array(embed.cpu())\n",
    "        np.save(embed_path, arr) # adds \".npy\" extension. whatever.\n",
    "        #break\n"
   ]
  },
  {
   "cell_type": "code",
   "execution_count": 142,
   "id": "a4f16afa-a4ec-46bf-9b7e-23339447b8ba",
   "metadata": {
    "tags": []
   },
   "outputs": [],
   "source": [
    "# 1. load embeddings\n",
    "# 2. compute cumulative variance\n",
    "# 3. plot variance convergence\n",
    "\n",
    "embed_paths = outdir.glob('*.embed.*')\n",
    "embeds = []\n",
    "for fpath in embed_paths:\n",
    "    embed = np.load(fpath)\n",
    "    embeds.append(embed)\n",
    "\n",
    "V = []\n",
    "for i in range(3, len(embeds)+1):\n",
    "    x = np.concatenate(embeds[:i]) #.shape\n",
    "    cv = np.cov(x.T)\n",
    "    #np.linalg.det(cv) # :(\n",
    "    v = np.trace(cv) / cv.shape[-1]\n",
    "    V.append(v)"
   ]
  },
  {
   "cell_type": "code",
   "execution_count": 144,
   "id": "5614b229-4650-4fdd-ba76-fa6310a9b2ac",
   "metadata": {
    "tags": []
   },
   "outputs": [
    {
     "data": {
      "text/plain": [
       "[<matplotlib.lines.Line2D at 0x7f09af17b640>]"
      ]
     },
     "execution_count": 144,
     "metadata": {},
     "output_type": "execute_result"
    },
    {
     "data": {
      "image/png": "[encoded data removed]",
      "text/plain": [
       "<Figure size 640x480 with 1 Axes>"
      ]
     },
     "metadata": {},
     "output_type": "display_data"
    }
   ],
   "source": [
    "import matplotlib.pyplot as plt\n",
    "plt.plot(V)"
   ]
  },
  {
   "cell_type": "markdown",
   "id": "ab83c5fc-e79e-4ea6-8a3b-5196bd3eedc9",
   "metadata": {},
   "source": [
    "# TODO\n",
    "\n",
    "* [ ] filtter out images with more than one face in them (check and report on what gets pulled out)\n",
    "* [ ] calibrate # images for experiments\n",
    "  * \"power analysis\" - how many images do we need to detect the variance threshold we're interested in?\"\n",
    "* [ ] DINOv2 embeddings\n",
    "* [ ] upload images to HF\n",
    "* [ ] per-prompt (cluster) summary statistics\n",
    "* [ ] tSNE\n",
    "* [ ] separately generate and save input clip emberddings of prompts\n",
    "* [ ] score images relative to centroid in addition to summary statistic for cluster\n",
    "* [ ] repeat procedure across several checkpoints, compare per-cluster summary statistics across checkpoints. expect to observe narrowing of biases as checkpoints are progressively finetuned."
   ]
  },
  {
   "cell_type": "code",
   "execution_count": null,
   "id": "ca0d4015-74f0-4fa0-8faf-a5936b01044e",
   "metadata": {},
   "outputs": [],
   "source": [
    "# DINOv2 embeddings"
   ]
  }
 ],
 "metadata": {
  "kernelspec": {
   "display_name": "Python 3 (ipykernel)",
   "language": "python",
   "name": "python3"
  },
  "language_info": {
   "codemirror_mode": {
    "name": "ipython",
    "version": 3
   },
   "file_extension": ".py",
   "mimetype": "text/x-python",
   "name": "python",
   "nbconvert_exporter": "python",
   "pygments_lexer": "ipython3",
   "version": "3.10.12"
  }
 },
 "nbformat": 4,
 "nbformat_minor": 5
}
