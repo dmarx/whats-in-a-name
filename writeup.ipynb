{
 "cells": [
  {
   "cell_type": "markdown",
   "id": "d400cb80-be73-40fd-8eff-c53f2ba97f6f",
   "metadata": {},
   "source": [
    "# What's In A Name? Investigating Bias And Identity In Text-To-Image Models\n",
    "\n",
    "## Introduction\n",
    "\n",
    "* biases in names\n",
    "* known identities (\"strong entities\")\n",
    "* overfitted identities (memorized images)\n",
    "  * mona lisa?\n",
    "\n",
    "* Just investigating biases, not making normative statements\n",
    "\n",
    "* associated hypotheses\n",
    "* out of scope hypotheses (future work)\n",
    "\n",
    "## Methodology [wip]\n",
    "\n",
    "* choosing names\n",
    "* generating images\n",
    "\n",
    "## Experiments\n",
    "\n",
    "* calibrating minimum # images\n",
    "* investigating which embedding representation to use\n",
    "* experimenting with summary statistics\n",
    "\n",
    "## Insights\n",
    "\n",
    "* presumptive phases of bias formation\n",
    "* correlation between age bias and popularity of names by birth year\n",
    "* strength of ethnic bias reflects undersampled data class\n",
    "  * strong biases hint at low data cardinality for the given class\n",
    "\n",
    "\n",
    "## Discussion\n",
    "\n"
   ]
  }
 ],
 "metadata": {
  "kernelspec": {
   "display_name": "Python 3 (ipykernel)",
   "language": "python",
   "name": "python3"
  },
  "language_info": {
   "codemirror_mode": {
    "name": "ipython",
    "version": 3
   },
   "file_extension": ".py",
   "mimetype": "text/x-python",
   "name": "python",
   "nbconvert_exporter": "python",
   "pygments_lexer": "ipython3",
   "version": "3.10.12"
  }
 },
 "nbformat": 4,
 "nbformat_minor": 5
}
